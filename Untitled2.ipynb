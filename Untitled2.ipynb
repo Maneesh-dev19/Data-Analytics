{
  "nbformat": 4,
  "nbformat_minor": 0,
  "metadata": {
    "colab": {
      "provenance": [],
      "authorship_tag": "ABX9TyMpM9OnRfZXJfRzzYGCkQDw",
      "include_colab_link": true
    },
    "kernelspec": {
      "name": "python3",
      "display_name": "Python 3"
    },
    "language_info": {
      "name": "python"
    }
  },
  "cells": [
    {
      "cell_type": "markdown",
      "metadata": {
        "id": "view-in-github",
        "colab_type": "text"
      },
      "source": [
        "<a href=\"https://colab.research.google.com/github/Maneesh-dev19/Data-Analytics/blob/main/Untitled2.ipynb\" target=\"_parent\"><img src=\"https://colab.research.google.com/assets/colab-badge.svg\" alt=\"Open In Colab\"/></a>"
      ]
    },
    {
      "cell_type": "code",
      "execution_count": null,
      "metadata": {
        "colab": {
          "base_uri": "https://localhost:8080/"
        },
        "id": "ZRxyrV6svRZp",
        "outputId": "21b8cb49-aa18-42b4-f0e5-1488754e5dac"
      },
      "outputs": [
        {
          "output_type": "stream",
          "name": "stdout",
          "text": [
            "Mounted at /content/gdrive\n"
          ]
        }
      ],
      "source": [
        "from google.colab import drive\n",
        "drive.mount('/content/gdrive', force_remount=True)"
      ]
    },
    {
      "cell_type": "code",
      "source": [
        "import random\n",
        "import csv"
      ],
      "metadata": {
        "id": "CXYF53jdvky_"
      },
      "execution_count": null,
      "outputs": []
    },
    {
      "cell_type": "code",
      "source": [
        "def g_0(n):\n",
        "    return (\"?\",)*n\n",
        "\n",
        "def s_0(n):\n",
        "    return ('0',)*n"
      ],
      "metadata": {
        "id": "YLqnvCOWvkvQ"
      },
      "execution_count": null,
      "outputs": []
    },
    {
      "cell_type": "code",
      "source": [
        "def more_general(h1, h2):\n",
        "    more_general_parts = []\n",
        "    for x, y in zip(h1, h2):\n",
        "        mg = x == \"?\" or (x != \"0\" and (x == y or y == \"0\"))\n",
        "        more_general_parts.append(mg)\n",
        "    return all(more_general_parts)\n",
        "\n",
        "l1 = [1, 2, 3]\n",
        "l2 = [3, 4, 5]\n",
        "\n",
        "list(zip(l1, l2))"
      ],
      "metadata": {
        "colab": {
          "base_uri": "https://localhost:8080/"
        },
        "id": "qsieh-U6vksq",
        "outputId": "548d53d2-ccf8-418c-8a05-439ae5caa200"
      },
      "execution_count": null,
      "outputs": [
        {
          "output_type": "execute_result",
          "data": {
            "text/plain": [
              "[(1, 3), (2, 4), (3, 5)]"
            ]
          },
          "metadata": {},
          "execution_count": 6
        }
      ]
    },
    {
      "cell_type": "code",
      "source": [
        "def fulfills(example, hypothesis):\n",
        "    ### the implementation is the same as for hypotheses:\n",
        "    return more_general(hypothesis, example)\n",
        "\n",
        "def min_generalizations(h, x):\n",
        "    h_new = list(h)\n",
        "    for i in range(len(h)):\n",
        "        if not fulfills(x[i:i+1], h[i:i+1]):\n",
        "            h_new[i] = '?' if h[i] != '0' else x[i]\n",
        "    return [tuple(h_new)]"
      ],
      "metadata": {
        "id": "RqOvfLolvkqX"
      },
      "execution_count": null,
      "outputs": []
    },
    {
      "cell_type": "code",
      "source": [
        "min_generalizations(h=('0', '0'  , 'sunny'),\n",
        "                    x=('rainy', 'windy', 'cloudy'))"
      ],
      "metadata": {
        "colab": {
          "base_uri": "https://localhost:8080/"
        },
        "id": "yU6cHaC0vkne",
        "outputId": "c109297d-e1ab-4171-8dd6-2f8d444d1c52"
      },
      "execution_count": null,
      "outputs": [
        {
          "output_type": "execute_result",
          "data": {
            "text/plain": [
              "[('rainy', 'windy', '?')]"
            ]
          },
          "metadata": {},
          "execution_count": 8
        }
      ]
    },
    {
      "cell_type": "code",
      "source": [
        "\n",
        "def min_specializations(h, domains, x):\n",
        "    results = []\n",
        "    for i in range(len(h)):\n",
        "        if h[i] == \"?\":\n",
        "            for val in domains[i]:\n",
        "                if x[i] != val:\n",
        "                    h_new = h[:i] + (val,) + h[i+1:]\n",
        "                    results.append(h_new)\n",
        "        elif h[i] != \"0\":\n",
        "            h_new = h[:i] + ('0',) + h[i+1:]\n",
        "            results.append(h_new)\n",
        "    return results"
      ],
      "metadata": {
        "id": "wPslTn0Svkkp"
      },
      "execution_count": null,
      "outputs": []
    },
    {
      "cell_type": "code",
      "source": [
        "min_specializations(h=('?', 'x',),\n",
        "                    domains=[['a', 'b', 'c'], ['x', 'y']],\n",
        "                    x=('b', 'x'))"
      ],
      "metadata": {
        "colab": {
          "base_uri": "https://localhost:8080/"
        },
        "id": "Vfh1sSHOvkiD",
        "outputId": "3c281545-5ffa-4592-d2ae-fd278f65cf0f"
      },
      "execution_count": null,
      "outputs": [
        {
          "output_type": "execute_result",
          "data": {
            "text/plain": [
              "[('a', 'x'), ('c', 'x'), ('?', '0')]"
            ]
          },
          "metadata": {},
          "execution_count": 10
        }
      ]
    },
    {
      "cell_type": "code",
      "source": [
        "\n",
        "print(\"\\n The Given Training Data Set \\n\")\n",
        "with open('/content/gdrive/My Drive/ML_lab/EnjoySport.csv', 'r') as csvFile:\n",
        "  examples = [tuple(line) for line in csv.reader(csvFile)]\n",
        "examples"
      ],
      "metadata": {
        "colab": {
          "base_uri": "https://localhost:8080/"
        },
        "id": "Tzm1D87Dvke8",
        "outputId": "68d881ca-8cd2-4798-f183-18639b7b17ea"
      },
      "execution_count": null,
      "outputs": [
        {
          "output_type": "stream",
          "name": "stdout",
          "text": [
            "\n",
            " The Given Training Data Set \n",
            "\n"
          ]
        },
        {
          "output_type": "execute_result",
          "data": {
            "text/plain": [
              "[('Sunny', 'Warm', 'Normal', 'Strong', 'Warm', 'Same', 'Yes'),\n",
              " ('Sunny', 'Warm', 'High', 'Strong', 'Warm', 'Same', 'Yes'),\n",
              " ('Rainy', 'Cold', 'High', 'Strong', 'Warm', 'Change', 'No'),\n",
              " ('Sunny', 'Warm', 'High', 'Strong', 'Cool', 'Change', 'Yes')]"
            ]
          },
          "metadata": {},
          "execution_count": 11
        }
      ]
    },
    {
      "cell_type": "code",
      "source": [
        "def get_domains(examples):\n",
        "    d = [set() for i in examples[0]]\n",
        "    for x in examples:\n",
        "        for i, xi in enumerate(x):\n",
        "            d[i].add(xi)\n",
        "    return [list(sorted(x)) for x in d]\n",
        "\n",
        "get_domains(examples)"
      ],
      "metadata": {
        "colab": {
          "base_uri": "https://localhost:8080/"
        },
        "id": "U--BqbX9v2J7",
        "outputId": "80c1ff8a-1ee8-4967-b21b-d2252b37e6d0"
      },
      "execution_count": null,
      "outputs": [
        {
          "output_type": "execute_result",
          "data": {
            "text/plain": [
              "[['Rainy', 'Sunny'],\n",
              " ['Cold', 'Warm'],\n",
              " ['High', 'Normal'],\n",
              " ['Strong'],\n",
              " ['Cool', 'Warm'],\n",
              " ['Change', 'Same'],\n",
              " ['No', 'Yes']]"
            ]
          },
          "metadata": {},
          "execution_count": 12
        }
      ]
    },
    {
      "cell_type": "code",
      "source": [
        "def candidate_elimination(examples):\n",
        "    domains = get_domains(examples)[:-1]\n",
        "\n",
        "    G = set([g_0(len(domains))])\n",
        "    S = set([s_0(len(domains))])\n",
        "    i=0\n",
        "    print(\"\\n G[{0}]:\".format(i),G)\n",
        "    print(\"\\n S[{0}]:\".format(i),S)\n",
        "    for xcx in examples:\n",
        "        i=i+1\n",
        "        x, cx = xcx[:-1], xcx[-1]  # Splitting data into attributes and decisions\n",
        "        if cx=='Y': # x is positive example\n",
        "            G = {g for g in G if fulfills(x, g)}\n",
        "            S = generalize_S(x, G, S)\n",
        "        else: # x is negative example\n",
        "            S = {s for s in S if not fulfills(x, s)}\n",
        "            G = specialize_G(x, domains, G, S)\n",
        "        print(\"\\n G[{0}]:\\n\".format(i),G)\n",
        "        print(\"\\n S[{0}]:\\n\".format(i),S)\n",
        "    return"
      ],
      "metadata": {
        "id": "28UVV6Vfv1-x"
      },
      "execution_count": null,
      "outputs": []
    },
    {
      "cell_type": "code",
      "source": [
        "def generalize_S(x, G, S):\n",
        "    S_prev = list(S)\n",
        "    for s in S_prev:\n",
        "        if s not in S:\n",
        "            continue\n",
        "        if not fulfills(x, s):\n",
        "            S.remove(s)\n",
        "            Splus = min_generalizations(s, x)\n",
        "            ## keep only generalizations that have a counterpart in G\n",
        "            S.update([h for h in Splus if any([more_general(g,h)\n",
        "                                               for g in G])])\n",
        "            ## remove hypotheses less specific than any other in S\n",
        "            S.difference_update([h for h in S if\n",
        "                                 any([more_general(h, h1)\n",
        "                                      for h1 in S if h != h1])])\n",
        "    return S"
      ],
      "metadata": {
        "id": "zcZ6oPkRv11Y"
      },
      "execution_count": null,
      "outputs": []
    },
    {
      "cell_type": "code",
      "source": [
        "def specialize_G(x, domains, G, S):\n",
        "    G_prev = list(G)\n",
        "    for g in G_prev:\n",
        "        if g not in G:\n",
        "            continue\n",
        "        if fulfills(x, g):\n",
        "            G.remove(g)\n",
        "            Gminus = min_specializations(g, domains, x)\n",
        "            ## keep only specializations that have a conuterpart in S\n",
        "            G.update([h for h in Gminus if any([more_general(h, s)\n",
        "                                                for s in S])])\n",
        "            ## remove hypotheses less general than any other in G\n",
        "            G.difference_update([h for h in G if\n",
        "                                 any([more_general(g1, h)\n",
        "                                      for g1 in G if h != g1])])\n",
        "    return G"
      ],
      "metadata": {
        "id": "2PS7UIh9v-DK"
      },
      "execution_count": null,
      "outputs": []
    },
    {
      "cell_type": "code",
      "source": [
        "candidate_elimination(examples)"
      ],
      "metadata": {
        "colab": {
          "base_uri": "https://localhost:8080/"
        },
        "id": "tQjscVAcv9_u",
        "outputId": "2328fe39-11ec-4548-daa1-1b3a9cca0a62"
      },
      "execution_count": null,
      "outputs": [
        {
          "output_type": "stream",
          "name": "stdout",
          "text": [
            "\n",
            " G[0]: {('?', '?', '?', '?', '?', '?')}\n",
            "\n",
            " S[0]: {('0', '0', '0', '0', '0', '0')}\n",
            "\n",
            " G[1]:\n",
            " {('?', 'Cold', '?', '?', '?', '?'), ('?', '?', 'High', '?', '?', '?'), ('?', '?', '?', '?', 'Cool', '?'), ('Rainy', '?', '?', '?', '?', '?'), ('?', '?', '?', '?', '?', 'Change')}\n",
            "\n",
            " S[1]:\n",
            " {('0', '0', '0', '0', '0', '0')}\n",
            "\n",
            " G[2]:\n",
            " {('?', 'Cold', '?', '?', '?', '?'), ('?', '?', '?', '?', 'Cool', '?'), ('Rainy', '?', '?', '?', '?', '?'), ('?', '?', '?', '?', '?', 'Change')}\n",
            "\n",
            " S[2]:\n",
            " {('0', '0', '0', '0', '0', '0')}\n",
            "\n",
            " G[3]:\n",
            " {('?', 'Warm', '?', '?', '?', 'Change'), ('Rainy', 'Warm', '?', '?', '?', '?'), ('?', '?', 'Normal', '?', '?', 'Change'), ('Rainy', '?', '?', '?', '?', 'Same'), ('?', 'Cold', '?', '?', '?', 'Same'), ('Sunny', '?', '?', '?', '?', 'Change'), ('?', '?', '?', '?', 'Cool', '?'), ('Rainy', '?', 'Normal', '?', '?', '?'), ('?', 'Cold', 'Normal', '?', '?', '?'), ('Sunny', 'Cold', '?', '?', '?', '?')}\n",
            "\n",
            " S[3]:\n",
            " {('0', '0', '0', '0', '0', '0')}\n",
            "\n",
            " G[4]:\n",
            " {('Rainy', 'Warm', '?', '?', '?', '?'), ('?', '?', 'Normal', '?', '?', 'Change'), ('Rainy', '?', '?', '?', '?', 'Same'), ('?', 'Cold', '?', '?', '?', 'Same'), ('Rainy', '?', 'Normal', '?', '?', '?'), ('?', 'Cold', 'Normal', '?', '?', '?'), ('?', 'Cold', '?', '?', 'Cool', '?'), ('Sunny', 'Cold', '?', '?', '?', '?'), ('Rainy', '?', '?', '?', 'Cool', '?'), ('?', '?', '?', '?', 'Cool', 'Same'), ('?', '?', 'Normal', '?', 'Cool', '?'), ('Sunny', '?', '?', '?', 'Warm', 'Change'), ('?', 'Warm', '?', '?', 'Warm', 'Change')}\n",
            "\n",
            " S[4]:\n",
            " {('0', '0', '0', '0', '0', '0')}\n"
          ]
        }
      ]
    }
  ]
}