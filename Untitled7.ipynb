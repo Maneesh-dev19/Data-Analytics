{
  "nbformat": 4,
  "nbformat_minor": 0,
  "metadata": {
    "colab": {
      "provenance": [],
      "authorship_tag": "ABX9TyOk0S3h4gPQtnQC10no8ncB",
      "include_colab_link": true
    },
    "kernelspec": {
      "name": "python3",
      "display_name": "Python 3"
    },
    "language_info": {
      "name": "python"
    }
  },
  "cells": [
    {
      "cell_type": "markdown",
      "metadata": {
        "id": "view-in-github",
        "colab_type": "text"
      },
      "source": [
        "<a href=\"https://colab.research.google.com/github/Maneesh-dev19/Data-Analytics/blob/main/Untitled7.ipynb\" target=\"_parent\"><img src=\"https://colab.research.google.com/assets/colab-badge.svg\" alt=\"Open In Colab\"/></a>"
      ]
    },
    {
      "cell_type": "code",
      "execution_count": null,
      "metadata": {
        "colab": {
          "base_uri": "https://localhost:8080/"
        },
        "id": "1k4T2t-IHhkm",
        "outputId": "35d12c15-ca1e-4b51-a37e-32d6e09283cf"
      },
      "outputs": [
        {
          "output_type": "stream",
          "name": "stdout",
          "text": [
            "Mounted at /content/gdrive\n"
          ]
        }
      ],
      "source": [
        "from google.colab import drive\n",
        "drive.mount('/content/gdrive', force_remount=True)"
      ]
    },
    {
      "cell_type": "code",
      "source": [
        "import numpy as np\n",
        "import pandas as pd\n",
        "\n",
        "import warnings\n",
        "warnings.filterwarnings('ignore')"
      ],
      "metadata": {
        "id": "OZB5BFpeLJgl"
      },
      "execution_count": null,
      "outputs": []
    },
    {
      "cell_type": "code",
      "source": [
        "import seaborn as sns\n",
        "import scipy.stats as stats"
      ],
      "metadata": {
        "id": "gaMqpvT6M8QM"
      },
      "execution_count": null,
      "outputs": []
    },
    {
      "cell_type": "code",
      "source": [
        "data= pd.read_csv('/content/gdrive/My Drive/ML_lab/floods.csv')"
      ],
      "metadata": {
        "id": "ItRRuz4MLSST"
      },
      "execution_count": null,
      "outputs": []
    },
    {
      "cell_type": "code",
      "source": [
        "data.head()"
      ],
      "metadata": {
        "colab": {
          "base_uri": "https://localhost:8080/",
          "height": 235
        },
        "id": "ZZ_rUWV2LXwE",
        "outputId": "9bed3d13-b320-4161-9825-694c5c6f2742"
      },
      "execution_count": null,
      "outputs": [
        {
          "output_type": "execute_result",
          "data": {
            "text/plain": [
              "   Unnamed: 0 SUBDIVISION  YEAR   JAN   FEB   MAR    APR    MAY     JUN  \\\n",
              "0        3887      KERALA  1901  28.7  44.7  51.6  160.0  174.7   824.6   \n",
              "1        3888      KERALA  1902   6.7   2.6  57.3   83.9  134.5   390.9   \n",
              "2        3889      KERALA  1903   3.2  18.6   3.1   83.6  249.7   558.6   \n",
              "3        3890      KERALA  1904  23.7   3.0  32.2   71.5  235.7  1098.2   \n",
              "4        3891      KERALA  1905   1.2  22.3   9.4  105.9  263.3   850.2   \n",
              "\n",
              "      JUL  ...    NOV    DEC  ANNUAL  Jan-Feb  Mar-May  Jun-Sep  Oct-Dec  \\\n",
              "0   743.0  ...  350.8   48.4  3248.6     73.4    386.2   2122.8    666.1   \n",
              "1  1205.0  ...  158.3  121.5  3326.6      9.3    275.7   2403.4    638.2   \n",
              "2  1022.5  ...  157.0   59.0  3271.2     21.7    336.3   2343.0    570.1   \n",
              "3   725.5  ...   33.9    3.3  3129.7     26.7    339.4   2398.2    365.3   \n",
              "4   520.5  ...   74.4    0.2  2741.6     23.4    378.5   1881.5    458.1   \n",
              "\n",
              "   flood  10days_june  increased Rainfall  \n",
              "0      0   274.866667               649.9  \n",
              "1      1   130.300000               256.4  \n",
              "2      0   186.200000               308.9  \n",
              "3      0   366.066667               862.5  \n",
              "4      0   283.400000               586.9  \n",
              "\n",
              "[5 rows x 23 columns]"
            ],
            "text/html": [
              "\n",
              "  <div id=\"df-8163fa47-a978-4f72-9bf5-a03f89975d5e\">\n",
              "    <div class=\"colab-df-container\">\n",
              "      <div>\n",
              "<style scoped>\n",
              "    .dataframe tbody tr th:only-of-type {\n",
              "        vertical-align: middle;\n",
              "    }\n",
              "\n",
              "    .dataframe tbody tr th {\n",
              "        vertical-align: top;\n",
              "    }\n",
              "\n",
              "    .dataframe thead th {\n",
              "        text-align: right;\n",
              "    }\n",
              "</style>\n",
              "<table border=\"1\" class=\"dataframe\">\n",
              "  <thead>\n",
              "    <tr style=\"text-align: right;\">\n",
              "      <th></th>\n",
              "      <th>Unnamed: 0</th>\n",
              "      <th>SUBDIVISION</th>\n",
              "      <th>YEAR</th>\n",
              "      <th>JAN</th>\n",
              "      <th>FEB</th>\n",
              "      <th>MAR</th>\n",
              "      <th>APR</th>\n",
              "      <th>MAY</th>\n",
              "      <th>JUN</th>\n",
              "      <th>JUL</th>\n",
              "      <th>...</th>\n",
              "      <th>NOV</th>\n",
              "      <th>DEC</th>\n",
              "      <th>ANNUAL</th>\n",
              "      <th>Jan-Feb</th>\n",
              "      <th>Mar-May</th>\n",
              "      <th>Jun-Sep</th>\n",
              "      <th>Oct-Dec</th>\n",
              "      <th>flood</th>\n",
              "      <th>10days_june</th>\n",
              "      <th>increased Rainfall</th>\n",
              "    </tr>\n",
              "  </thead>\n",
              "  <tbody>\n",
              "    <tr>\n",
              "      <th>0</th>\n",
              "      <td>3887</td>\n",
              "      <td>KERALA</td>\n",
              "      <td>1901</td>\n",
              "      <td>28.7</td>\n",
              "      <td>44.7</td>\n",
              "      <td>51.6</td>\n",
              "      <td>160.0</td>\n",
              "      <td>174.7</td>\n",
              "      <td>824.6</td>\n",
              "      <td>743.0</td>\n",
              "      <td>...</td>\n",
              "      <td>350.8</td>\n",
              "      <td>48.4</td>\n",
              "      <td>3248.6</td>\n",
              "      <td>73.4</td>\n",
              "      <td>386.2</td>\n",
              "      <td>2122.8</td>\n",
              "      <td>666.1</td>\n",
              "      <td>0</td>\n",
              "      <td>274.866667</td>\n",
              "      <td>649.9</td>\n",
              "    </tr>\n",
              "    <tr>\n",
              "      <th>1</th>\n",
              "      <td>3888</td>\n",
              "      <td>KERALA</td>\n",
              "      <td>1902</td>\n",
              "      <td>6.7</td>\n",
              "      <td>2.6</td>\n",
              "      <td>57.3</td>\n",
              "      <td>83.9</td>\n",
              "      <td>134.5</td>\n",
              "      <td>390.9</td>\n",
              "      <td>1205.0</td>\n",
              "      <td>...</td>\n",
              "      <td>158.3</td>\n",
              "      <td>121.5</td>\n",
              "      <td>3326.6</td>\n",
              "      <td>9.3</td>\n",
              "      <td>275.7</td>\n",
              "      <td>2403.4</td>\n",
              "      <td>638.2</td>\n",
              "      <td>1</td>\n",
              "      <td>130.300000</td>\n",
              "      <td>256.4</td>\n",
              "    </tr>\n",
              "    <tr>\n",
              "      <th>2</th>\n",
              "      <td>3889</td>\n",
              "      <td>KERALA</td>\n",
              "      <td>1903</td>\n",
              "      <td>3.2</td>\n",
              "      <td>18.6</td>\n",
              "      <td>3.1</td>\n",
              "      <td>83.6</td>\n",
              "      <td>249.7</td>\n",
              "      <td>558.6</td>\n",
              "      <td>1022.5</td>\n",
              "      <td>...</td>\n",
              "      <td>157.0</td>\n",
              "      <td>59.0</td>\n",
              "      <td>3271.2</td>\n",
              "      <td>21.7</td>\n",
              "      <td>336.3</td>\n",
              "      <td>2343.0</td>\n",
              "      <td>570.1</td>\n",
              "      <td>0</td>\n",
              "      <td>186.200000</td>\n",
              "      <td>308.9</td>\n",
              "    </tr>\n",
              "    <tr>\n",
              "      <th>3</th>\n",
              "      <td>3890</td>\n",
              "      <td>KERALA</td>\n",
              "      <td>1904</td>\n",
              "      <td>23.7</td>\n",
              "      <td>3.0</td>\n",
              "      <td>32.2</td>\n",
              "      <td>71.5</td>\n",
              "      <td>235.7</td>\n",
              "      <td>1098.2</td>\n",
              "      <td>725.5</td>\n",
              "      <td>...</td>\n",
              "      <td>33.9</td>\n",
              "      <td>3.3</td>\n",
              "      <td>3129.7</td>\n",
              "      <td>26.7</td>\n",
              "      <td>339.4</td>\n",
              "      <td>2398.2</td>\n",
              "      <td>365.3</td>\n",
              "      <td>0</td>\n",
              "      <td>366.066667</td>\n",
              "      <td>862.5</td>\n",
              "    </tr>\n",
              "    <tr>\n",
              "      <th>4</th>\n",
              "      <td>3891</td>\n",
              "      <td>KERALA</td>\n",
              "      <td>1905</td>\n",
              "      <td>1.2</td>\n",
              "      <td>22.3</td>\n",
              "      <td>9.4</td>\n",
              "      <td>105.9</td>\n",
              "      <td>263.3</td>\n",
              "      <td>850.2</td>\n",
              "      <td>520.5</td>\n",
              "      <td>...</td>\n",
              "      <td>74.4</td>\n",
              "      <td>0.2</td>\n",
              "      <td>2741.6</td>\n",
              "      <td>23.4</td>\n",
              "      <td>378.5</td>\n",
              "      <td>1881.5</td>\n",
              "      <td>458.1</td>\n",
              "      <td>0</td>\n",
              "      <td>283.400000</td>\n",
              "      <td>586.9</td>\n",
              "    </tr>\n",
              "  </tbody>\n",
              "</table>\n",
              "<p>5 rows × 23 columns</p>\n",
              "</div>\n",
              "      <button class=\"colab-df-convert\" onclick=\"convertToInteractive('df-8163fa47-a978-4f72-9bf5-a03f89975d5e')\"\n",
              "              title=\"Convert this dataframe to an interactive table.\"\n",
              "              style=\"display:none;\">\n",
              "        \n",
              "  <svg xmlns=\"http://www.w3.org/2000/svg\" height=\"24px\"viewBox=\"0 0 24 24\"\n",
              "       width=\"24px\">\n",
              "    <path d=\"M0 0h24v24H0V0z\" fill=\"none\"/>\n",
              "    <path d=\"M18.56 5.44l.94 2.06.94-2.06 2.06-.94-2.06-.94-.94-2.06-.94 2.06-2.06.94zm-11 1L8.5 8.5l.94-2.06 2.06-.94-2.06-.94L8.5 2.5l-.94 2.06-2.06.94zm10 10l.94 2.06.94-2.06 2.06-.94-2.06-.94-.94-2.06-.94 2.06-2.06.94z\"/><path d=\"M17.41 7.96l-1.37-1.37c-.4-.4-.92-.59-1.43-.59-.52 0-1.04.2-1.43.59L10.3 9.45l-7.72 7.72c-.78.78-.78 2.05 0 2.83L4 21.41c.39.39.9.59 1.41.59.51 0 1.02-.2 1.41-.59l7.78-7.78 2.81-2.81c.8-.78.8-2.07 0-2.86zM5.41 20L4 18.59l7.72-7.72 1.47 1.35L5.41 20z\"/>\n",
              "  </svg>\n",
              "      </button>\n",
              "      \n",
              "  <style>\n",
              "    .colab-df-container {\n",
              "      display:flex;\n",
              "      flex-wrap:wrap;\n",
              "      gap: 12px;\n",
              "    }\n",
              "\n",
              "    .colab-df-convert {\n",
              "      background-color: #E8F0FE;\n",
              "      border: none;\n",
              "      border-radius: 50%;\n",
              "      cursor: pointer;\n",
              "      display: none;\n",
              "      fill: #1967D2;\n",
              "      height: 32px;\n",
              "      padding: 0 0 0 0;\n",
              "      width: 32px;\n",
              "    }\n",
              "\n",
              "    .colab-df-convert:hover {\n",
              "      background-color: #E2EBFA;\n",
              "      box-shadow: 0px 1px 2px rgba(60, 64, 67, 0.3), 0px 1px 3px 1px rgba(60, 64, 67, 0.15);\n",
              "      fill: #174EA6;\n",
              "    }\n",
              "\n",
              "    [theme=dark] .colab-df-convert {\n",
              "      background-color: #3B4455;\n",
              "      fill: #D2E3FC;\n",
              "    }\n",
              "\n",
              "    [theme=dark] .colab-df-convert:hover {\n",
              "      background-color: #434B5C;\n",
              "      box-shadow: 0px 1px 3px 1px rgba(0, 0, 0, 0.15);\n",
              "      filter: drop-shadow(0px 1px 2px rgba(0, 0, 0, 0.3));\n",
              "      fill: #FFFFFF;\n",
              "    }\n",
              "  </style>\n",
              "\n",
              "      <script>\n",
              "        const buttonEl =\n",
              "          document.querySelector('#df-8163fa47-a978-4f72-9bf5-a03f89975d5e button.colab-df-convert');\n",
              "        buttonEl.style.display =\n",
              "          google.colab.kernel.accessAllowed ? 'block' : 'none';\n",
              "\n",
              "        async function convertToInteractive(key) {\n",
              "          const element = document.querySelector('#df-8163fa47-a978-4f72-9bf5-a03f89975d5e');\n",
              "          const dataTable =\n",
              "            await google.colab.kernel.invokeFunction('convertToInteractive',\n",
              "                                                     [key], {});\n",
              "          if (!dataTable) return;\n",
              "\n",
              "          const docLinkHtml = 'Like what you see? Visit the ' +\n",
              "            '<a target=\"_blank\" href=https://colab.research.google.com/notebooks/data_table.ipynb>data table notebook</a>'\n",
              "            + ' to learn more about interactive tables.';\n",
              "          element.innerHTML = '';\n",
              "          dataTable['output_type'] = 'display_data';\n",
              "          await google.colab.output.renderOutput(dataTable, element);\n",
              "          const docLink = document.createElement('div');\n",
              "          docLink.innerHTML = docLinkHtml;\n",
              "          element.appendChild(docLink);\n",
              "        }\n",
              "      </script>\n",
              "    </div>\n",
              "  </div>\n",
              "  "
            ]
          },
          "metadata": {},
          "execution_count": 5
        }
      ]
    },
    {
      "cell_type": "code",
      "source": [
        "data.isnull().sum()"
      ],
      "metadata": {
        "colab": {
          "base_uri": "https://localhost:8080/"
        },
        "id": "2zV8wvHGLtJT",
        "outputId": "2b2dadd0-871e-43f5-fee0-61dcfddd5e86"
      },
      "execution_count": null,
      "outputs": [
        {
          "output_type": "execute_result",
          "data": {
            "text/plain": [
              "Unnamed: 0            0\n",
              "SUBDIVISION           0\n",
              "YEAR                  0\n",
              "JAN                   0\n",
              "FEB                   0\n",
              "MAR                   0\n",
              "APR                   0\n",
              "MAY                   0\n",
              "JUN                   0\n",
              "JUL                   0\n",
              "AUG                   0\n",
              "SEP                   0\n",
              "OCT                   0\n",
              "NOV                   0\n",
              "DEC                   0\n",
              "ANNUAL                0\n",
              "Jan-Feb               0\n",
              "Mar-May               0\n",
              "Jun-Sep               0\n",
              "Oct-Dec               0\n",
              "flood                 0\n",
              "10days_june           0\n",
              "increased Rainfall    0\n",
              "dtype: int64"
            ]
          },
          "metadata": {},
          "execution_count": 6
        }
      ]
    },
    {
      "cell_type": "code",
      "source": [
        "data.dropna()"
      ],
      "metadata": {
        "colab": {
          "base_uri": "https://localhost:8080/",
          "height": 572
        },
        "id": "rV85tmbwL2sY",
        "outputId": "a95c5679-6c74-4a18-be76-1844567b4981"
      },
      "execution_count": null,
      "outputs": [
        {
          "output_type": "execute_result",
          "data": {
            "text/plain": [
              "     Unnamed: 0               SUBDIVISION  YEAR   JAN   FEB   MAR    APR  \\\n",
              "0          3887                    KERALA  1901  28.7  44.7  51.6  160.0   \n",
              "1          3888                    KERALA  1902   6.7   2.6  57.3   83.9   \n",
              "2          3889                    KERALA  1903   3.2  18.6   3.1   83.6   \n",
              "3          3890                    KERALA  1904  23.7   3.0  32.2   71.5   \n",
              "4          3891                    KERALA  1905   1.2  22.3   9.4  105.9   \n",
              "..          ...                       ...   ...   ...   ...   ...    ...   \n",
              "800        3882  SOUTH INTERIOR KARNATAKA  2011   2.1  12.4  12.4   80.2   \n",
              "801        3883  SOUTH INTERIOR KARNATAKA  2012   4.6   5.5   8.1   99.0   \n",
              "802        3884  SOUTH INTERIOR KARNATAKA  2013   0.5  10.1  11.7   34.6   \n",
              "803        3885  SOUTH INTERIOR KARNATAKA  2014   0.4   2.4  17.7   46.7   \n",
              "804        3886  SOUTH INTERIOR KARNATAKA  2015   1.7   0.2  24.4   80.5   \n",
              "\n",
              "       MAY     JUN     JUL  ...    NOV    DEC  ANNUAL  Jan-Feb  Mar-May  \\\n",
              "0    174.7   824.6   743.0  ...  350.8   48.4  3248.6     73.4    386.2   \n",
              "1    134.5   390.9  1205.0  ...  158.3  121.5  3326.6      9.3    275.7   \n",
              "2    249.7   558.6  1022.5  ...  157.0   59.0  3271.2     21.7    336.3   \n",
              "3    235.7  1098.2   725.5  ...   33.9    3.3  3129.7     26.7    339.4   \n",
              "4    263.3   850.2   520.5  ...   74.4    0.2  2741.6     23.4    378.5   \n",
              "..     ...     ...     ...  ...    ...    ...     ...      ...      ...   \n",
              "800   83.5   177.1   202.4  ...   56.7    5.0  1087.4     14.5    176.1   \n",
              "801   45.6    81.8   144.7  ...   82.6    6.2   877.8     10.1    152.6   \n",
              "802   95.6   176.2   307.4  ...   24.9    2.4  1110.7     10.6    142.0   \n",
              "803  130.5   106.8   271.6  ...   20.2   18.7  1184.2      2.8    195.0   \n",
              "804  125.3   218.7   112.0  ...  138.1    4.4  1112.5      1.9    230.2   \n",
              "\n",
              "     Jun-Sep  Oct-Dec  flood  10days_june  increased Rainfall  \n",
              "0     2122.8    666.1      0   274.866667               649.9  \n",
              "1     2403.4    638.2      1   130.300000               256.4  \n",
              "2     2343.0    570.1      0   186.200000               308.9  \n",
              "3     2398.2    365.3      0   366.066667               862.5  \n",
              "4     1881.5    458.1      0   283.400000               586.9  \n",
              "..       ...      ...    ...          ...                 ...  \n",
              "800    690.2    206.5      0    59.033333                93.6  \n",
              "801    563.5    151.6      0    27.266667                36.2  \n",
              "802    827.1    131.0      0    58.733333                80.6  \n",
              "803    794.5    191.8      0    35.600000                23.7  \n",
              "804    631.8    248.6      0    72.900000                93.4  \n",
              "\n",
              "[805 rows x 23 columns]"
            ],
            "text/html": [
              "\n",
              "  <div id=\"df-554a02e0-1d77-46fc-8ff9-655f5b49a7e6\">\n",
              "    <div class=\"colab-df-container\">\n",
              "      <div>\n",
              "<style scoped>\n",
              "    .dataframe tbody tr th:only-of-type {\n",
              "        vertical-align: middle;\n",
              "    }\n",
              "\n",
              "    .dataframe tbody tr th {\n",
              "        vertical-align: top;\n",
              "    }\n",
              "\n",
              "    .dataframe thead th {\n",
              "        text-align: right;\n",
              "    }\n",
              "</style>\n",
              "<table border=\"1\" class=\"dataframe\">\n",
              "  <thead>\n",
              "    <tr style=\"text-align: right;\">\n",
              "      <th></th>\n",
              "      <th>Unnamed: 0</th>\n",
              "      <th>SUBDIVISION</th>\n",
              "      <th>YEAR</th>\n",
              "      <th>JAN</th>\n",
              "      <th>FEB</th>\n",
              "      <th>MAR</th>\n",
              "      <th>APR</th>\n",
              "      <th>MAY</th>\n",
              "      <th>JUN</th>\n",
              "      <th>JUL</th>\n",
              "      <th>...</th>\n",
              "      <th>NOV</th>\n",
              "      <th>DEC</th>\n",
              "      <th>ANNUAL</th>\n",
              "      <th>Jan-Feb</th>\n",
              "      <th>Mar-May</th>\n",
              "      <th>Jun-Sep</th>\n",
              "      <th>Oct-Dec</th>\n",
              "      <th>flood</th>\n",
              "      <th>10days_june</th>\n",
              "      <th>increased Rainfall</th>\n",
              "    </tr>\n",
              "  </thead>\n",
              "  <tbody>\n",
              "    <tr>\n",
              "      <th>0</th>\n",
              "      <td>3887</td>\n",
              "      <td>KERALA</td>\n",
              "      <td>1901</td>\n",
              "      <td>28.7</td>\n",
              "      <td>44.7</td>\n",
              "      <td>51.6</td>\n",
              "      <td>160.0</td>\n",
              "      <td>174.7</td>\n",
              "      <td>824.6</td>\n",
              "      <td>743.0</td>\n",
              "      <td>...</td>\n",
              "      <td>350.8</td>\n",
              "      <td>48.4</td>\n",
              "      <td>3248.6</td>\n",
              "      <td>73.4</td>\n",
              "      <td>386.2</td>\n",
              "      <td>2122.8</td>\n",
              "      <td>666.1</td>\n",
              "      <td>0</td>\n",
              "      <td>274.866667</td>\n",
              "      <td>649.9</td>\n",
              "    </tr>\n",
              "    <tr>\n",
              "      <th>1</th>\n",
              "      <td>3888</td>\n",
              "      <td>KERALA</td>\n",
              "      <td>1902</td>\n",
              "      <td>6.7</td>\n",
              "      <td>2.6</td>\n",
              "      <td>57.3</td>\n",
              "      <td>83.9</td>\n",
              "      <td>134.5</td>\n",
              "      <td>390.9</td>\n",
              "      <td>1205.0</td>\n",
              "      <td>...</td>\n",
              "      <td>158.3</td>\n",
              "      <td>121.5</td>\n",
              "      <td>3326.6</td>\n",
              "      <td>9.3</td>\n",
              "      <td>275.7</td>\n",
              "      <td>2403.4</td>\n",
              "      <td>638.2</td>\n",
              "      <td>1</td>\n",
              "      <td>130.300000</td>\n",
              "      <td>256.4</td>\n",
              "    </tr>\n",
              "    <tr>\n",
              "      <th>2</th>\n",
              "      <td>3889</td>\n",
              "      <td>KERALA</td>\n",
              "      <td>1903</td>\n",
              "      <td>3.2</td>\n",
              "      <td>18.6</td>\n",
              "      <td>3.1</td>\n",
              "      <td>83.6</td>\n",
              "      <td>249.7</td>\n",
              "      <td>558.6</td>\n",
              "      <td>1022.5</td>\n",
              "      <td>...</td>\n",
              "      <td>157.0</td>\n",
              "      <td>59.0</td>\n",
              "      <td>3271.2</td>\n",
              "      <td>21.7</td>\n",
              "      <td>336.3</td>\n",
              "      <td>2343.0</td>\n",
              "      <td>570.1</td>\n",
              "      <td>0</td>\n",
              "      <td>186.200000</td>\n",
              "      <td>308.9</td>\n",
              "    </tr>\n",
              "    <tr>\n",
              "      <th>3</th>\n",
              "      <td>3890</td>\n",
              "      <td>KERALA</td>\n",
              "      <td>1904</td>\n",
              "      <td>23.7</td>\n",
              "      <td>3.0</td>\n",
              "      <td>32.2</td>\n",
              "      <td>71.5</td>\n",
              "      <td>235.7</td>\n",
              "      <td>1098.2</td>\n",
              "      <td>725.5</td>\n",
              "      <td>...</td>\n",
              "      <td>33.9</td>\n",
              "      <td>3.3</td>\n",
              "      <td>3129.7</td>\n",
              "      <td>26.7</td>\n",
              "      <td>339.4</td>\n",
              "      <td>2398.2</td>\n",
              "      <td>365.3</td>\n",
              "      <td>0</td>\n",
              "      <td>366.066667</td>\n",
              "      <td>862.5</td>\n",
              "    </tr>\n",
              "    <tr>\n",
              "      <th>4</th>\n",
              "      <td>3891</td>\n",
              "      <td>KERALA</td>\n",
              "      <td>1905</td>\n",
              "      <td>1.2</td>\n",
              "      <td>22.3</td>\n",
              "      <td>9.4</td>\n",
              "      <td>105.9</td>\n",
              "      <td>263.3</td>\n",
              "      <td>850.2</td>\n",
              "      <td>520.5</td>\n",
              "      <td>...</td>\n",
              "      <td>74.4</td>\n",
              "      <td>0.2</td>\n",
              "      <td>2741.6</td>\n",
              "      <td>23.4</td>\n",
              "      <td>378.5</td>\n",
              "      <td>1881.5</td>\n",
              "      <td>458.1</td>\n",
              "      <td>0</td>\n",
              "      <td>283.400000</td>\n",
              "      <td>586.9</td>\n",
              "    </tr>\n",
              "    <tr>\n",
              "      <th>...</th>\n",
              "      <td>...</td>\n",
              "      <td>...</td>\n",
              "      <td>...</td>\n",
              "      <td>...</td>\n",
              "      <td>...</td>\n",
              "      <td>...</td>\n",
              "      <td>...</td>\n",
              "      <td>...</td>\n",
              "      <td>...</td>\n",
              "      <td>...</td>\n",
              "      <td>...</td>\n",
              "      <td>...</td>\n",
              "      <td>...</td>\n",
              "      <td>...</td>\n",
              "      <td>...</td>\n",
              "      <td>...</td>\n",
              "      <td>...</td>\n",
              "      <td>...</td>\n",
              "      <td>...</td>\n",
              "      <td>...</td>\n",
              "      <td>...</td>\n",
              "    </tr>\n",
              "    <tr>\n",
              "      <th>800</th>\n",
              "      <td>3882</td>\n",
              "      <td>SOUTH INTERIOR KARNATAKA</td>\n",
              "      <td>2011</td>\n",
              "      <td>2.1</td>\n",
              "      <td>12.4</td>\n",
              "      <td>12.4</td>\n",
              "      <td>80.2</td>\n",
              "      <td>83.5</td>\n",
              "      <td>177.1</td>\n",
              "      <td>202.4</td>\n",
              "      <td>...</td>\n",
              "      <td>56.7</td>\n",
              "      <td>5.0</td>\n",
              "      <td>1087.4</td>\n",
              "      <td>14.5</td>\n",
              "      <td>176.1</td>\n",
              "      <td>690.2</td>\n",
              "      <td>206.5</td>\n",
              "      <td>0</td>\n",
              "      <td>59.033333</td>\n",
              "      <td>93.6</td>\n",
              "    </tr>\n",
              "    <tr>\n",
              "      <th>801</th>\n",
              "      <td>3883</td>\n",
              "      <td>SOUTH INTERIOR KARNATAKA</td>\n",
              "      <td>2012</td>\n",
              "      <td>4.6</td>\n",
              "      <td>5.5</td>\n",
              "      <td>8.1</td>\n",
              "      <td>99.0</td>\n",
              "      <td>45.6</td>\n",
              "      <td>81.8</td>\n",
              "      <td>144.7</td>\n",
              "      <td>...</td>\n",
              "      <td>82.6</td>\n",
              "      <td>6.2</td>\n",
              "      <td>877.8</td>\n",
              "      <td>10.1</td>\n",
              "      <td>152.6</td>\n",
              "      <td>563.5</td>\n",
              "      <td>151.6</td>\n",
              "      <td>0</td>\n",
              "      <td>27.266667</td>\n",
              "      <td>36.2</td>\n",
              "    </tr>\n",
              "    <tr>\n",
              "      <th>802</th>\n",
              "      <td>3884</td>\n",
              "      <td>SOUTH INTERIOR KARNATAKA</td>\n",
              "      <td>2013</td>\n",
              "      <td>0.5</td>\n",
              "      <td>10.1</td>\n",
              "      <td>11.7</td>\n",
              "      <td>34.6</td>\n",
              "      <td>95.6</td>\n",
              "      <td>176.2</td>\n",
              "      <td>307.4</td>\n",
              "      <td>...</td>\n",
              "      <td>24.9</td>\n",
              "      <td>2.4</td>\n",
              "      <td>1110.7</td>\n",
              "      <td>10.6</td>\n",
              "      <td>142.0</td>\n",
              "      <td>827.1</td>\n",
              "      <td>131.0</td>\n",
              "      <td>0</td>\n",
              "      <td>58.733333</td>\n",
              "      <td>80.6</td>\n",
              "    </tr>\n",
              "    <tr>\n",
              "      <th>803</th>\n",
              "      <td>3885</td>\n",
              "      <td>SOUTH INTERIOR KARNATAKA</td>\n",
              "      <td>2014</td>\n",
              "      <td>0.4</td>\n",
              "      <td>2.4</td>\n",
              "      <td>17.7</td>\n",
              "      <td>46.7</td>\n",
              "      <td>130.5</td>\n",
              "      <td>106.8</td>\n",
              "      <td>271.6</td>\n",
              "      <td>...</td>\n",
              "      <td>20.2</td>\n",
              "      <td>18.7</td>\n",
              "      <td>1184.2</td>\n",
              "      <td>2.8</td>\n",
              "      <td>195.0</td>\n",
              "      <td>794.5</td>\n",
              "      <td>191.8</td>\n",
              "      <td>0</td>\n",
              "      <td>35.600000</td>\n",
              "      <td>23.7</td>\n",
              "    </tr>\n",
              "    <tr>\n",
              "      <th>804</th>\n",
              "      <td>3886</td>\n",
              "      <td>SOUTH INTERIOR KARNATAKA</td>\n",
              "      <td>2015</td>\n",
              "      <td>1.7</td>\n",
              "      <td>0.2</td>\n",
              "      <td>24.4</td>\n",
              "      <td>80.5</td>\n",
              "      <td>125.3</td>\n",
              "      <td>218.7</td>\n",
              "      <td>112.0</td>\n",
              "      <td>...</td>\n",
              "      <td>138.1</td>\n",
              "      <td>4.4</td>\n",
              "      <td>1112.5</td>\n",
              "      <td>1.9</td>\n",
              "      <td>230.2</td>\n",
              "      <td>631.8</td>\n",
              "      <td>248.6</td>\n",
              "      <td>0</td>\n",
              "      <td>72.900000</td>\n",
              "      <td>93.4</td>\n",
              "    </tr>\n",
              "  </tbody>\n",
              "</table>\n",
              "<p>805 rows × 23 columns</p>\n",
              "</div>\n",
              "      <button class=\"colab-df-convert\" onclick=\"convertToInteractive('df-554a02e0-1d77-46fc-8ff9-655f5b49a7e6')\"\n",
              "              title=\"Convert this dataframe to an interactive table.\"\n",
              "              style=\"display:none;\">\n",
              "        \n",
              "  <svg xmlns=\"http://www.w3.org/2000/svg\" height=\"24px\"viewBox=\"0 0 24 24\"\n",
              "       width=\"24px\">\n",
              "    <path d=\"M0 0h24v24H0V0z\" fill=\"none\"/>\n",
              "    <path d=\"M18.56 5.44l.94 2.06.94-2.06 2.06-.94-2.06-.94-.94-2.06-.94 2.06-2.06.94zm-11 1L8.5 8.5l.94-2.06 2.06-.94-2.06-.94L8.5 2.5l-.94 2.06-2.06.94zm10 10l.94 2.06.94-2.06 2.06-.94-2.06-.94-.94-2.06-.94 2.06-2.06.94z\"/><path d=\"M17.41 7.96l-1.37-1.37c-.4-.4-.92-.59-1.43-.59-.52 0-1.04.2-1.43.59L10.3 9.45l-7.72 7.72c-.78.78-.78 2.05 0 2.83L4 21.41c.39.39.9.59 1.41.59.51 0 1.02-.2 1.41-.59l7.78-7.78 2.81-2.81c.8-.78.8-2.07 0-2.86zM5.41 20L4 18.59l7.72-7.72 1.47 1.35L5.41 20z\"/>\n",
              "  </svg>\n",
              "      </button>\n",
              "      \n",
              "  <style>\n",
              "    .colab-df-container {\n",
              "      display:flex;\n",
              "      flex-wrap:wrap;\n",
              "      gap: 12px;\n",
              "    }\n",
              "\n",
              "    .colab-df-convert {\n",
              "      background-color: #E8F0FE;\n",
              "      border: none;\n",
              "      border-radius: 50%;\n",
              "      cursor: pointer;\n",
              "      display: none;\n",
              "      fill: #1967D2;\n",
              "      height: 32px;\n",
              "      padding: 0 0 0 0;\n",
              "      width: 32px;\n",
              "    }\n",
              "\n",
              "    .colab-df-convert:hover {\n",
              "      background-color: #E2EBFA;\n",
              "      box-shadow: 0px 1px 2px rgba(60, 64, 67, 0.3), 0px 1px 3px 1px rgba(60, 64, 67, 0.15);\n",
              "      fill: #174EA6;\n",
              "    }\n",
              "\n",
              "    [theme=dark] .colab-df-convert {\n",
              "      background-color: #3B4455;\n",
              "      fill: #D2E3FC;\n",
              "    }\n",
              "\n",
              "    [theme=dark] .colab-df-convert:hover {\n",
              "      background-color: #434B5C;\n",
              "      box-shadow: 0px 1px 3px 1px rgba(0, 0, 0, 0.15);\n",
              "      filter: drop-shadow(0px 1px 2px rgba(0, 0, 0, 0.3));\n",
              "      fill: #FFFFFF;\n",
              "    }\n",
              "  </style>\n",
              "\n",
              "      <script>\n",
              "        const buttonEl =\n",
              "          document.querySelector('#df-554a02e0-1d77-46fc-8ff9-655f5b49a7e6 button.colab-df-convert');\n",
              "        buttonEl.style.display =\n",
              "          google.colab.kernel.accessAllowed ? 'block' : 'none';\n",
              "\n",
              "        async function convertToInteractive(key) {\n",
              "          const element = document.querySelector('#df-554a02e0-1d77-46fc-8ff9-655f5b49a7e6');\n",
              "          const dataTable =\n",
              "            await google.colab.kernel.invokeFunction('convertToInteractive',\n",
              "                                                     [key], {});\n",
              "          if (!dataTable) return;\n",
              "\n",
              "          const docLinkHtml = 'Like what you see? Visit the ' +\n",
              "            '<a target=\"_blank\" href=https://colab.research.google.com/notebooks/data_table.ipynb>data table notebook</a>'\n",
              "            + ' to learn more about interactive tables.';\n",
              "          element.innerHTML = '';\n",
              "          dataTable['output_type'] = 'display_data';\n",
              "          await google.colab.output.renderOutput(dataTable, element);\n",
              "          const docLink = document.createElement('div');\n",
              "          docLink.innerHTML = docLinkHtml;\n",
              "          element.appendChild(docLink);\n",
              "        }\n",
              "      </script>\n",
              "    </div>\n",
              "  </div>\n",
              "  "
            ]
          },
          "metadata": {},
          "execution_count": 7
        }
      ]
    },
    {
      "cell_type": "code",
      "source": [
        "data.info()"
      ],
      "metadata": {
        "colab": {
          "base_uri": "https://localhost:8080/"
        },
        "id": "mspcyCECLbar",
        "outputId": "e025c8ba-56d4-4f0d-e84c-5ea61d0e459e"
      },
      "execution_count": null,
      "outputs": [
        {
          "output_type": "stream",
          "name": "stdout",
          "text": [
            "<class 'pandas.core.frame.DataFrame'>\n",
            "RangeIndex: 805 entries, 0 to 804\n",
            "Data columns (total 23 columns):\n",
            " #   Column              Non-Null Count  Dtype  \n",
            "---  ------              --------------  -----  \n",
            " 0   Unnamed: 0          805 non-null    int64  \n",
            " 1   SUBDIVISION         805 non-null    object \n",
            " 2   YEAR                805 non-null    int64  \n",
            " 3   JAN                 805 non-null    float64\n",
            " 4   FEB                 805 non-null    float64\n",
            " 5   MAR                 805 non-null    float64\n",
            " 6   APR                 805 non-null    float64\n",
            " 7   MAY                 805 non-null    float64\n",
            " 8   JUN                 805 non-null    float64\n",
            " 9   JUL                 805 non-null    float64\n",
            " 10  AUG                 805 non-null    float64\n",
            " 11  SEP                 805 non-null    float64\n",
            " 12  OCT                 805 non-null    float64\n",
            " 13  NOV                 805 non-null    float64\n",
            " 14  DEC                 805 non-null    float64\n",
            " 15  ANNUAL              805 non-null    float64\n",
            " 16  Jan-Feb             805 non-null    float64\n",
            " 17  Mar-May             805 non-null    float64\n",
            " 18  Jun-Sep             805 non-null    float64\n",
            " 19  Oct-Dec             805 non-null    float64\n",
            " 20  flood               805 non-null    int64  \n",
            " 21  10days_june         805 non-null    float64\n",
            " 22  increased Rainfall  805 non-null    float64\n",
            "dtypes: float64(19), int64(3), object(1)\n",
            "memory usage: 144.8+ KB\n"
          ]
        }
      ]
    },
    {
      "cell_type": "code",
      "source": [
        "print(data.shape)"
      ],
      "metadata": {
        "colab": {
          "base_uri": "https://localhost:8080/"
        },
        "id": "rY9HY9PBLgsn",
        "outputId": "c456e8c5-7435-40af-9fcd-b068b62f49af"
      },
      "execution_count": null,
      "outputs": [
        {
          "output_type": "stream",
          "name": "stdout",
          "text": [
            "(805, 23)\n"
          ]
        }
      ]
    },
    {
      "cell_type": "code",
      "source": [
        "data.describe()"
      ],
      "metadata": {
        "colab": {
          "base_uri": "https://localhost:8080/",
          "height": 411
        },
        "id": "IaY1guv7Mgdh",
        "outputId": "d6566879-9e45-4b49-919f-bfd92a0f8060"
      },
      "execution_count": null,
      "outputs": [
        {
          "output_type": "execute_result",
          "data": {
            "text/plain": [
              "        Unnamed: 0         YEAR         JAN        FEB         MAR  \\\n",
              "count   805.000000   805.000000  805.000000  805.00000  805.000000   \n",
              "mean   3566.142857  1958.000000    8.444969    8.62646   15.013292   \n",
              "std     275.114265    33.217023   17.025718   14.95067   22.222653   \n",
              "min    3082.000000  1901.000000    0.000000    0.00000    0.000000   \n",
              "25%    3283.000000  1929.000000    0.100000    0.10000    1.700000   \n",
              "50%    3599.000000  1958.000000    1.900000    2.40000    6.400000   \n",
              "75%    3800.000000  1987.000000    8.700000   10.50000   20.000000   \n",
              "max    4001.000000  2015.000000  141.200000  131.30000  217.200000   \n",
              "\n",
              "              APR         MAY          JUN          JUL          AUG  ...  \\\n",
              "count  805.000000  805.000000   805.000000   805.000000   805.000000  ...   \n",
              "mean    42.570559   92.807081   293.702236   384.358634   273.737764  ...   \n",
              "std     39.125447  102.305206   312.331223   388.191193   237.551020  ...   \n",
              "min      0.000000    0.200000    21.200000    11.800000    18.700000  ...   \n",
              "25%     15.700000   34.400000    83.500000   128.900000   122.300000  ...   \n",
              "50%     30.800000   63.100000   132.900000   211.900000   186.400000  ...   \n",
              "75%     55.600000  104.500000   503.100000   536.800000   342.600000  ...   \n",
              "max    238.000000  738.800000  1361.600000  1904.900000  1579.100000  ...   \n",
              "\n",
              "              NOV         DEC       ANNUAL     Jan-Feb     Mar-May  \\\n",
              "count  805.000000  805.000000   805.000000  805.000000  805.000000   \n",
              "mean    83.694907   24.015528  1577.079503   17.070311  150.386087   \n",
              "std     85.447399   41.353209  1056.656652   23.548630  129.984105   \n",
              "min      0.000000    0.000000   318.000000    0.000000    8.300000   \n",
              "25%     16.400000    0.300000   859.100000    1.400000   68.700000   \n",
              "50%     55.100000    6.300000  1038.300000    8.300000  111.600000   \n",
              "75%    126.100000   27.600000  2600.600000   23.400000  176.100000   \n",
              "max    416.700000  295.800000  5553.900000  165.900000  915.200000   \n",
              "\n",
              "           Jun-Sep     Oct-Dec       flood  10days_june  increased Rainfall  \n",
              "count   805.000000  805.000000  805.000000   805.000000          805.000000  \n",
              "mean   1136.700248  272.917267    0.151553    97.900745          215.440994  \n",
              "std     944.769640  171.920462    0.358810   104.110408          272.664156  \n",
              "min      94.200000    0.100000    0.000000     7.066667            0.100000  \n",
              "25%     505.800000  141.400000    0.000000    27.833333           36.900000  \n",
              "50%     695.300000  239.600000    0.000000    44.300000           86.700000  \n",
              "75%    1739.400000  386.300000    0.000000   167.700000          287.100000  \n",
              "max    4536.900000  823.300000    1.000000   453.866667         1246.900000  \n",
              "\n",
              "[8 rows x 22 columns]"
            ],
            "text/html": [
              "\n",
              "  <div id=\"df-2b043913-ece1-4085-a458-2206cd37c22b\">\n",
              "    <div class=\"colab-df-container\">\n",
              "      <div>\n",
              "<style scoped>\n",
              "    .dataframe tbody tr th:only-of-type {\n",
              "        vertical-align: middle;\n",
              "    }\n",
              "\n",
              "    .dataframe tbody tr th {\n",
              "        vertical-align: top;\n",
              "    }\n",
              "\n",
              "    .dataframe thead th {\n",
              "        text-align: right;\n",
              "    }\n",
              "</style>\n",
              "<table border=\"1\" class=\"dataframe\">\n",
              "  <thead>\n",
              "    <tr style=\"text-align: right;\">\n",
              "      <th></th>\n",
              "      <th>Unnamed: 0</th>\n",
              "      <th>YEAR</th>\n",
              "      <th>JAN</th>\n",
              "      <th>FEB</th>\n",
              "      <th>MAR</th>\n",
              "      <th>APR</th>\n",
              "      <th>MAY</th>\n",
              "      <th>JUN</th>\n",
              "      <th>JUL</th>\n",
              "      <th>AUG</th>\n",
              "      <th>...</th>\n",
              "      <th>NOV</th>\n",
              "      <th>DEC</th>\n",
              "      <th>ANNUAL</th>\n",
              "      <th>Jan-Feb</th>\n",
              "      <th>Mar-May</th>\n",
              "      <th>Jun-Sep</th>\n",
              "      <th>Oct-Dec</th>\n",
              "      <th>flood</th>\n",
              "      <th>10days_june</th>\n",
              "      <th>increased Rainfall</th>\n",
              "    </tr>\n",
              "  </thead>\n",
              "  <tbody>\n",
              "    <tr>\n",
              "      <th>count</th>\n",
              "      <td>805.000000</td>\n",
              "      <td>805.000000</td>\n",
              "      <td>805.000000</td>\n",
              "      <td>805.00000</td>\n",
              "      <td>805.000000</td>\n",
              "      <td>805.000000</td>\n",
              "      <td>805.000000</td>\n",
              "      <td>805.000000</td>\n",
              "      <td>805.000000</td>\n",
              "      <td>805.000000</td>\n",
              "      <td>...</td>\n",
              "      <td>805.000000</td>\n",
              "      <td>805.000000</td>\n",
              "      <td>805.000000</td>\n",
              "      <td>805.000000</td>\n",
              "      <td>805.000000</td>\n",
              "      <td>805.000000</td>\n",
              "      <td>805.000000</td>\n",
              "      <td>805.000000</td>\n",
              "      <td>805.000000</td>\n",
              "      <td>805.000000</td>\n",
              "    </tr>\n",
              "    <tr>\n",
              "      <th>mean</th>\n",
              "      <td>3566.142857</td>\n",
              "      <td>1958.000000</td>\n",
              "      <td>8.444969</td>\n",
              "      <td>8.62646</td>\n",
              "      <td>15.013292</td>\n",
              "      <td>42.570559</td>\n",
              "      <td>92.807081</td>\n",
              "      <td>293.702236</td>\n",
              "      <td>384.358634</td>\n",
              "      <td>273.737764</td>\n",
              "      <td>...</td>\n",
              "      <td>83.694907</td>\n",
              "      <td>24.015528</td>\n",
              "      <td>1577.079503</td>\n",
              "      <td>17.070311</td>\n",
              "      <td>150.386087</td>\n",
              "      <td>1136.700248</td>\n",
              "      <td>272.917267</td>\n",
              "      <td>0.151553</td>\n",
              "      <td>97.900745</td>\n",
              "      <td>215.440994</td>\n",
              "    </tr>\n",
              "    <tr>\n",
              "      <th>std</th>\n",
              "      <td>275.114265</td>\n",
              "      <td>33.217023</td>\n",
              "      <td>17.025718</td>\n",
              "      <td>14.95067</td>\n",
              "      <td>22.222653</td>\n",
              "      <td>39.125447</td>\n",
              "      <td>102.305206</td>\n",
              "      <td>312.331223</td>\n",
              "      <td>388.191193</td>\n",
              "      <td>237.551020</td>\n",
              "      <td>...</td>\n",
              "      <td>85.447399</td>\n",
              "      <td>41.353209</td>\n",
              "      <td>1056.656652</td>\n",
              "      <td>23.548630</td>\n",
              "      <td>129.984105</td>\n",
              "      <td>944.769640</td>\n",
              "      <td>171.920462</td>\n",
              "      <td>0.358810</td>\n",
              "      <td>104.110408</td>\n",
              "      <td>272.664156</td>\n",
              "    </tr>\n",
              "    <tr>\n",
              "      <th>min</th>\n",
              "      <td>3082.000000</td>\n",
              "      <td>1901.000000</td>\n",
              "      <td>0.000000</td>\n",
              "      <td>0.00000</td>\n",
              "      <td>0.000000</td>\n",
              "      <td>0.000000</td>\n",
              "      <td>0.200000</td>\n",
              "      <td>21.200000</td>\n",
              "      <td>11.800000</td>\n",
              "      <td>18.700000</td>\n",
              "      <td>...</td>\n",
              "      <td>0.000000</td>\n",
              "      <td>0.000000</td>\n",
              "      <td>318.000000</td>\n",
              "      <td>0.000000</td>\n",
              "      <td>8.300000</td>\n",
              "      <td>94.200000</td>\n",
              "      <td>0.100000</td>\n",
              "      <td>0.000000</td>\n",
              "      <td>7.066667</td>\n",
              "      <td>0.100000</td>\n",
              "    </tr>\n",
              "    <tr>\n",
              "      <th>25%</th>\n",
              "      <td>3283.000000</td>\n",
              "      <td>1929.000000</td>\n",
              "      <td>0.100000</td>\n",
              "      <td>0.10000</td>\n",
              "      <td>1.700000</td>\n",
              "      <td>15.700000</td>\n",
              "      <td>34.400000</td>\n",
              "      <td>83.500000</td>\n",
              "      <td>128.900000</td>\n",
              "      <td>122.300000</td>\n",
              "      <td>...</td>\n",
              "      <td>16.400000</td>\n",
              "      <td>0.300000</td>\n",
              "      <td>859.100000</td>\n",
              "      <td>1.400000</td>\n",
              "      <td>68.700000</td>\n",
              "      <td>505.800000</td>\n",
              "      <td>141.400000</td>\n",
              "      <td>0.000000</td>\n",
              "      <td>27.833333</td>\n",
              "      <td>36.900000</td>\n",
              "    </tr>\n",
              "    <tr>\n",
              "      <th>50%</th>\n",
              "      <td>3599.000000</td>\n",
              "      <td>1958.000000</td>\n",
              "      <td>1.900000</td>\n",
              "      <td>2.40000</td>\n",
              "      <td>6.400000</td>\n",
              "      <td>30.800000</td>\n",
              "      <td>63.100000</td>\n",
              "      <td>132.900000</td>\n",
              "      <td>211.900000</td>\n",
              "      <td>186.400000</td>\n",
              "      <td>...</td>\n",
              "      <td>55.100000</td>\n",
              "      <td>6.300000</td>\n",
              "      <td>1038.300000</td>\n",
              "      <td>8.300000</td>\n",
              "      <td>111.600000</td>\n",
              "      <td>695.300000</td>\n",
              "      <td>239.600000</td>\n",
              "      <td>0.000000</td>\n",
              "      <td>44.300000</td>\n",
              "      <td>86.700000</td>\n",
              "    </tr>\n",
              "    <tr>\n",
              "      <th>75%</th>\n",
              "      <td>3800.000000</td>\n",
              "      <td>1987.000000</td>\n",
              "      <td>8.700000</td>\n",
              "      <td>10.50000</td>\n",
              "      <td>20.000000</td>\n",
              "      <td>55.600000</td>\n",
              "      <td>104.500000</td>\n",
              "      <td>503.100000</td>\n",
              "      <td>536.800000</td>\n",
              "      <td>342.600000</td>\n",
              "      <td>...</td>\n",
              "      <td>126.100000</td>\n",
              "      <td>27.600000</td>\n",
              "      <td>2600.600000</td>\n",
              "      <td>23.400000</td>\n",
              "      <td>176.100000</td>\n",
              "      <td>1739.400000</td>\n",
              "      <td>386.300000</td>\n",
              "      <td>0.000000</td>\n",
              "      <td>167.700000</td>\n",
              "      <td>287.100000</td>\n",
              "    </tr>\n",
              "    <tr>\n",
              "      <th>max</th>\n",
              "      <td>4001.000000</td>\n",
              "      <td>2015.000000</td>\n",
              "      <td>141.200000</td>\n",
              "      <td>131.30000</td>\n",
              "      <td>217.200000</td>\n",
              "      <td>238.000000</td>\n",
              "      <td>738.800000</td>\n",
              "      <td>1361.600000</td>\n",
              "      <td>1904.900000</td>\n",
              "      <td>1579.100000</td>\n",
              "      <td>...</td>\n",
              "      <td>416.700000</td>\n",
              "      <td>295.800000</td>\n",
              "      <td>5553.900000</td>\n",
              "      <td>165.900000</td>\n",
              "      <td>915.200000</td>\n",
              "      <td>4536.900000</td>\n",
              "      <td>823.300000</td>\n",
              "      <td>1.000000</td>\n",
              "      <td>453.866667</td>\n",
              "      <td>1246.900000</td>\n",
              "    </tr>\n",
              "  </tbody>\n",
              "</table>\n",
              "<p>8 rows × 22 columns</p>\n",
              "</div>\n",
              "      <button class=\"colab-df-convert\" onclick=\"convertToInteractive('df-2b043913-ece1-4085-a458-2206cd37c22b')\"\n",
              "              title=\"Convert this dataframe to an interactive table.\"\n",
              "              style=\"display:none;\">\n",
              "        \n",
              "  <svg xmlns=\"http://www.w3.org/2000/svg\" height=\"24px\"viewBox=\"0 0 24 24\"\n",
              "       width=\"24px\">\n",
              "    <path d=\"M0 0h24v24H0V0z\" fill=\"none\"/>\n",
              "    <path d=\"M18.56 5.44l.94 2.06.94-2.06 2.06-.94-2.06-.94-.94-2.06-.94 2.06-2.06.94zm-11 1L8.5 8.5l.94-2.06 2.06-.94-2.06-.94L8.5 2.5l-.94 2.06-2.06.94zm10 10l.94 2.06.94-2.06 2.06-.94-2.06-.94-.94-2.06-.94 2.06-2.06.94z\"/><path d=\"M17.41 7.96l-1.37-1.37c-.4-.4-.92-.59-1.43-.59-.52 0-1.04.2-1.43.59L10.3 9.45l-7.72 7.72c-.78.78-.78 2.05 0 2.83L4 21.41c.39.39.9.59 1.41.59.51 0 1.02-.2 1.41-.59l7.78-7.78 2.81-2.81c.8-.78.8-2.07 0-2.86zM5.41 20L4 18.59l7.72-7.72 1.47 1.35L5.41 20z\"/>\n",
              "  </svg>\n",
              "      </button>\n",
              "      \n",
              "  <style>\n",
              "    .colab-df-container {\n",
              "      display:flex;\n",
              "      flex-wrap:wrap;\n",
              "      gap: 12px;\n",
              "    }\n",
              "\n",
              "    .colab-df-convert {\n",
              "      background-color: #E8F0FE;\n",
              "      border: none;\n",
              "      border-radius: 50%;\n",
              "      cursor: pointer;\n",
              "      display: none;\n",
              "      fill: #1967D2;\n",
              "      height: 32px;\n",
              "      padding: 0 0 0 0;\n",
              "      width: 32px;\n",
              "    }\n",
              "\n",
              "    .colab-df-convert:hover {\n",
              "      background-color: #E2EBFA;\n",
              "      box-shadow: 0px 1px 2px rgba(60, 64, 67, 0.3), 0px 1px 3px 1px rgba(60, 64, 67, 0.15);\n",
              "      fill: #174EA6;\n",
              "    }\n",
              "\n",
              "    [theme=dark] .colab-df-convert {\n",
              "      background-color: #3B4455;\n",
              "      fill: #D2E3FC;\n",
              "    }\n",
              "\n",
              "    [theme=dark] .colab-df-convert:hover {\n",
              "      background-color: #434B5C;\n",
              "      box-shadow: 0px 1px 3px 1px rgba(0, 0, 0, 0.15);\n",
              "      filter: drop-shadow(0px 1px 2px rgba(0, 0, 0, 0.3));\n",
              "      fill: #FFFFFF;\n",
              "    }\n",
              "  </style>\n",
              "\n",
              "      <script>\n",
              "        const buttonEl =\n",
              "          document.querySelector('#df-2b043913-ece1-4085-a458-2206cd37c22b button.colab-df-convert');\n",
              "        buttonEl.style.display =\n",
              "          google.colab.kernel.accessAllowed ? 'block' : 'none';\n",
              "\n",
              "        async function convertToInteractive(key) {\n",
              "          const element = document.querySelector('#df-2b043913-ece1-4085-a458-2206cd37c22b');\n",
              "          const dataTable =\n",
              "            await google.colab.kernel.invokeFunction('convertToInteractive',\n",
              "                                                     [key], {});\n",
              "          if (!dataTable) return;\n",
              "\n",
              "          const docLinkHtml = 'Like what you see? Visit the ' +\n",
              "            '<a target=\"_blank\" href=https://colab.research.google.com/notebooks/data_table.ipynb>data table notebook</a>'\n",
              "            + ' to learn more about interactive tables.';\n",
              "          element.innerHTML = '';\n",
              "          dataTable['output_type'] = 'display_data';\n",
              "          await google.colab.output.renderOutput(dataTable, element);\n",
              "          const docLink = document.createElement('div');\n",
              "          docLink.innerHTML = docLinkHtml;\n",
              "          element.appendChild(docLink);\n",
              "        }\n",
              "      </script>\n",
              "    </div>\n",
              "  </div>\n",
              "  "
            ]
          },
          "metadata": {},
          "execution_count": 10
        }
      ]
    },
    {
      "cell_type": "code",
      "source": [
        "data[['SUBDIVISION', 'ANNUAL']].sort_values(by='ANNUAL', ascending = False).head(20)"
      ],
      "metadata": {
        "colab": {
          "base_uri": "https://localhost:8080/",
          "height": 676
        },
        "id": "ElFGVB4TMlJ7",
        "outputId": "b6bedafc-1215-4333-b818-c30895afba80"
      },
      "execution_count": null,
      "outputs": [
        {
          "output_type": "execute_result",
          "data": {
            "text/plain": [
              "           SUBDIVISION  ANNUAL\n",
              "520  COASTAL KARNATAKA  5553.9\n",
              "553  COASTAL KARNATAKA  4636.3\n",
              "518  COASTAL KARNATAKA  4330.8\n",
              "534  COASTAL KARNATAKA  4300.0\n",
              "60              KERALA  4257.8\n",
              "572  COASTAL KARNATAKA  4229.4\n",
              "23              KERALA  4226.4\n",
              "492  COASTAL KARNATAKA  4139.5\n",
              "549  COASTAL KARNATAKA  4120.4\n",
              "541  COASTAL KARNATAKA  4090.9\n",
              "32              KERALA  4072.9\n",
              "529  COASTAL KARNATAKA  4042.0\n",
              "505  COASTAL KARNATAKA  4041.4\n",
              "521  COASTAL KARNATAKA  4017.7\n",
              "556  COASTAL KARNATAKA  3953.6\n",
              "542  COASTAL KARNATAKA  3942.2\n",
              "570  COASTAL KARNATAKA  3908.6\n",
              "551  COASTAL KARNATAKA  3882.2\n",
              "473  COASTAL KARNATAKA  3872.7\n",
              "537  COASTAL KARNATAKA  3862.9"
            ],
            "text/html": [
              "\n",
              "  <div id=\"df-7dc4232e-1a6f-4176-9b05-49f3b879d916\">\n",
              "    <div class=\"colab-df-container\">\n",
              "      <div>\n",
              "<style scoped>\n",
              "    .dataframe tbody tr th:only-of-type {\n",
              "        vertical-align: middle;\n",
              "    }\n",
              "\n",
              "    .dataframe tbody tr th {\n",
              "        vertical-align: top;\n",
              "    }\n",
              "\n",
              "    .dataframe thead th {\n",
              "        text-align: right;\n",
              "    }\n",
              "</style>\n",
              "<table border=\"1\" class=\"dataframe\">\n",
              "  <thead>\n",
              "    <tr style=\"text-align: right;\">\n",
              "      <th></th>\n",
              "      <th>SUBDIVISION</th>\n",
              "      <th>ANNUAL</th>\n",
              "    </tr>\n",
              "  </thead>\n",
              "  <tbody>\n",
              "    <tr>\n",
              "      <th>520</th>\n",
              "      <td>COASTAL KARNATAKA</td>\n",
              "      <td>5553.9</td>\n",
              "    </tr>\n",
              "    <tr>\n",
              "      <th>553</th>\n",
              "      <td>COASTAL KARNATAKA</td>\n",
              "      <td>4636.3</td>\n",
              "    </tr>\n",
              "    <tr>\n",
              "      <th>518</th>\n",
              "      <td>COASTAL KARNATAKA</td>\n",
              "      <td>4330.8</td>\n",
              "    </tr>\n",
              "    <tr>\n",
              "      <th>534</th>\n",
              "      <td>COASTAL KARNATAKA</td>\n",
              "      <td>4300.0</td>\n",
              "    </tr>\n",
              "    <tr>\n",
              "      <th>60</th>\n",
              "      <td>KERALA</td>\n",
              "      <td>4257.8</td>\n",
              "    </tr>\n",
              "    <tr>\n",
              "      <th>572</th>\n",
              "      <td>COASTAL KARNATAKA</td>\n",
              "      <td>4229.4</td>\n",
              "    </tr>\n",
              "    <tr>\n",
              "      <th>23</th>\n",
              "      <td>KERALA</td>\n",
              "      <td>4226.4</td>\n",
              "    </tr>\n",
              "    <tr>\n",
              "      <th>492</th>\n",
              "      <td>COASTAL KARNATAKA</td>\n",
              "      <td>4139.5</td>\n",
              "    </tr>\n",
              "    <tr>\n",
              "      <th>549</th>\n",
              "      <td>COASTAL KARNATAKA</td>\n",
              "      <td>4120.4</td>\n",
              "    </tr>\n",
              "    <tr>\n",
              "      <th>541</th>\n",
              "      <td>COASTAL KARNATAKA</td>\n",
              "      <td>4090.9</td>\n",
              "    </tr>\n",
              "    <tr>\n",
              "      <th>32</th>\n",
              "      <td>KERALA</td>\n",
              "      <td>4072.9</td>\n",
              "    </tr>\n",
              "    <tr>\n",
              "      <th>529</th>\n",
              "      <td>COASTAL KARNATAKA</td>\n",
              "      <td>4042.0</td>\n",
              "    </tr>\n",
              "    <tr>\n",
              "      <th>505</th>\n",
              "      <td>COASTAL KARNATAKA</td>\n",
              "      <td>4041.4</td>\n",
              "    </tr>\n",
              "    <tr>\n",
              "      <th>521</th>\n",
              "      <td>COASTAL KARNATAKA</td>\n",
              "      <td>4017.7</td>\n",
              "    </tr>\n",
              "    <tr>\n",
              "      <th>556</th>\n",
              "      <td>COASTAL KARNATAKA</td>\n",
              "      <td>3953.6</td>\n",
              "    </tr>\n",
              "    <tr>\n",
              "      <th>542</th>\n",
              "      <td>COASTAL KARNATAKA</td>\n",
              "      <td>3942.2</td>\n",
              "    </tr>\n",
              "    <tr>\n",
              "      <th>570</th>\n",
              "      <td>COASTAL KARNATAKA</td>\n",
              "      <td>3908.6</td>\n",
              "    </tr>\n",
              "    <tr>\n",
              "      <th>551</th>\n",
              "      <td>COASTAL KARNATAKA</td>\n",
              "      <td>3882.2</td>\n",
              "    </tr>\n",
              "    <tr>\n",
              "      <th>473</th>\n",
              "      <td>COASTAL KARNATAKA</td>\n",
              "      <td>3872.7</td>\n",
              "    </tr>\n",
              "    <tr>\n",
              "      <th>537</th>\n",
              "      <td>COASTAL KARNATAKA</td>\n",
              "      <td>3862.9</td>\n",
              "    </tr>\n",
              "  </tbody>\n",
              "</table>\n",
              "</div>\n",
              "      <button class=\"colab-df-convert\" onclick=\"convertToInteractive('df-7dc4232e-1a6f-4176-9b05-49f3b879d916')\"\n",
              "              title=\"Convert this dataframe to an interactive table.\"\n",
              "              style=\"display:none;\">\n",
              "        \n",
              "  <svg xmlns=\"http://www.w3.org/2000/svg\" height=\"24px\"viewBox=\"0 0 24 24\"\n",
              "       width=\"24px\">\n",
              "    <path d=\"M0 0h24v24H0V0z\" fill=\"none\"/>\n",
              "    <path d=\"M18.56 5.44l.94 2.06.94-2.06 2.06-.94-2.06-.94-.94-2.06-.94 2.06-2.06.94zm-11 1L8.5 8.5l.94-2.06 2.06-.94-2.06-.94L8.5 2.5l-.94 2.06-2.06.94zm10 10l.94 2.06.94-2.06 2.06-.94-2.06-.94-.94-2.06-.94 2.06-2.06.94z\"/><path d=\"M17.41 7.96l-1.37-1.37c-.4-.4-.92-.59-1.43-.59-.52 0-1.04.2-1.43.59L10.3 9.45l-7.72 7.72c-.78.78-.78 2.05 0 2.83L4 21.41c.39.39.9.59 1.41.59.51 0 1.02-.2 1.41-.59l7.78-7.78 2.81-2.81c.8-.78.8-2.07 0-2.86zM5.41 20L4 18.59l7.72-7.72 1.47 1.35L5.41 20z\"/>\n",
              "  </svg>\n",
              "      </button>\n",
              "      \n",
              "  <style>\n",
              "    .colab-df-container {\n",
              "      display:flex;\n",
              "      flex-wrap:wrap;\n",
              "      gap: 12px;\n",
              "    }\n",
              "\n",
              "    .colab-df-convert {\n",
              "      background-color: #E8F0FE;\n",
              "      border: none;\n",
              "      border-radius: 50%;\n",
              "      cursor: pointer;\n",
              "      display: none;\n",
              "      fill: #1967D2;\n",
              "      height: 32px;\n",
              "      padding: 0 0 0 0;\n",
              "      width: 32px;\n",
              "    }\n",
              "\n",
              "    .colab-df-convert:hover {\n",
              "      background-color: #E2EBFA;\n",
              "      box-shadow: 0px 1px 2px rgba(60, 64, 67, 0.3), 0px 1px 3px 1px rgba(60, 64, 67, 0.15);\n",
              "      fill: #174EA6;\n",
              "    }\n",
              "\n",
              "    [theme=dark] .colab-df-convert {\n",
              "      background-color: #3B4455;\n",
              "      fill: #D2E3FC;\n",
              "    }\n",
              "\n",
              "    [theme=dark] .colab-df-convert:hover {\n",
              "      background-color: #434B5C;\n",
              "      box-shadow: 0px 1px 3px 1px rgba(0, 0, 0, 0.15);\n",
              "      filter: drop-shadow(0px 1px 2px rgba(0, 0, 0, 0.3));\n",
              "      fill: #FFFFFF;\n",
              "    }\n",
              "  </style>\n",
              "\n",
              "      <script>\n",
              "        const buttonEl =\n",
              "          document.querySelector('#df-7dc4232e-1a6f-4176-9b05-49f3b879d916 button.colab-df-convert');\n",
              "        buttonEl.style.display =\n",
              "          google.colab.kernel.accessAllowed ? 'block' : 'none';\n",
              "\n",
              "        async function convertToInteractive(key) {\n",
              "          const element = document.querySelector('#df-7dc4232e-1a6f-4176-9b05-49f3b879d916');\n",
              "          const dataTable =\n",
              "            await google.colab.kernel.invokeFunction('convertToInteractive',\n",
              "                                                     [key], {});\n",
              "          if (!dataTable) return;\n",
              "\n",
              "          const docLinkHtml = 'Like what you see? Visit the ' +\n",
              "            '<a target=\"_blank\" href=https://colab.research.google.com/notebooks/data_table.ipynb>data table notebook</a>'\n",
              "            + ' to learn more about interactive tables.';\n",
              "          element.innerHTML = '';\n",
              "          dataTable['output_type'] = 'display_data';\n",
              "          await google.colab.output.renderOutput(dataTable, element);\n",
              "          const docLink = document.createElement('div');\n",
              "          docLink.innerHTML = docLinkHtml;\n",
              "          element.appendChild(docLink);\n",
              "        }\n",
              "      </script>\n",
              "    </div>\n",
              "  </div>\n",
              "  "
            ]
          },
          "metadata": {},
          "execution_count": 11
        }
      ]
    },
    {
      "cell_type": "code",
      "source": [
        "df = data[['SUBDIVISION','JAN', 'FEB', 'MAR', 'APR', 'MAY', 'JUN', 'JUL',\n",
        "       'AUG', 'SEP', 'OCT', 'NOV', 'DEC', 'ANNUAL', 'Jan-Feb', 'Mar-May',\n",
        "       'Jun-Sep', 'Oct-Dec', 'flood', '10days_june', 'increased Rainfall']]"
      ],
      "metadata": {
        "id": "akxyXo3z4Mah"
      },
      "execution_count": null,
      "outputs": []
    },
    {
      "cell_type": "code",
      "source": [
        "df.head()"
      ],
      "metadata": {
        "colab": {
          "base_uri": "https://localhost:8080/",
          "height": 235
        },
        "id": "DLGC-Tc04Ojh",
        "outputId": "de3e12a4-4965-4a66-999a-0fbdb71549fe"
      },
      "execution_count": null,
      "outputs": [
        {
          "output_type": "execute_result",
          "data": {
            "text/plain": [
              "  SUBDIVISION   JAN   FEB   MAR    APR    MAY     JUN     JUL    AUG    SEP  \\\n",
              "0      KERALA  28.7  44.7  51.6  160.0  174.7   824.6   743.0  357.5  197.7   \n",
              "1      KERALA   6.7   2.6  57.3   83.9  134.5   390.9  1205.0  315.8  491.6   \n",
              "2      KERALA   3.2  18.6   3.1   83.6  249.7   558.6  1022.5  420.2  341.8   \n",
              "3      KERALA  23.7   3.0  32.2   71.5  235.7  1098.2   725.5  351.8  222.7   \n",
              "4      KERALA   1.2  22.3   9.4  105.9  263.3   850.2   520.5  293.6  217.2   \n",
              "\n",
              "   ...    NOV    DEC  ANNUAL  Jan-Feb  Mar-May  Jun-Sep  Oct-Dec  flood  \\\n",
              "0  ...  350.8   48.4  3248.6     73.4    386.2   2122.8    666.1      0   \n",
              "1  ...  158.3  121.5  3326.6      9.3    275.7   2403.4    638.2      1   \n",
              "2  ...  157.0   59.0  3271.2     21.7    336.3   2343.0    570.1      0   \n",
              "3  ...   33.9    3.3  3129.7     26.7    339.4   2398.2    365.3      0   \n",
              "4  ...   74.4    0.2  2741.6     23.4    378.5   1881.5    458.1      0   \n",
              "\n",
              "   10days_june  increased Rainfall  \n",
              "0   274.866667               649.9  \n",
              "1   130.300000               256.4  \n",
              "2   186.200000               308.9  \n",
              "3   366.066667               862.5  \n",
              "4   283.400000               586.9  \n",
              "\n",
              "[5 rows x 21 columns]"
            ],
            "text/html": [
              "\n",
              "  <div id=\"df-75ad8e98-423d-4a03-b859-8c12b3fc5355\">\n",
              "    <div class=\"colab-df-container\">\n",
              "      <div>\n",
              "<style scoped>\n",
              "    .dataframe tbody tr th:only-of-type {\n",
              "        vertical-align: middle;\n",
              "    }\n",
              "\n",
              "    .dataframe tbody tr th {\n",
              "        vertical-align: top;\n",
              "    }\n",
              "\n",
              "    .dataframe thead th {\n",
              "        text-align: right;\n",
              "    }\n",
              "</style>\n",
              "<table border=\"1\" class=\"dataframe\">\n",
              "  <thead>\n",
              "    <tr style=\"text-align: right;\">\n",
              "      <th></th>\n",
              "      <th>SUBDIVISION</th>\n",
              "      <th>JAN</th>\n",
              "      <th>FEB</th>\n",
              "      <th>MAR</th>\n",
              "      <th>APR</th>\n",
              "      <th>MAY</th>\n",
              "      <th>JUN</th>\n",
              "      <th>JUL</th>\n",
              "      <th>AUG</th>\n",
              "      <th>SEP</th>\n",
              "      <th>...</th>\n",
              "      <th>NOV</th>\n",
              "      <th>DEC</th>\n",
              "      <th>ANNUAL</th>\n",
              "      <th>Jan-Feb</th>\n",
              "      <th>Mar-May</th>\n",
              "      <th>Jun-Sep</th>\n",
              "      <th>Oct-Dec</th>\n",
              "      <th>flood</th>\n",
              "      <th>10days_june</th>\n",
              "      <th>increased Rainfall</th>\n",
              "    </tr>\n",
              "  </thead>\n",
              "  <tbody>\n",
              "    <tr>\n",
              "      <th>0</th>\n",
              "      <td>KERALA</td>\n",
              "      <td>28.7</td>\n",
              "      <td>44.7</td>\n",
              "      <td>51.6</td>\n",
              "      <td>160.0</td>\n",
              "      <td>174.7</td>\n",
              "      <td>824.6</td>\n",
              "      <td>743.0</td>\n",
              "      <td>357.5</td>\n",
              "      <td>197.7</td>\n",
              "      <td>...</td>\n",
              "      <td>350.8</td>\n",
              "      <td>48.4</td>\n",
              "      <td>3248.6</td>\n",
              "      <td>73.4</td>\n",
              "      <td>386.2</td>\n",
              "      <td>2122.8</td>\n",
              "      <td>666.1</td>\n",
              "      <td>0</td>\n",
              "      <td>274.866667</td>\n",
              "      <td>649.9</td>\n",
              "    </tr>\n",
              "    <tr>\n",
              "      <th>1</th>\n",
              "      <td>KERALA</td>\n",
              "      <td>6.7</td>\n",
              "      <td>2.6</td>\n",
              "      <td>57.3</td>\n",
              "      <td>83.9</td>\n",
              "      <td>134.5</td>\n",
              "      <td>390.9</td>\n",
              "      <td>1205.0</td>\n",
              "      <td>315.8</td>\n",
              "      <td>491.6</td>\n",
              "      <td>...</td>\n",
              "      <td>158.3</td>\n",
              "      <td>121.5</td>\n",
              "      <td>3326.6</td>\n",
              "      <td>9.3</td>\n",
              "      <td>275.7</td>\n",
              "      <td>2403.4</td>\n",
              "      <td>638.2</td>\n",
              "      <td>1</td>\n",
              "      <td>130.300000</td>\n",
              "      <td>256.4</td>\n",
              "    </tr>\n",
              "    <tr>\n",
              "      <th>2</th>\n",
              "      <td>KERALA</td>\n",
              "      <td>3.2</td>\n",
              "      <td>18.6</td>\n",
              "      <td>3.1</td>\n",
              "      <td>83.6</td>\n",
              "      <td>249.7</td>\n",
              "      <td>558.6</td>\n",
              "      <td>1022.5</td>\n",
              "      <td>420.2</td>\n",
              "      <td>341.8</td>\n",
              "      <td>...</td>\n",
              "      <td>157.0</td>\n",
              "      <td>59.0</td>\n",
              "      <td>3271.2</td>\n",
              "      <td>21.7</td>\n",
              "      <td>336.3</td>\n",
              "      <td>2343.0</td>\n",
              "      <td>570.1</td>\n",
              "      <td>0</td>\n",
              "      <td>186.200000</td>\n",
              "      <td>308.9</td>\n",
              "    </tr>\n",
              "    <tr>\n",
              "      <th>3</th>\n",
              "      <td>KERALA</td>\n",
              "      <td>23.7</td>\n",
              "      <td>3.0</td>\n",
              "      <td>32.2</td>\n",
              "      <td>71.5</td>\n",
              "      <td>235.7</td>\n",
              "      <td>1098.2</td>\n",
              "      <td>725.5</td>\n",
              "      <td>351.8</td>\n",
              "      <td>222.7</td>\n",
              "      <td>...</td>\n",
              "      <td>33.9</td>\n",
              "      <td>3.3</td>\n",
              "      <td>3129.7</td>\n",
              "      <td>26.7</td>\n",
              "      <td>339.4</td>\n",
              "      <td>2398.2</td>\n",
              "      <td>365.3</td>\n",
              "      <td>0</td>\n",
              "      <td>366.066667</td>\n",
              "      <td>862.5</td>\n",
              "    </tr>\n",
              "    <tr>\n",
              "      <th>4</th>\n",
              "      <td>KERALA</td>\n",
              "      <td>1.2</td>\n",
              "      <td>22.3</td>\n",
              "      <td>9.4</td>\n",
              "      <td>105.9</td>\n",
              "      <td>263.3</td>\n",
              "      <td>850.2</td>\n",
              "      <td>520.5</td>\n",
              "      <td>293.6</td>\n",
              "      <td>217.2</td>\n",
              "      <td>...</td>\n",
              "      <td>74.4</td>\n",
              "      <td>0.2</td>\n",
              "      <td>2741.6</td>\n",
              "      <td>23.4</td>\n",
              "      <td>378.5</td>\n",
              "      <td>1881.5</td>\n",
              "      <td>458.1</td>\n",
              "      <td>0</td>\n",
              "      <td>283.400000</td>\n",
              "      <td>586.9</td>\n",
              "    </tr>\n",
              "  </tbody>\n",
              "</table>\n",
              "<p>5 rows × 21 columns</p>\n",
              "</div>\n",
              "      <button class=\"colab-df-convert\" onclick=\"convertToInteractive('df-75ad8e98-423d-4a03-b859-8c12b3fc5355')\"\n",
              "              title=\"Convert this dataframe to an interactive table.\"\n",
              "              style=\"display:none;\">\n",
              "        \n",
              "  <svg xmlns=\"http://www.w3.org/2000/svg\" height=\"24px\"viewBox=\"0 0 24 24\"\n",
              "       width=\"24px\">\n",
              "    <path d=\"M0 0h24v24H0V0z\" fill=\"none\"/>\n",
              "    <path d=\"M18.56 5.44l.94 2.06.94-2.06 2.06-.94-2.06-.94-.94-2.06-.94 2.06-2.06.94zm-11 1L8.5 8.5l.94-2.06 2.06-.94-2.06-.94L8.5 2.5l-.94 2.06-2.06.94zm10 10l.94 2.06.94-2.06 2.06-.94-2.06-.94-.94-2.06-.94 2.06-2.06.94z\"/><path d=\"M17.41 7.96l-1.37-1.37c-.4-.4-.92-.59-1.43-.59-.52 0-1.04.2-1.43.59L10.3 9.45l-7.72 7.72c-.78.78-.78 2.05 0 2.83L4 21.41c.39.39.9.59 1.41.59.51 0 1.02-.2 1.41-.59l7.78-7.78 2.81-2.81c.8-.78.8-2.07 0-2.86zM5.41 20L4 18.59l7.72-7.72 1.47 1.35L5.41 20z\"/>\n",
              "  </svg>\n",
              "      </button>\n",
              "      \n",
              "  <style>\n",
              "    .colab-df-container {\n",
              "      display:flex;\n",
              "      flex-wrap:wrap;\n",
              "      gap: 12px;\n",
              "    }\n",
              "\n",
              "    .colab-df-convert {\n",
              "      background-color: #E8F0FE;\n",
              "      border: none;\n",
              "      border-radius: 50%;\n",
              "      cursor: pointer;\n",
              "      display: none;\n",
              "      fill: #1967D2;\n",
              "      height: 32px;\n",
              "      padding: 0 0 0 0;\n",
              "      width: 32px;\n",
              "    }\n",
              "\n",
              "    .colab-df-convert:hover {\n",
              "      background-color: #E2EBFA;\n",
              "      box-shadow: 0px 1px 2px rgba(60, 64, 67, 0.3), 0px 1px 3px 1px rgba(60, 64, 67, 0.15);\n",
              "      fill: #174EA6;\n",
              "    }\n",
              "\n",
              "    [theme=dark] .colab-df-convert {\n",
              "      background-color: #3B4455;\n",
              "      fill: #D2E3FC;\n",
              "    }\n",
              "\n",
              "    [theme=dark] .colab-df-convert:hover {\n",
              "      background-color: #434B5C;\n",
              "      box-shadow: 0px 1px 3px 1px rgba(0, 0, 0, 0.15);\n",
              "      filter: drop-shadow(0px 1px 2px rgba(0, 0, 0, 0.3));\n",
              "      fill: #FFFFFF;\n",
              "    }\n",
              "  </style>\n",
              "\n",
              "      <script>\n",
              "        const buttonEl =\n",
              "          document.querySelector('#df-75ad8e98-423d-4a03-b859-8c12b3fc5355 button.colab-df-convert');\n",
              "        buttonEl.style.display =\n",
              "          google.colab.kernel.accessAllowed ? 'block' : 'none';\n",
              "\n",
              "        async function convertToInteractive(key) {\n",
              "          const element = document.querySelector('#df-75ad8e98-423d-4a03-b859-8c12b3fc5355');\n",
              "          const dataTable =\n",
              "            await google.colab.kernel.invokeFunction('convertToInteractive',\n",
              "                                                     [key], {});\n",
              "          if (!dataTable) return;\n",
              "\n",
              "          const docLinkHtml = 'Like what you see? Visit the ' +\n",
              "            '<a target=\"_blank\" href=https://colab.research.google.com/notebooks/data_table.ipynb>data table notebook</a>'\n",
              "            + ' to learn more about interactive tables.';\n",
              "          element.innerHTML = '';\n",
              "          dataTable['output_type'] = 'display_data';\n",
              "          await google.colab.output.renderOutput(dataTable, element);\n",
              "          const docLink = document.createElement('div');\n",
              "          docLink.innerHTML = docLinkHtml;\n",
              "          element.appendChild(docLink);\n",
              "        }\n",
              "      </script>\n",
              "    </div>\n",
              "  </div>\n",
              "  "
            ]
          },
          "metadata": {},
          "execution_count": 13
        }
      ]
    },
    {
      "cell_type": "code",
      "source": [
        "df.hist(figsize=(22,22))"
      ],
      "metadata": {
        "colab": {
          "base_uri": "https://localhost:8080/",
          "height": 1000
        },
        "id": "Si7GQgJs4RWB",
        "outputId": "53fbc34e-8fbc-433e-f2e6-8e1aa386d19d"
      },
      "execution_count": null,
      "outputs": [
        {
          "output_type": "execute_result",
          "data": {
            "text/plain": [
              "array([[<matplotlib.axes._subplots.AxesSubplot object at 0x7fd7e25889d0>,\n",
              "        <matplotlib.axes._subplots.AxesSubplot object at 0x7fd7e24cb1c0>,\n",
              "        <matplotlib.axes._subplots.AxesSubplot object at 0x7fd7e24775e0>,\n",
              "        <matplotlib.axes._subplots.AxesSubplot object at 0x7fd7e24239d0>],\n",
              "       [<matplotlib.axes._subplots.AxesSubplot object at 0x7fd7e244fdc0>,\n",
              "        <matplotlib.axes._subplots.AxesSubplot object at 0x7fd7e240a130>,\n",
              "        <matplotlib.axes._subplots.AxesSubplot object at 0x7fd7e240a220>,\n",
              "        <matplotlib.axes._subplots.AxesSubplot object at 0x7fd7e23b66a0>],\n",
              "       [<matplotlib.axes._subplots.AxesSubplot object at 0x7fd7e2392e20>,\n",
              "        <matplotlib.axes._subplots.AxesSubplot object at 0x7fd7e234b280>,\n",
              "        <matplotlib.axes._subplots.AxesSubplot object at 0x7fd7e22f76a0>,\n",
              "        <matplotlib.axes._subplots.AxesSubplot object at 0x7fd7e22a4a90>],\n",
              "       [<matplotlib.axes._subplots.AxesSubplot object at 0x7fd7e22d1e80>,\n",
              "        <matplotlib.axes._subplots.AxesSubplot object at 0x7fd7e228b2b0>,\n",
              "        <matplotlib.axes._subplots.AxesSubplot object at 0x7fd7e22376a0>,\n",
              "        <matplotlib.axes._subplots.AxesSubplot object at 0x7fd7e21e5ac0>],\n",
              "       [<matplotlib.axes._subplots.AxesSubplot object at 0x7fd7e2212ee0>,\n",
              "        <matplotlib.axes._subplots.AxesSubplot object at 0x7fd7e21cc310>,\n",
              "        <matplotlib.axes._subplots.AxesSubplot object at 0x7fd7e217a700>,\n",
              "        <matplotlib.axes._subplots.AxesSubplot object at 0x7fd7e2126af0>]],\n",
              "      dtype=object)"
            ]
          },
          "metadata": {},
          "execution_count": 14
        },
        {
          "output_type": "display_data",
          "data": {
            "text/plain": [
              "<Figure size 1584x1584 with 20 Axes>"
            ],
            "image/png": "[encoded data removed]"
          },
          "metadata": {
            "needs_background": "light"
          }
        }
      ]
    },
    {
      "cell_type": "code",
      "source": [
        "sns.distplot(data['ANNUAL'], hist =True)"
      ],
      "metadata": {
        "colab": {
          "base_uri": "https://localhost:8080/",
          "height": 296
        },
        "id": "7f0RBm4RM0LG",
        "outputId": "e563ea71-87a4-4815-a0f2-a82e6b6a1b25"
      },
      "execution_count": null,
      "outputs": [
        {
          "output_type": "execute_result",
          "data": {
            "text/plain": [
              "<matplotlib.axes._subplots.AxesSubplot at 0x7fd7e1cf72e0>"
            ]
          },
          "metadata": {},
          "execution_count": 15
        },
        {
          "output_type": "display_data",
          "data": {
            "text/plain": [
              "<Figure size 432x288 with 1 Axes>"
            ],
            "image/png": "[encoded data removed]"
          },
          "metadata": {
            "needs_background": "light"
          }
        }
      ]
    },
    {
      "cell_type": "code",
      "source": [
        "import matplotlib.pyplot as plt\n",
        "%matplotlib inline"
      ],
      "metadata": {
        "id": "9dW34HPxNky8"
      },
      "execution_count": null,
      "outputs": []
    },
    {
      "cell_type": "code",
      "source": [
        "# Annual rainfall in subdivisions of India\n",
        "plt.figure(figsize=(20,18))\n",
        "ax = sns.boxplot(x=\"SUBDIVISION\", y=\"ANNUAL\", data=data, width=1, linewidth=2)\n",
        "ax.set_xlabel('Subdivision',fontsize=30)\n",
        "ax.set_ylabel('Annual Rainfall (in mm)',fontsize=30)\n",
        "plt.title('Annual Rainfall in Subdivisions of India',fontsize=40)\n",
        "ax.tick_params(axis='x', labelsize=20, rotation=90)\n",
        "ax.tick_params(axis='y', labelsize=20, rotation=0)"
      ],
      "metadata": {
        "colab": {
          "base_uri": "https://localhost:8080/",
          "height": 1000
        },
        "id": "zgd2dPBoM_ol",
        "outputId": "9ede7885-b2fe-4c9e-d7ee-350a6f2210cb"
      },
      "execution_count": null,
      "outputs": [
        {
          "output_type": "display_data",
          "data": {
            "text/plain": [
              "<Figure size 1440x1296 with 1 Axes>"
            ],
            "image/png": "[encoded data removed]"
          },
          "metadata": {
            "needs_background": "light"
          }
        }
      ]
    },
    {
      "cell_type": "code",
      "source": [
        "data.columns"
      ],
      "metadata": {
        "colab": {
          "base_uri": "https://localhost:8080/"
        },
        "id": "UbWesswJ4VTT",
        "outputId": "f83221df-5440-4ecd-93c1-3e074d6d7daf"
      },
      "execution_count": null,
      "outputs": [
        {
          "output_type": "execute_result",
          "data": {
            "text/plain": [
              "Index(['Unnamed: 0', 'SUBDIVISION', 'YEAR', 'JAN', 'FEB', 'MAR', 'APR', 'MAY',\n",
              "       'JUN', 'JUL', 'AUG', 'SEP', 'OCT', 'NOV', 'DEC', 'ANNUAL', 'Jan-Feb',\n",
              "       'Mar-May', 'Jun-Sep', 'Oct-Dec', 'flood', '10days_june',\n",
              "       'increased Rainfall'],\n",
              "      dtype='object')"
            ]
          },
          "metadata": {},
          "execution_count": 18
        }
      ]
    },
    {
      "cell_type": "code",
      "source": [
        "data.groupby('10days_june').sum()['ANNUAL'].plot(figsize=(22,22))"
      ],
      "metadata": {
        "colab": {
          "base_uri": "https://localhost:8080/",
          "height": 1000
        },
        "id": "GCT1QoCY4V_p",
        "outputId": "2fe4a98a-f875-4546-cd99-4f0b0de008cf"
      },
      "execution_count": null,
      "outputs": [
        {
          "output_type": "execute_result",
          "data": {
            "text/plain": [
              "<matplotlib.axes._subplots.AxesSubplot at 0x7fd7dde36640>"
            ]
          },
          "metadata": {},
          "execution_count": 19
        },
        {
          "output_type": "display_data",
          "data": {
            "text/plain": [
              "<Figure size 1584x1584 with 1 Axes>"
            ],
            "image/png": "[encoded data removed]"
          },
          "metadata": {
            "needs_background": "light"
          }
        }
      ]
    },
    {
      "cell_type": "code",
      "source": [
        "ax = data[['JAN', 'FEB', 'MAR', 'APR','MAY', 'JUN', 'AUG', 'SEP', 'OCT','NOV','DEC']].mean().plot.bar(width=0.5,edgecolor='k',align='center',linewidth=2,figsize=(14,6))\n",
        "plt.xlabel('Month',fontsize=30)\n",
        "plt.ylabel('Monthly Rainfall',fontsize=20)\n",
        "plt.title('Rainfall in Kerela for all Months',fontsize=25)\n",
        "ax.tick_params(labelsize=20)\n",
        "plt.grid()\n",
        "plt.ioff()"
      ],
      "metadata": {
        "colab": {
          "base_uri": "https://localhost:8080/",
          "height": 662
        },
        "id": "kGob9KmJOGAi",
        "outputId": "2a98448a-94b2-4d36-ed66-19c1c11709ad"
      },
      "execution_count": null,
      "outputs": [
        {
          "output_type": "display_data",
          "data": {
            "text/plain": [
              "<Figure size 1152x720 with 1 Axes>"
            ],
            "image/png": "[encoded data removed]"
          },
          "metadata": {
            "needs_background": "light"
          }
        }
      ]
    },
    {
      "cell_type": "code",
      "source": [
        "# Average monthly rainfall in India\n",
        "ax = data[['Jan-Feb', 'Mar-May', 'Jun-Sep', 'Oct-Dec']].mean().plot.bar(width=0.5, linewidth=2, figsize=(16,10))\n",
        "plt.xlabel('Quarter',fontsize=15)\n",
        "plt.ylabel('Quarterly Rainfall (in mm)', fontsize=15)\n",
        "plt.title('Quarterly Rainfall in India', fontsize=20)\n",
        "ax.tick_params(labelsize=15)\n",
        "plt.grid()"
      ],
      "metadata": {
        "colab": {
          "base_uri": "https://localhost:8080/",
          "height": 686
        },
        "id": "bKGpAsdNOeMr",
        "outputId": "801d6eaf-83aa-4597-8eca-dd2ca83a90ce"
      },
      "execution_count": null,
      "outputs": [
        {
          "output_type": "display_data",
          "data": {
            "text/plain": [
              "<Figure size 1152x720 with 1 Axes>"
            ],
            "image/png": "[encoded data removed]"
          },
          "metadata": {
            "needs_background": "light"
          }
        }
      ]
    },
    {
      "cell_type": "code",
      "source": [
        "# Visualizing annual rainfall over the years(1901-2015) in India\n",
        "ax = data.groupby(\"YEAR\").mean()['ANNUAL'].plot(ylim=(1000,2000),color='r',marker='o',linestyle='-',linewidth=2,figsize=(12,10));\n",
        "plt.xlabel('Year',fontsize=20)\n",
        "plt.ylabel('Annual Rainfall (in mm)',fontsize=20)\n",
        "plt.title('Annual Rainfall from Year 1901 to 2015 in India',fontsize=25)\n",
        "ax.tick_params(labelsize=15)\n",
        "plt.grid()"
      ],
      "metadata": {
        "colab": {
          "base_uri": "https://localhost:8080/",
          "height": 645
        },
        "id": "GGn8z2uqOf4E",
        "outputId": "225b6556-19cb-4929-c6b3-201ff12593cc"
      },
      "execution_count": null,
      "outputs": [
        {
          "output_type": "display_data",
          "data": {
            "text/plain": [
              "<Figure size 864x720 with 1 Axes>"
            ],
            "image/png": "[encoded data removed]"
          },
          "metadata": {
            "needs_background": "light"
          }
        }
      ]
    },
    {
      "cell_type": "code",
      "source": [
        "# Years and Subdivision which recorded maximum and minimum rainfall\n",
        "print(data.groupby('YEAR').mean()['ANNUAL'].sort_values(ascending=False).head(10))\n",
        "print(\"--------------------------------------------\")\n",
        "print(data.groupby('SUBDIVISION').mean()['ANNUAL'].sort_values(ascending=False).head(10))\n",
        "print('\\n')\n",
        "print(\"--------------------------------------------\")\n",
        "print(data.groupby('YEAR').mean()['ANNUAL'].sort_values(ascending=False).tail(10))\n",
        "print(\"--------------------------------------------\")\n",
        "print(data.groupby('SUBDIVISION').mean()['ANNUAL'].sort_values(ascending=False).tail(10))"
      ],
      "metadata": {
        "colab": {
          "base_uri": "https://localhost:8080/"
        },
        "id": "c-Yk8JfpPH_p",
        "outputId": "780736da-7324-4d2b-af02-033d0a2ceca0"
      },
      "execution_count": null,
      "outputs": [
        {
          "output_type": "stream",
          "name": "stdout",
          "text": [
            "YEAR\n",
            "1961    2163.742857\n",
            "1933    1997.628571\n",
            "1975    1936.885714\n",
            "1959    1899.328571\n",
            "2010    1856.500000\n",
            "1962    1852.228571\n",
            "1994    1840.657143\n",
            "1946    1821.128571\n",
            "1903    1792.928571\n",
            "2013    1789.971429\n",
            "Name: ANNUAL, dtype: float64\n",
            "--------------------------------------------\n",
            "SUBDIVISION\n",
            "COASTAL KARNATAKA           3405.886087\n",
            "KERALA                      2925.487826\n",
            "COASTAL ANDHRA PRADESH      1052.904348\n",
            "SOUTH INTERIOR KARNATAKA    1040.391304\n",
            "TELANGANA                    953.378261\n",
            "TAMIL NADU                   943.713043\n",
            "NORTH INTERIOR KARNATAKA     717.795652\n",
            "Name: ANNUAL, dtype: float64\n",
            "\n",
            "\n",
            "--------------------------------------------\n",
            "YEAR\n",
            "1934    1350.257143\n",
            "1913    1335.400000\n",
            "1976    1330.000000\n",
            "2003    1301.657143\n",
            "1952    1299.214286\n",
            "1905    1285.814286\n",
            "1965    1285.214286\n",
            "1911    1280.242857\n",
            "1918    1211.214286\n",
            "2002    1196.185714\n",
            "Name: ANNUAL, dtype: float64\n",
            "--------------------------------------------\n",
            "SUBDIVISION\n",
            "COASTAL KARNATAKA           3405.886087\n",
            "KERALA                      2925.487826\n",
            "COASTAL ANDHRA PRADESH      1052.904348\n",
            "SOUTH INTERIOR KARNATAKA    1040.391304\n",
            "TELANGANA                    953.378261\n",
            "TAMIL NADU                   943.713043\n",
            "NORTH INTERIOR KARNATAKA     717.795652\n",
            "Name: ANNUAL, dtype: float64\n"
          ]
        }
      ]
    },
    {
      "cell_type": "code",
      "source": [
        "from sklearn.model_selection import train_test_split\n",
        "from sklearn.model_selection import train_test_split\n",
        "from sklearn.linear_model import LogisticRegression\n",
        "from sklearn.neighbors import KNeighborsClassifier\n",
        "from sklearn .model_selection import cross_val_score\n",
        "from sklearn.metrics import accuracy_score,precision_score,recall_score,classification_report\n",
        "from sklearn.tree import DecisionTreeClassifier\n",
        "import xgboost as xgb\n",
        "from sklearn.svm import SVC,SVR\n",
        "from sklearn.ensemble import RandomForestClassifier,RandomForestRegressor"
      ],
      "metadata": {
        "id": "A54Q9Iy_QFKU"
      },
      "execution_count": null,
      "outputs": []
    },
    {
      "cell_type": "code",
      "source": [
        "data1 = data[['Mar-May','Jun-Sep','10days_june','increased Rainfall','flood']]\n",
        "data1"
      ],
      "metadata": {
        "colab": {
          "base_uri": "https://localhost:8080/",
          "height": 424
        },
        "id": "MX9hG_jDSJnE",
        "outputId": "849e9f58-3925-4436-d409-87908208f5ab"
      },
      "execution_count": null,
      "outputs": [
        {
          "output_type": "execute_result",
          "data": {
            "text/plain": [
              "     Mar-May  Jun-Sep  10days_june  increased Rainfall  flood\n",
              "0      386.2   2122.8   274.866667               649.9      0\n",
              "1      275.7   2403.4   130.300000               256.4      1\n",
              "2      336.3   2343.0   186.200000               308.9      0\n",
              "3      339.4   2398.2   366.066667               862.5      0\n",
              "4      378.5   1881.5   283.400000               586.9      0\n",
              "..       ...      ...          ...                 ...    ...\n",
              "800    176.1    690.2    59.033333                93.6      0\n",
              "801    152.6    563.5    27.266667                36.2      0\n",
              "802    142.0    827.1    58.733333                80.6      0\n",
              "803    195.0    794.5    35.600000                23.7      0\n",
              "804    230.2    631.8    72.900000                93.4      0\n",
              "\n",
              "[805 rows x 5 columns]"
            ],
            "text/html": [
              "\n",
              "  <div id=\"df-17a33c39-fecb-4676-a82a-12e8f8b43302\">\n",
              "    <div class=\"colab-df-container\">\n",
              "      <div>\n",
              "<style scoped>\n",
              "    .dataframe tbody tr th:only-of-type {\n",
              "        vertical-align: middle;\n",
              "    }\n",
              "\n",
              "    .dataframe tbody tr th {\n",
              "        vertical-align: top;\n",
              "    }\n",
              "\n",
              "    .dataframe thead th {\n",
              "        text-align: right;\n",
              "    }\n",
              "</style>\n",
              "<table border=\"1\" class=\"dataframe\">\n",
              "  <thead>\n",
              "    <tr style=\"text-align: right;\">\n",
              "      <th></th>\n",
              "      <th>Mar-May</th>\n",
              "      <th>Jun-Sep</th>\n",
              "      <th>10days_june</th>\n",
              "      <th>increased Rainfall</th>\n",
              "      <th>flood</th>\n",
              "    </tr>\n",
              "  </thead>\n",
              "  <tbody>\n",
              "    <tr>\n",
              "      <th>0</th>\n",
              "      <td>386.2</td>\n",
              "      <td>2122.8</td>\n",
              "      <td>274.866667</td>\n",
              "      <td>649.9</td>\n",
              "      <td>0</td>\n",
              "    </tr>\n",
              "    <tr>\n",
              "      <th>1</th>\n",
              "      <td>275.7</td>\n",
              "      <td>2403.4</td>\n",
              "      <td>130.300000</td>\n",
              "      <td>256.4</td>\n",
              "      <td>1</td>\n",
              "    </tr>\n",
              "    <tr>\n",
              "      <th>2</th>\n",
              "      <td>336.3</td>\n",
              "      <td>2343.0</td>\n",
              "      <td>186.200000</td>\n",
              "      <td>308.9</td>\n",
              "      <td>0</td>\n",
              "    </tr>\n",
              "    <tr>\n",
              "      <th>3</th>\n",
              "      <td>339.4</td>\n",
              "      <td>2398.2</td>\n",
              "      <td>366.066667</td>\n",
              "      <td>862.5</td>\n",
              "      <td>0</td>\n",
              "    </tr>\n",
              "    <tr>\n",
              "      <th>4</th>\n",
              "      <td>378.5</td>\n",
              "      <td>1881.5</td>\n",
              "      <td>283.400000</td>\n",
              "      <td>586.9</td>\n",
              "      <td>0</td>\n",
              "    </tr>\n",
              "    <tr>\n",
              "      <th>...</th>\n",
              "      <td>...</td>\n",
              "      <td>...</td>\n",
              "      <td>...</td>\n",
              "      <td>...</td>\n",
              "      <td>...</td>\n",
              "    </tr>\n",
              "    <tr>\n",
              "      <th>800</th>\n",
              "      <td>176.1</td>\n",
              "      <td>690.2</td>\n",
              "      <td>59.033333</td>\n",
              "      <td>93.6</td>\n",
              "      <td>0</td>\n",
              "    </tr>\n",
              "    <tr>\n",
              "      <th>801</th>\n",
              "      <td>152.6</td>\n",
              "      <td>563.5</td>\n",
              "      <td>27.266667</td>\n",
              "      <td>36.2</td>\n",
              "      <td>0</td>\n",
              "    </tr>\n",
              "    <tr>\n",
              "      <th>802</th>\n",
              "      <td>142.0</td>\n",
              "      <td>827.1</td>\n",
              "      <td>58.733333</td>\n",
              "      <td>80.6</td>\n",
              "      <td>0</td>\n",
              "    </tr>\n",
              "    <tr>\n",
              "      <th>803</th>\n",
              "      <td>195.0</td>\n",
              "      <td>794.5</td>\n",
              "      <td>35.600000</td>\n",
              "      <td>23.7</td>\n",
              "      <td>0</td>\n",
              "    </tr>\n",
              "    <tr>\n",
              "      <th>804</th>\n",
              "      <td>230.2</td>\n",
              "      <td>631.8</td>\n",
              "      <td>72.900000</td>\n",
              "      <td>93.4</td>\n",
              "      <td>0</td>\n",
              "    </tr>\n",
              "  </tbody>\n",
              "</table>\n",
              "<p>805 rows × 5 columns</p>\n",
              "</div>\n",
              "      <button class=\"colab-df-convert\" onclick=\"convertToInteractive('df-17a33c39-fecb-4676-a82a-12e8f8b43302')\"\n",
              "              title=\"Convert this dataframe to an interactive table.\"\n",
              "              style=\"display:none;\">\n",
              "        \n",
              "  <svg xmlns=\"http://www.w3.org/2000/svg\" height=\"24px\"viewBox=\"0 0 24 24\"\n",
              "       width=\"24px\">\n",
              "    <path d=\"M0 0h24v24H0V0z\" fill=\"none\"/>\n",
              "    <path d=\"M18.56 5.44l.94 2.06.94-2.06 2.06-.94-2.06-.94-.94-2.06-.94 2.06-2.06.94zm-11 1L8.5 8.5l.94-2.06 2.06-.94-2.06-.94L8.5 2.5l-.94 2.06-2.06.94zm10 10l.94 2.06.94-2.06 2.06-.94-2.06-.94-.94-2.06-.94 2.06-2.06.94z\"/><path d=\"M17.41 7.96l-1.37-1.37c-.4-.4-.92-.59-1.43-.59-.52 0-1.04.2-1.43.59L10.3 9.45l-7.72 7.72c-.78.78-.78 2.05 0 2.83L4 21.41c.39.39.9.59 1.41.59.51 0 1.02-.2 1.41-.59l7.78-7.78 2.81-2.81c.8-.78.8-2.07 0-2.86zM5.41 20L4 18.59l7.72-7.72 1.47 1.35L5.41 20z\"/>\n",
              "  </svg>\n",
              "      </button>\n",
              "      \n",
              "  <style>\n",
              "    .colab-df-container {\n",
              "      display:flex;\n",
              "      flex-wrap:wrap;\n",
              "      gap: 12px;\n",
              "    }\n",
              "\n",
              "    .colab-df-convert {\n",
              "      background-color: #E8F0FE;\n",
              "      border: none;\n",
              "      border-radius: 50%;\n",
              "      cursor: pointer;\n",
              "      display: none;\n",
              "      fill: #1967D2;\n",
              "      height: 32px;\n",
              "      padding: 0 0 0 0;\n",
              "      width: 32px;\n",
              "    }\n",
              "\n",
              "    .colab-df-convert:hover {\n",
              "      background-color: #E2EBFA;\n",
              "      box-shadow: 0px 1px 2px rgba(60, 64, 67, 0.3), 0px 1px 3px 1px rgba(60, 64, 67, 0.15);\n",
              "      fill: #174EA6;\n",
              "    }\n",
              "\n",
              "    [theme=dark] .colab-df-convert {\n",
              "      background-color: #3B4455;\n",
              "      fill: #D2E3FC;\n",
              "    }\n",
              "\n",
              "    [theme=dark] .colab-df-convert:hover {\n",
              "      background-color: #434B5C;\n",
              "      box-shadow: 0px 1px 3px 1px rgba(0, 0, 0, 0.15);\n",
              "      filter: drop-shadow(0px 1px 2px rgba(0, 0, 0, 0.3));\n",
              "      fill: #FFFFFF;\n",
              "    }\n",
              "  </style>\n",
              "\n",
              "      <script>\n",
              "        const buttonEl =\n",
              "          document.querySelector('#df-17a33c39-fecb-4676-a82a-12e8f8b43302 button.colab-df-convert');\n",
              "        buttonEl.style.display =\n",
              "          google.colab.kernel.accessAllowed ? 'block' : 'none';\n",
              "\n",
              "        async function convertToInteractive(key) {\n",
              "          const element = document.querySelector('#df-17a33c39-fecb-4676-a82a-12e8f8b43302');\n",
              "          const dataTable =\n",
              "            await google.colab.kernel.invokeFunction('convertToInteractive',\n",
              "                                                     [key], {});\n",
              "          if (!dataTable) return;\n",
              "\n",
              "          const docLinkHtml = 'Like what you see? Visit the ' +\n",
              "            '<a target=\"_blank\" href=https://colab.research.google.com/notebooks/data_table.ipynb>data table notebook</a>'\n",
              "            + ' to learn more about interactive tables.';\n",
              "          element.innerHTML = '';\n",
              "          dataTable['output_type'] = 'display_data';\n",
              "          await google.colab.output.renderOutput(dataTable, element);\n",
              "          const docLink = document.createElement('div');\n",
              "          docLink.innerHTML = docLinkHtml;\n",
              "          element.appendChild(docLink);\n",
              "        }\n",
              "      </script>\n",
              "    </div>\n",
              "  </div>\n",
              "  "
            ]
          },
          "metadata": {},
          "execution_count": 25
        }
      ]
    },
    {
      "cell_type": "code",
      "source": [
        "X= data1.drop(['flood'],axis = 1)\n",
        "y = data1.flood\n",
        "x_train,x_test,y_train,y_test = train_test_split(X,y,test_size=0.2,random_state = 9)"
      ],
      "metadata": {
        "id": "_zPzdl6VSPaJ"
      },
      "execution_count": null,
      "outputs": []
    },
    {
      "cell_type": "code",
      "source": [
        "x_train.head()"
      ],
      "metadata": {
        "colab": {
          "base_uri": "https://localhost:8080/",
          "height": 206
        },
        "id": "PbzLGoCRSnJ9",
        "outputId": "d6388990-f5a5-40bc-9790-52821b0f38cb"
      },
      "execution_count": null,
      "outputs": [
        {
          "output_type": "execute_result",
          "data": {
            "text/plain": [
              "     Mar-May  Jun-Sep  10days_june  increased Rainfall\n",
              "489    190.8   2439.7   303.633333               739.4\n",
              "130     83.3    423.4    11.500000                26.6\n",
              "602     51.9    567.8    51.200000               133.1\n",
              "265    173.4    686.8    54.233333                17.5\n",
              "502    463.6   2712.2   313.933333               486.6"
            ],
            "text/html": [
              "\n",
              "  <div id=\"df-9a75c213-155c-4458-bd71-f5f59515c4a7\">\n",
              "    <div class=\"colab-df-container\">\n",
              "      <div>\n",
              "<style scoped>\n",
              "    .dataframe tbody tr th:only-of-type {\n",
              "        vertical-align: middle;\n",
              "    }\n",
              "\n",
              "    .dataframe tbody tr th {\n",
              "        vertical-align: top;\n",
              "    }\n",
              "\n",
              "    .dataframe thead th {\n",
              "        text-align: right;\n",
              "    }\n",
              "</style>\n",
              "<table border=\"1\" class=\"dataframe\">\n",
              "  <thead>\n",
              "    <tr style=\"text-align: right;\">\n",
              "      <th></th>\n",
              "      <th>Mar-May</th>\n",
              "      <th>Jun-Sep</th>\n",
              "      <th>10days_june</th>\n",
              "      <th>increased Rainfall</th>\n",
              "    </tr>\n",
              "  </thead>\n",
              "  <tbody>\n",
              "    <tr>\n",
              "      <th>489</th>\n",
              "      <td>190.8</td>\n",
              "      <td>2439.7</td>\n",
              "      <td>303.633333</td>\n",
              "      <td>739.4</td>\n",
              "    </tr>\n",
              "    <tr>\n",
              "      <th>130</th>\n",
              "      <td>83.3</td>\n",
              "      <td>423.4</td>\n",
              "      <td>11.500000</td>\n",
              "      <td>26.6</td>\n",
              "    </tr>\n",
              "    <tr>\n",
              "      <th>602</th>\n",
              "      <td>51.9</td>\n",
              "      <td>567.8</td>\n",
              "      <td>51.200000</td>\n",
              "      <td>133.1</td>\n",
              "    </tr>\n",
              "    <tr>\n",
              "      <th>265</th>\n",
              "      <td>173.4</td>\n",
              "      <td>686.8</td>\n",
              "      <td>54.233333</td>\n",
              "      <td>17.5</td>\n",
              "    </tr>\n",
              "    <tr>\n",
              "      <th>502</th>\n",
              "      <td>463.6</td>\n",
              "      <td>2712.2</td>\n",
              "      <td>313.933333</td>\n",
              "      <td>486.6</td>\n",
              "    </tr>\n",
              "  </tbody>\n",
              "</table>\n",
              "</div>\n",
              "      <button class=\"colab-df-convert\" onclick=\"convertToInteractive('df-9a75c213-155c-4458-bd71-f5f59515c4a7')\"\n",
              "              title=\"Convert this dataframe to an interactive table.\"\n",
              "              style=\"display:none;\">\n",
              "        \n",
              "  <svg xmlns=\"http://www.w3.org/2000/svg\" height=\"24px\"viewBox=\"0 0 24 24\"\n",
              "       width=\"24px\">\n",
              "    <path d=\"M0 0h24v24H0V0z\" fill=\"none\"/>\n",
              "    <path d=\"M18.56 5.44l.94 2.06.94-2.06 2.06-.94-2.06-.94-.94-2.06-.94 2.06-2.06.94zm-11 1L8.5 8.5l.94-2.06 2.06-.94-2.06-.94L8.5 2.5l-.94 2.06-2.06.94zm10 10l.94 2.06.94-2.06 2.06-.94-2.06-.94-.94-2.06-.94 2.06-2.06.94z\"/><path d=\"M17.41 7.96l-1.37-1.37c-.4-.4-.92-.59-1.43-.59-.52 0-1.04.2-1.43.59L10.3 9.45l-7.72 7.72c-.78.78-.78 2.05 0 2.83L4 21.41c.39.39.9.59 1.41.59.51 0 1.02-.2 1.41-.59l7.78-7.78 2.81-2.81c.8-.78.8-2.07 0-2.86zM5.41 20L4 18.59l7.72-7.72 1.47 1.35L5.41 20z\"/>\n",
              "  </svg>\n",
              "      </button>\n",
              "      \n",
              "  <style>\n",
              "    .colab-df-container {\n",
              "      display:flex;\n",
              "      flex-wrap:wrap;\n",
              "      gap: 12px;\n",
              "    }\n",
              "\n",
              "    .colab-df-convert {\n",
              "      background-color: #E8F0FE;\n",
              "      border: none;\n",
              "      border-radius: 50%;\n",
              "      cursor: pointer;\n",
              "      display: none;\n",
              "      fill: #1967D2;\n",
              "      height: 32px;\n",
              "      padding: 0 0 0 0;\n",
              "      width: 32px;\n",
              "    }\n",
              "\n",
              "    .colab-df-convert:hover {\n",
              "      background-color: #E2EBFA;\n",
              "      box-shadow: 0px 1px 2px rgba(60, 64, 67, 0.3), 0px 1px 3px 1px rgba(60, 64, 67, 0.15);\n",
              "      fill: #174EA6;\n",
              "    }\n",
              "\n",
              "    [theme=dark] .colab-df-convert {\n",
              "      background-color: #3B4455;\n",
              "      fill: #D2E3FC;\n",
              "    }\n",
              "\n",
              "    [theme=dark] .colab-df-convert:hover {\n",
              "      background-color: #434B5C;\n",
              "      box-shadow: 0px 1px 3px 1px rgba(0, 0, 0, 0.15);\n",
              "      filter: drop-shadow(0px 1px 2px rgba(0, 0, 0, 0.3));\n",
              "      fill: #FFFFFF;\n",
              "    }\n",
              "  </style>\n",
              "\n",
              "      <script>\n",
              "        const buttonEl =\n",
              "          document.querySelector('#df-9a75c213-155c-4458-bd71-f5f59515c4a7 button.colab-df-convert');\n",
              "        buttonEl.style.display =\n",
              "          google.colab.kernel.accessAllowed ? 'block' : 'none';\n",
              "\n",
              "        async function convertToInteractive(key) {\n",
              "          const element = document.querySelector('#df-9a75c213-155c-4458-bd71-f5f59515c4a7');\n",
              "          const dataTable =\n",
              "            await google.colab.kernel.invokeFunction('convertToInteractive',\n",
              "                                                     [key], {});\n",
              "          if (!dataTable) return;\n",
              "\n",
              "          const docLinkHtml = 'Like what you see? Visit the ' +\n",
              "            '<a target=\"_blank\" href=https://colab.research.google.com/notebooks/data_table.ipynb>data table notebook</a>'\n",
              "            + ' to learn more about interactive tables.';\n",
              "          element.innerHTML = '';\n",
              "          dataTable['output_type'] = 'display_data';\n",
              "          await google.colab.output.renderOutput(dataTable, element);\n",
              "          const docLink = document.createElement('div');\n",
              "          docLink.innerHTML = docLinkHtml;\n",
              "          element.appendChild(docLink);\n",
              "        }\n",
              "      </script>\n",
              "    </div>\n",
              "  </div>\n",
              "  "
            ]
          },
          "metadata": {},
          "execution_count": 28
        }
      ]
    },
    {
      "cell_type": "code",
      "source": [
        "x_test.head()"
      ],
      "metadata": {
        "colab": {
          "base_uri": "https://localhost:8080/",
          "height": 206
        },
        "id": "wvXEaX-JSo1S",
        "outputId": "fb83d62d-5550-48b7-8d06-b73772b9ba06"
      },
      "execution_count": null,
      "outputs": [
        {
          "output_type": "execute_result",
          "data": {
            "text/plain": [
              "     Mar-May  Jun-Sep  10days_june  increased Rainfall\n",
              "730    119.9    626.2    51.633333                81.1\n",
              "756    108.3    701.8    45.433333                58.5\n",
              "617    152.4    517.2    38.533333                 2.2\n",
              "128     97.3    306.1    12.633333                19.2\n",
              "181    107.2    295.9    23.033333                21.5"
            ],
            "text/html": [
              "\n",
              "  <div id=\"df-79bd836c-848c-4f1f-8cfb-858f2041c6f7\">\n",
              "    <div class=\"colab-df-container\">\n",
              "      <div>\n",
              "<style scoped>\n",
              "    .dataframe tbody tr th:only-of-type {\n",
              "        vertical-align: middle;\n",
              "    }\n",
              "\n",
              "    .dataframe tbody tr th {\n",
              "        vertical-align: top;\n",
              "    }\n",
              "\n",
              "    .dataframe thead th {\n",
              "        text-align: right;\n",
              "    }\n",
              "</style>\n",
              "<table border=\"1\" class=\"dataframe\">\n",
              "  <thead>\n",
              "    <tr style=\"text-align: right;\">\n",
              "      <th></th>\n",
              "      <th>Mar-May</th>\n",
              "      <th>Jun-Sep</th>\n",
              "      <th>10days_june</th>\n",
              "      <th>increased Rainfall</th>\n",
              "    </tr>\n",
              "  </thead>\n",
              "  <tbody>\n",
              "    <tr>\n",
              "      <th>730</th>\n",
              "      <td>119.9</td>\n",
              "      <td>626.2</td>\n",
              "      <td>51.633333</td>\n",
              "      <td>81.1</td>\n",
              "    </tr>\n",
              "    <tr>\n",
              "      <th>756</th>\n",
              "      <td>108.3</td>\n",
              "      <td>701.8</td>\n",
              "      <td>45.433333</td>\n",
              "      <td>58.5</td>\n",
              "    </tr>\n",
              "    <tr>\n",
              "      <th>617</th>\n",
              "      <td>152.4</td>\n",
              "      <td>517.2</td>\n",
              "      <td>38.533333</td>\n",
              "      <td>2.2</td>\n",
              "    </tr>\n",
              "    <tr>\n",
              "      <th>128</th>\n",
              "      <td>97.3</td>\n",
              "      <td>306.1</td>\n",
              "      <td>12.633333</td>\n",
              "      <td>19.2</td>\n",
              "    </tr>\n",
              "    <tr>\n",
              "      <th>181</th>\n",
              "      <td>107.2</td>\n",
              "      <td>295.9</td>\n",
              "      <td>23.033333</td>\n",
              "      <td>21.5</td>\n",
              "    </tr>\n",
              "  </tbody>\n",
              "</table>\n",
              "</div>\n",
              "      <button class=\"colab-df-convert\" onclick=\"convertToInteractive('df-79bd836c-848c-4f1f-8cfb-858f2041c6f7')\"\n",
              "              title=\"Convert this dataframe to an interactive table.\"\n",
              "              style=\"display:none;\">\n",
              "        \n",
              "  <svg xmlns=\"http://www.w3.org/2000/svg\" height=\"24px\"viewBox=\"0 0 24 24\"\n",
              "       width=\"24px\">\n",
              "    <path d=\"M0 0h24v24H0V0z\" fill=\"none\"/>\n",
              "    <path d=\"M18.56 5.44l.94 2.06.94-2.06 2.06-.94-2.06-.94-.94-2.06-.94 2.06-2.06.94zm-11 1L8.5 8.5l.94-2.06 2.06-.94-2.06-.94L8.5 2.5l-.94 2.06-2.06.94zm10 10l.94 2.06.94-2.06 2.06-.94-2.06-.94-.94-2.06-.94 2.06-2.06.94z\"/><path d=\"M17.41 7.96l-1.37-1.37c-.4-.4-.92-.59-1.43-.59-.52 0-1.04.2-1.43.59L10.3 9.45l-7.72 7.72c-.78.78-.78 2.05 0 2.83L4 21.41c.39.39.9.59 1.41.59.51 0 1.02-.2 1.41-.59l7.78-7.78 2.81-2.81c.8-.78.8-2.07 0-2.86zM5.41 20L4 18.59l7.72-7.72 1.47 1.35L5.41 20z\"/>\n",
              "  </svg>\n",
              "      </button>\n",
              "      \n",
              "  <style>\n",
              "    .colab-df-container {\n",
              "      display:flex;\n",
              "      flex-wrap:wrap;\n",
              "      gap: 12px;\n",
              "    }\n",
              "\n",
              "    .colab-df-convert {\n",
              "      background-color: #E8F0FE;\n",
              "      border: none;\n",
              "      border-radius: 50%;\n",
              "      cursor: pointer;\n",
              "      display: none;\n",
              "      fill: #1967D2;\n",
              "      height: 32px;\n",
              "      padding: 0 0 0 0;\n",
              "      width: 32px;\n",
              "    }\n",
              "\n",
              "    .colab-df-convert:hover {\n",
              "      background-color: #E2EBFA;\n",
              "      box-shadow: 0px 1px 2px rgba(60, 64, 67, 0.3), 0px 1px 3px 1px rgba(60, 64, 67, 0.15);\n",
              "      fill: #174EA6;\n",
              "    }\n",
              "\n",
              "    [theme=dark] .colab-df-convert {\n",
              "      background-color: #3B4455;\n",
              "      fill: #D2E3FC;\n",
              "    }\n",
              "\n",
              "    [theme=dark] .colab-df-convert:hover {\n",
              "      background-color: #434B5C;\n",
              "      box-shadow: 0px 1px 3px 1px rgba(0, 0, 0, 0.15);\n",
              "      filter: drop-shadow(0px 1px 2px rgba(0, 0, 0, 0.3));\n",
              "      fill: #FFFFFF;\n",
              "    }\n",
              "  </style>\n",
              "\n",
              "      <script>\n",
              "        const buttonEl =\n",
              "          document.querySelector('#df-79bd836c-848c-4f1f-8cfb-858f2041c6f7 button.colab-df-convert');\n",
              "        buttonEl.style.display =\n",
              "          google.colab.kernel.accessAllowed ? 'block' : 'none';\n",
              "\n",
              "        async function convertToInteractive(key) {\n",
              "          const element = document.querySelector('#df-79bd836c-848c-4f1f-8cfb-858f2041c6f7');\n",
              "          const dataTable =\n",
              "            await google.colab.kernel.invokeFunction('convertToInteractive',\n",
              "                                                     [key], {});\n",
              "          if (!dataTable) return;\n",
              "\n",
              "          const docLinkHtml = 'Like what you see? Visit the ' +\n",
              "            '<a target=\"_blank\" href=https://colab.research.google.com/notebooks/data_table.ipynb>data table notebook</a>'\n",
              "            + ' to learn more about interactive tables.';\n",
              "          element.innerHTML = '';\n",
              "          dataTable['output_type'] = 'display_data';\n",
              "          await google.colab.output.renderOutput(dataTable, element);\n",
              "          const docLink = document.createElement('div');\n",
              "          docLink.innerHTML = docLinkHtml;\n",
              "          element.appendChild(docLink);\n",
              "        }\n",
              "      </script>\n",
              "    </div>\n",
              "  </div>\n",
              "  "
            ]
          },
          "metadata": {},
          "execution_count": 29
        }
      ]
    },
    {
      "cell_type": "code",
      "source": [
        "y_train.head()"
      ],
      "metadata": {
        "colab": {
          "base_uri": "https://localhost:8080/"
        },
        "id": "iIQk3U6NSt-C",
        "outputId": "ef8b2d6b-76c1-4b7c-f6e6-ea4157a9bbb1"
      },
      "execution_count": null,
      "outputs": [
        {
          "output_type": "execute_result",
          "data": {
            "text/plain": [
              "489    1\n",
              "130    0\n",
              "602    0\n",
              "265    0\n",
              "502    1\n",
              "Name: flood, dtype: int64"
            ]
          },
          "metadata": {},
          "execution_count": 30
        }
      ]
    },
    {
      "cell_type": "code",
      "source": [
        "y_test"
      ],
      "metadata": {
        "colab": {
          "base_uri": "https://localhost:8080/"
        },
        "id": "IQPmz90VSxSg",
        "outputId": "7898da12-6ccd-4a83-8098-7d783096d873"
      },
      "execution_count": null,
      "outputs": [
        {
          "output_type": "execute_result",
          "data": {
            "text/plain": [
              "730    0\n",
              "756    0\n",
              "617    0\n",
              "128    0\n",
              "181    0\n",
              "      ..\n",
              "70     0\n",
              "732    0\n",
              "194    0\n",
              "636    0\n",
              "17     0\n",
              "Name: flood, Length: 161, dtype: int64"
            ]
          },
          "metadata": {},
          "execution_count": 81
        }
      ]
    },
    {
      "cell_type": "markdown",
      "source": [
        "#Models"
      ],
      "metadata": {
        "id": "4ylWs1w3rEEc"
      }
    },
    {
      "cell_type": "markdown",
      "source": [
        "SVM"
      ],
      "metadata": {
        "id": "Ajpw1zZlTU5k"
      }
    },
    {
      "cell_type": "code",
      "source": [
        "clf = SVC()\n",
        "clf.fit(X,y)\n",
        "score = cross_val_score(clf, X, y, cv=3,scoring='accuracy')\n",
        "print(\"Accuracy:\"+ str(score.mean()))"
      ],
      "metadata": {
        "colab": {
          "base_uri": "https://localhost:8080/"
        },
        "id": "n9WXR5bsTPZI",
        "outputId": "87c928fa-551c-4ac4-b8b6-ffbe23e8853a"
      },
      "execution_count": null,
      "outputs": [
        {
          "output_type": "stream",
          "name": "stdout",
          "text": [
            "Accuracy:0.9776905435647043\n"
          ]
        }
      ]
    },
    {
      "cell_type": "markdown",
      "source": [
        "Randomfroest"
      ],
      "metadata": {
        "id": "D_Ek_FgaTnYQ"
      }
    },
    {
      "cell_type": "code",
      "source": [
        "clf = RandomForestClassifier()\n",
        "clf.fit(X,y)\n",
        "score = cross_val_score(clf, X, y, cv=3,scoring='accuracy')\n",
        "print(\"Accuracy:\"+ str(score.mean()))"
      ],
      "metadata": {
        "colab": {
          "base_uri": "https://localhost:8080/"
        },
        "id": "LQAi4HJlThm6",
        "outputId": "9816c723-bbf7-47fc-8cb1-2742a22c962c"
      },
      "execution_count": null,
      "outputs": [
        {
          "output_type": "stream",
          "name": "stdout",
          "text": [
            "Accuracy:1.0\n"
          ]
        }
      ]
    },
    {
      "cell_type": "markdown",
      "source": [
        "knn"
      ],
      "metadata": {
        "id": "IFpJRpbkikVm"
      }
    },
    {
      "cell_type": "code",
      "source": [
        "knn = KNeighborsClassifier()\n",
        "knn.fit(X,y)\n",
        "score =cross_val_score(knn,X,y,cv = 3,scoring='accuracy')\n",
        "print(\"Accuracy:\"+ str(score.mean()))"
      ],
      "metadata": {
        "colab": {
          "base_uri": "https://localhost:8080/"
        },
        "id": "4oH-UEXWTyX4",
        "outputId": "aac25e7a-1f79-4ee4-8918-c1f75ec39a5e"
      },
      "execution_count": null,
      "outputs": [
        {
          "output_type": "stream",
          "name": "stdout",
          "text": [
            "Accuracy:0.9776859198431634\n"
          ]
        }
      ]
    },
    {
      "cell_type": "markdown",
      "source": [
        "Decision Tree"
      ],
      "metadata": {
        "id": "q6ioWzYKirxv"
      }
    },
    {
      "cell_type": "code",
      "source": [
        "dt = DecisionTreeClassifier()\n",
        "dt.fit(X,y)\n",
        "score =cross_val_score(dt,X,y,cv = 5,scoring='accuracy')\n",
        "print(\"Accuracy:\"+ str(score.mean()))"
      ],
      "metadata": {
        "colab": {
          "base_uri": "https://localhost:8080/"
        },
        "id": "-RpXrrvgUTa1",
        "outputId": "88ebc49c-20af-43a5-b6cd-93df16a993d5"
      },
      "execution_count": null,
      "outputs": [
        {
          "output_type": "stream",
          "name": "stdout",
          "text": [
            "Accuracy:0.9987577639751553\n"
          ]
        }
      ]
    },
    {
      "cell_type": "markdown",
      "source": [
        "logistic regression\n"
      ],
      "metadata": {
        "id": "577ZQAIWlFf7"
      }
    },
    {
      "cell_type": "code",
      "source": [
        "lr = LogisticRegression()\n",
        "score =cross_val_score(lr,X,y,cv = 5)\n",
        "print(score.mean())"
      ],
      "metadata": {
        "colab": {
          "base_uri": "https://localhost:8080/"
        },
        "id": "Xu2rp2V4lIBw",
        "outputId": "e042fd85-ad93-4829-b9b3-1696c2e08568"
      },
      "execution_count": null,
      "outputs": [
        {
          "output_type": "stream",
          "name": "stdout",
          "text": [
            "0.9590062111801242\n"
          ]
        }
      ]
    },
    {
      "cell_type": "markdown",
      "source": [
        "XGBoost"
      ],
      "metadata": {
        "id": "GE0DcyujmEpm"
      }
    },
    {
      "cell_type": "code",
      "source": [
        "xg = xgb.XGBClassifier()\n",
        "score =cross_val_score(xg,X,y,cv = 5)\n",
        "print(score.mean())"
      ],
      "metadata": {
        "colab": {
          "base_uri": "https://localhost:8080/"
        },
        "id": "stSc-aoRmDpw",
        "outputId": "55ed2883-ec7d-4693-8f63-bc6af9bb2030"
      },
      "execution_count": null,
      "outputs": [
        {
          "output_type": "stream",
          "name": "stdout",
          "text": [
            "0.9987577639751553\n"
          ]
        }
      ]
    },
    {
      "cell_type": "markdown",
      "source": [
        "ANN"
      ],
      "metadata": {
        "id": "q1VDvtJ9BW7T"
      }
    },
    {
      "cell_type": "code",
      "source": [
        "from keras.models import Sequential, Model\n",
        "from keras.layers import Dense, Input\n",
        "from sklearn.model_selection import GridSearchCV\n",
        "from keras.wrappers.scikit_learn import KerasRegressor\n",
        "from keras.callbacks import EarlyStopping\n",
        "def ANN(optimizer = 'adam',neurons=32,batch_size=32,epochs=50,activation='relu',patience=5,loss='mse'):\n",
        "    model = Sequential()\n",
        "    model.add(Dense(neurons, input_shape=(X.shape[1],), activation=activation))\n",
        "    model.add(Dense(neurons, activation=activation))\n",
        "    model.add(Dense(1))\n",
        "    model.compile(optimizer = optimizer, loss=loss)\n",
        "    early_stopping = EarlyStopping(monitor=\"loss\", patience = patience)# early stop patience\n",
        "    history = model.fit(X, y,\n",
        "              batch_size=batch_size,\n",
        "              epochs=epochs,\n",
        "              callbacks = [early_stopping],\n",
        "              verbose=0) #verbose set to 1 will show the training process\n",
        "    return model"
      ],
      "metadata": {
        "id": "4yUPP2piUeZM"
      },
      "execution_count": null,
      "outputs": []
    },
    {
      "cell_type": "code",
      "source": [
        "clf = KerasRegressor(build_fn=ANN, verbose=0)\n",
        "score = cross_val_score(clf, X, y, cv=3,scoring='neg_mean_squared_error')\n",
        "print(\"MSE:\"+ str(-score.mean()))\n",
        "\n",
        "score = cross_val_score(clf, X, y, cv=5,scoring='accuracy')\n",
        "print(\"Accuracy:\"+ str(score.mean()))"
      ],
      "metadata": {
        "colab": {
          "base_uri": "https://localhost:8080/"
        },
        "id": "Vk7UjN8OUpD_",
        "outputId": "da452ac0-b9f8-4c4b-c273-d8894760068d"
      },
      "execution_count": null,
      "outputs": [
        {
          "output_type": "stream",
          "name": "stdout",
          "text": [
            "MSE:0.8840980576298515\n",
            "Accuracy:nan\n"
          ]
        }
      ]
    },
    {
      "cell_type": "markdown",
      "source": [
        "#Accuracy"
      ],
      "metadata": {
        "id": "cHIcP11brK6l"
      }
    },
    {
      "cell_type": "code",
      "source": [
        "models = []\n",
        "models.append(('svm', SVC()))\n",
        "models.append(('rf', RandomForestClassifier()))\n",
        "models.append(('knn', KNeighborsClassifier()))\n",
        "models.append(('dt', DecisionTreeClassifier()))\n",
        "models.append(('lr', LogisticRegression()))\n",
        "models.append(('xg', xgb.XGBClassifier()))\n",
        "\n",
        "\n",
        "names = []\n",
        "score = []\n",
        "for name, model in models:\n",
        "    model.fit(x_train, y_train)\n",
        "    y_pred = model.predict(x_test)\n",
        "    score.append(accuracy_score(y_test, y_pred))\n",
        "    names.append(name)\n",
        "tr_split = pd.DataFrame({'Name': names, 'Scores': score})\n",
        "tr_split"
      ],
      "metadata": {
        "colab": {
          "base_uri": "https://localhost:8080/",
          "height": 237
        },
        "id": "zO20rabqrACC",
        "outputId": "19075f8a-f7c7-4a09-b237-2d977488ecfb"
      },
      "execution_count": null,
      "outputs": [
        {
          "output_type": "execute_result",
          "data": {
            "text/plain": [
              "  Name    Scores\n",
              "0  svm  0.993789\n",
              "1   rf  0.993789\n",
              "2  knn  0.987578\n",
              "3   dt  0.993789\n",
              "4   lr  0.987578\n",
              "5   xg  0.993789"
            ],
            "text/html": [
              "\n",
              "  <div id=\"df-a792504a-fc31-40bc-b960-3e6422cd4dfb\">\n",
              "    <div class=\"colab-df-container\">\n",
              "      <div>\n",
              "<style scoped>\n",
              "    .dataframe tbody tr th:only-of-type {\n",
              "        vertical-align: middle;\n",
              "    }\n",
              "\n",
              "    .dataframe tbody tr th {\n",
              "        vertical-align: top;\n",
              "    }\n",
              "\n",
              "    .dataframe thead th {\n",
              "        text-align: right;\n",
              "    }\n",
              "</style>\n",
              "<table border=\"1\" class=\"dataframe\">\n",
              "  <thead>\n",
              "    <tr style=\"text-align: right;\">\n",
              "      <th></th>\n",
              "      <th>Name</th>\n",
              "      <th>Scores</th>\n",
              "    </tr>\n",
              "  </thead>\n",
              "  <tbody>\n",
              "    <tr>\n",
              "      <th>0</th>\n",
              "      <td>svm</td>\n",
              "      <td>0.993789</td>\n",
              "    </tr>\n",
              "    <tr>\n",
              "      <th>1</th>\n",
              "      <td>rf</td>\n",
              "      <td>0.993789</td>\n",
              "    </tr>\n",
              "    <tr>\n",
              "      <th>2</th>\n",
              "      <td>knn</td>\n",
              "      <td>0.987578</td>\n",
              "    </tr>\n",
              "    <tr>\n",
              "      <th>3</th>\n",
              "      <td>dt</td>\n",
              "      <td>0.993789</td>\n",
              "    </tr>\n",
              "    <tr>\n",
              "      <th>4</th>\n",
              "      <td>lr</td>\n",
              "      <td>0.987578</td>\n",
              "    </tr>\n",
              "    <tr>\n",
              "      <th>5</th>\n",
              "      <td>xg</td>\n",
              "      <td>0.993789</td>\n",
              "    </tr>\n",
              "  </tbody>\n",
              "</table>\n",
              "</div>\n",
              "      <button class=\"colab-df-convert\" onclick=\"convertToInteractive('df-a792504a-fc31-40bc-b960-3e6422cd4dfb')\"\n",
              "              title=\"Convert this dataframe to an interactive table.\"\n",
              "              style=\"display:none;\">\n",
              "        \n",
              "  <svg xmlns=\"http://www.w3.org/2000/svg\" height=\"24px\"viewBox=\"0 0 24 24\"\n",
              "       width=\"24px\">\n",
              "    <path d=\"M0 0h24v24H0V0z\" fill=\"none\"/>\n",
              "    <path d=\"M18.56 5.44l.94 2.06.94-2.06 2.06-.94-2.06-.94-.94-2.06-.94 2.06-2.06.94zm-11 1L8.5 8.5l.94-2.06 2.06-.94-2.06-.94L8.5 2.5l-.94 2.06-2.06.94zm10 10l.94 2.06.94-2.06 2.06-.94-2.06-.94-.94-2.06-.94 2.06-2.06.94z\"/><path d=\"M17.41 7.96l-1.37-1.37c-.4-.4-.92-.59-1.43-.59-.52 0-1.04.2-1.43.59L10.3 9.45l-7.72 7.72c-.78.78-.78 2.05 0 2.83L4 21.41c.39.39.9.59 1.41.59.51 0 1.02-.2 1.41-.59l7.78-7.78 2.81-2.81c.8-.78.8-2.07 0-2.86zM5.41 20L4 18.59l7.72-7.72 1.47 1.35L5.41 20z\"/>\n",
              "  </svg>\n",
              "      </button>\n",
              "      \n",
              "  <style>\n",
              "    .colab-df-container {\n",
              "      display:flex;\n",
              "      flex-wrap:wrap;\n",
              "      gap: 12px;\n",
              "    }\n",
              "\n",
              "    .colab-df-convert {\n",
              "      background-color: #E8F0FE;\n",
              "      border: none;\n",
              "      border-radius: 50%;\n",
              "      cursor: pointer;\n",
              "      display: none;\n",
              "      fill: #1967D2;\n",
              "      height: 32px;\n",
              "      padding: 0 0 0 0;\n",
              "      width: 32px;\n",
              "    }\n",
              "\n",
              "    .colab-df-convert:hover {\n",
              "      background-color: #E2EBFA;\n",
              "      box-shadow: 0px 1px 2px rgba(60, 64, 67, 0.3), 0px 1px 3px 1px rgba(60, 64, 67, 0.15);\n",
              "      fill: #174EA6;\n",
              "    }\n",
              "\n",
              "    [theme=dark] .colab-df-convert {\n",
              "      background-color: #3B4455;\n",
              "      fill: #D2E3FC;\n",
              "    }\n",
              "\n",
              "    [theme=dark] .colab-df-convert:hover {\n",
              "      background-color: #434B5C;\n",
              "      box-shadow: 0px 1px 3px 1px rgba(0, 0, 0, 0.15);\n",
              "      filter: drop-shadow(0px 1px 2px rgba(0, 0, 0, 0.3));\n",
              "      fill: #FFFFFF;\n",
              "    }\n",
              "  </style>\n",
              "\n",
              "      <script>\n",
              "        const buttonEl =\n",
              "          document.querySelector('#df-a792504a-fc31-40bc-b960-3e6422cd4dfb button.colab-df-convert');\n",
              "        buttonEl.style.display =\n",
              "          google.colab.kernel.accessAllowed ? 'block' : 'none';\n",
              "\n",
              "        async function convertToInteractive(key) {\n",
              "          const element = document.querySelector('#df-a792504a-fc31-40bc-b960-3e6422cd4dfb');\n",
              "          const dataTable =\n",
              "            await google.colab.kernel.invokeFunction('convertToInteractive',\n",
              "                                                     [key], {});\n",
              "          if (!dataTable) return;\n",
              "\n",
              "          const docLinkHtml = 'Like what you see? Visit the ' +\n",
              "            '<a target=\"_blank\" href=https://colab.research.google.com/notebooks/data_table.ipynb>data table notebook</a>'\n",
              "            + ' to learn more about interactive tables.';\n",
              "          element.innerHTML = '';\n",
              "          dataTable['output_type'] = 'display_data';\n",
              "          await google.colab.output.renderOutput(dataTable, element);\n",
              "          const docLink = document.createElement('div');\n",
              "          docLink.innerHTML = docLinkHtml;\n",
              "          element.appendChild(docLink);\n",
              "        }\n",
              "      </script>\n",
              "    </div>\n",
              "  </div>\n",
              "  "
            ]
          },
          "metadata": {},
          "execution_count": 105
        }
      ]
    },
    {
      "cell_type": "code",
      "source": [
        "tr_split['Scores'].max()"
      ],
      "metadata": {
        "colab": {
          "base_uri": "https://localhost:8080/"
        },
        "id": "D6cUf2m-u8lz",
        "outputId": "98a31b84-5319-4a22-d155-0c9cc33f48d3"
      },
      "execution_count": null,
      "outputs": [
        {
          "output_type": "execute_result",
          "data": {
            "text/plain": [
              "0.9937888198757764"
            ]
          },
          "metadata": {},
          "execution_count": 106
        }
      ]
    },
    {
      "cell_type": "markdown",
      "source": [
        "# Hpo Grid Search"
      ],
      "metadata": {
        "id": "HlH6Mq_YftJX"
      }
    },
    {
      "cell_type": "code",
      "source": [
        "from sklearn.model_selection import GridSearchCV"
      ],
      "metadata": {
        "id": "bToheTkZfsfJ"
      },
      "execution_count": null,
      "outputs": []
    },
    {
      "cell_type": "markdown",
      "source": [
        "svm"
      ],
      "metadata": {
        "id": "qj1gHrUfiQI7"
      }
    },
    {
      "cell_type": "code",
      "source": [
        "rf_params = {\n",
        "    'C': [1,10, 100],\n",
        "    \"kernel\":['linear','poly','rbf','sigmoid']\n",
        "}\n",
        "clf = SVC(gamma='scale')\n",
        "grid = GridSearchCV(clf, rf_params, cv=3, scoring='accuracy')\n",
        "grid.fit(X, y)\n",
        "print(grid.best_params_)\n",
        "print(\"Accuracy:\"+ str(grid.best_score_))"
      ],
      "metadata": {
        "colab": {
          "base_uri": "https://localhost:8080/"
        },
        "id": "E3TbpUeTiPZj",
        "outputId": "0cd57f83-a947-4002-d3c4-a5bc7dc9d22e"
      },
      "execution_count": null,
      "outputs": [
        {
          "output_type": "stream",
          "name": "stdout",
          "text": [
            "{'C': 10, 'kernel': 'rbf'}\n",
            "Accuracy:0.9913212746675545\n"
          ]
        }
      ]
    },
    {
      "cell_type": "markdown",
      "source": [
        "Randomforest"
      ],
      "metadata": {
        "id": "7TXr6PGFigiP"
      }
    },
    {
      "cell_type": "code",
      "source": [
        "# Define the hyperparameter configuration space\n",
        "rf_params = {\n",
        "    'n_estimators': [10, 20, 30],\n",
        "    #'max_features': ['sqrt',0.5],\n",
        "    'max_depth': [15,20,30,50],\n",
        "    #'min_samples_leaf': [1,2,4,8],\n",
        "    #\"bootstrap\":[True,False],\n",
        "    \"criterion\":['gini','entropy']\n",
        "}\n",
        "clf = RandomForestClassifier(random_state=0)\n",
        "grid = GridSearchCV(clf, rf_params, cv=3, scoring='accuracy')\n",
        "grid.fit(X, y)\n",
        "print(grid.best_params_)\n",
        "print(\"Accuracy:\"+ str(grid.best_score_))"
      ],
      "metadata": {
        "colab": {
          "base_uri": "https://localhost:8080/"
        },
        "id": "yMgT6iHDgWw9",
        "outputId": "728b2b1e-8257-42b9-e0b4-d1ce1f270e72"
      },
      "execution_count": null,
      "outputs": [
        {
          "output_type": "stream",
          "name": "stdout",
          "text": [
            "{'criterion': 'gini', 'max_depth': 15, 'n_estimators': 20}\n",
            "Accuracy:1.0\n"
          ]
        }
      ]
    },
    {
      "cell_type": "markdown",
      "source": [
        "knn"
      ],
      "metadata": {
        "id": "JxWMbZtfii5n"
      }
    },
    {
      "cell_type": "code",
      "source": [
        "#KNN\n",
        "from sklearn.model_selection import GridSearchCV\n",
        "rf_params = {\n",
        "    'n_neighbors': [2, 3, 5,10,15,20],\n",
        "}\n",
        "clf = KNeighborsClassifier()\n",
        "grid = GridSearchCV(clf, rf_params, cv=3, scoring='accuracy')\n",
        "grid.fit(X, y)\n",
        "print(grid.best_params_)\n",
        "print(\"Accuracy:\"+ str(grid.best_score_))"
      ],
      "metadata": {
        "colab": {
          "base_uri": "https://localhost:8080/"
        },
        "id": "NRl54FLrggkl",
        "outputId": "f410938c-940a-4635-be39-d7171cbf3ee7"
      },
      "execution_count": null,
      "outputs": [
        {
          "output_type": "stream",
          "name": "stdout",
          "text": [
            "{'n_neighbors': 10}\n",
            "Accuracy:0.9913166509460134\n"
          ]
        }
      ]
    },
    {
      "cell_type": "markdown",
      "source": [
        "Decision Tree"
      ],
      "metadata": {
        "id": "Da9Sw2tNivTP"
      }
    },
    {
      "cell_type": "code",
      "source": [
        "params = {\n",
        "    'max_depth': [2, 3, 5, 10, 20],\n",
        "    'min_samples_leaf': [5, 10, 20, 50, 100],\n",
        "    'criterion': [\"gini\", \"entropy\"]\n",
        "}\n",
        "dt = DecisionTreeClassifier()\n",
        "grid= GridSearchCV(estimator=dt,\n",
        "                           param_grid=params,\n",
        "                           cv=4, n_jobs=-1, verbose=1, scoring = \"accuracy\")\n",
        "grid.fit(X, y)\n",
        "print(grid.best_params_)\n",
        "print(\"Accuracy:\"+ str(grid.best_score_))"
      ],
      "metadata": {
        "colab": {
          "base_uri": "https://localhost:8080/"
        },
        "id": "euqiZX6fixsk",
        "outputId": "aefe0005-18e3-4bb1-8c50-444865d79a7f"
      },
      "execution_count": null,
      "outputs": [
        {
          "output_type": "stream",
          "name": "stdout",
          "text": [
            "Fitting 4 folds for each of 50 candidates, totalling 200 fits\n",
            "{'criterion': 'gini', 'max_depth': 2, 'min_samples_leaf': 5}\n",
            "Accuracy:1.0\n"
          ]
        }
      ]
    },
    {
      "cell_type": "markdown",
      "source": [
        "Lr"
      ],
      "metadata": {
        "id": "GTuomcmWlN2t"
      }
    },
    {
      "cell_type": "code",
      "source": [
        "params = [\n",
        "    {'penalty' : ['l1', 'l2', 'elasticnet', 'none'],\n",
        "    'C' : np.logspace(-4, 4, 20),\n",
        "    'solver' : ['lbfgs','newton-cg','liblinear','sag','saga'],\n",
        "    'max_iter' : [100, 1000,2500, 5000]\n",
        "    }\n",
        "]\n",
        "lr = LogisticRegression()\n",
        "grid= GridSearchCV(estimator= lr, param_grid = params, cv = 3, verbose=True, n_jobs=-1)\n",
        "best_clf = clf.fit(X,y)\n",
        "print (f'Accuracy - : {best_clf.score(X,y):.3f}')"
      ],
      "metadata": {
        "colab": {
          "base_uri": "https://localhost:8080/"
        },
        "id": "jldmhTy7kySS",
        "outputId": "ea361bee-1ddf-4cc9-c487-fa63c3d79d71"
      },
      "execution_count": null,
      "outputs": [
        {
          "output_type": "stream",
          "name": "stdout",
          "text": [
            "Accuracy - : 0.996\n"
          ]
        }
      ]
    },
    {
      "cell_type": "markdown",
      "source": [
        "XGBOOST"
      ],
      "metadata": {
        "id": "pfCzN2Bnoe4H"
      }
    },
    {
      "cell_type": "code",
      "source": [
        "params = {\n",
        "        'min_child_weight': [1, 5, 10],\n",
        "        'gamma': [0.5, 1, 1.5, 2, 5],\n",
        "        'subsample': [0.6, 0.8, 1.0],\n",
        "        'colsample_bytree': [0.6, 0.8, 1.0],\n",
        "        'max_depth': [3, 4, 5]\n",
        "        }\n",
        "\n",
        "xg = xgb.XGBClassifier()\n",
        "grid= GridSearchCV(estimator=xg,\n",
        "                           param_grid=params,\n",
        "                           cv=4, n_jobs=-1, verbose=1, scoring = \"accuracy\")\n",
        "grid.fit(X, y)\n",
        "print(grid.best_params_)\n",
        "print(\"Accuracy:\"+ str(grid.best_score_))"
      ],
      "metadata": {
        "colab": {
          "base_uri": "https://localhost:8080/"
        },
        "id": "N5TWIQPBoeU2",
        "outputId": "b9c76ce4-c3e2-4148-f303-230edfeb5cfa"
      },
      "execution_count": null,
      "outputs": [
        {
          "output_type": "stream",
          "name": "stdout",
          "text": [
            "Fitting 4 folds for each of 405 candidates, totalling 1620 fits\n",
            "{'colsample_bytree': 0.6, 'gamma': 0.5, 'max_depth': 3, 'min_child_weight': 1, 'subsample': 1.0}\n",
            "Accuracy:1.0\n"
          ]
        }
      ]
    }
  ]
}