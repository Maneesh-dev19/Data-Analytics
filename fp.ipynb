{
  "nbformat": 4,
  "nbformat_minor": 0,
  "metadata": {
    "colab": {
      "provenance": [],
      "authorship_tag": "ABX9TyMxBOmG8fTHa6kEqgukUm0G",
      "include_colab_link": true
    },
    "kernelspec": {
      "name": "python3",
      "display_name": "Python 3"
    },
    "language_info": {
      "name": "python"
    }
  },
  "cells": [
    {
      "cell_type": "markdown",
      "metadata": {
        "id": "view-in-github",
        "colab_type": "text"
      },
      "source": [
        "<a href=\"https://colab.research.google.com/github/Maneesh-dev19/Data-Analytics/blob/main/fp.ipynb\" target=\"_parent\"><img src=\"https://colab.research.google.com/assets/colab-badge.svg\" alt=\"Open In Colab\"/></a>"
      ]
    },
    {
      "cell_type": "code",
      "execution_count": null,
      "metadata": {
        "colab": {
          "base_uri": "https://localhost:8080/",
          "height": 328
        },
        "id": "G_3X71UQQH1O",
        "outputId": "658e9708-e838-46f5-8595-b58df0fc1c30"
      },
      "outputs": [
        {
          "output_type": "error",
          "ename": "MessageError",
          "evalue": "ignored",
          "traceback": [
            "\u001b[0;31m---------------------------------------------------------------------------\u001b[0m",
            "\u001b[0;31mMessageError\u001b[0m                              Traceback (most recent call last)",
            "\u001b[0;32m<ipython-input-1-80bea5481fc3>\u001b[0m in \u001b[0;36m<module>\u001b[0;34m\u001b[0m\n\u001b[1;32m      1\u001b[0m \u001b[0;32mfrom\u001b[0m \u001b[0mgoogle\u001b[0m\u001b[0;34m.\u001b[0m\u001b[0mcolab\u001b[0m \u001b[0;32mimport\u001b[0m \u001b[0mdrive\u001b[0m\u001b[0;34m\u001b[0m\u001b[0;34m\u001b[0m\u001b[0m\n\u001b[0;32m----> 2\u001b[0;31m \u001b[0mdrive\u001b[0m\u001b[0;34m.\u001b[0m\u001b[0mmount\u001b[0m\u001b[0;34m(\u001b[0m\u001b[0;34m'/content/gdrive'\u001b[0m\u001b[0;34m,\u001b[0m \u001b[0mforce_remount\u001b[0m\u001b[0;34m=\u001b[0m\u001b[0;32mTrue\u001b[0m\u001b[0;34m)\u001b[0m\u001b[0;34m\u001b[0m\u001b[0;34m\u001b[0m\u001b[0m\n\u001b[0m",
            "\u001b[0;32m/usr/local/lib/python3.8/dist-packages/google/colab/drive.py\u001b[0m in \u001b[0;36mmount\u001b[0;34m(mountpoint, force_remount, timeout_ms, readonly)\u001b[0m\n\u001b[1;32m     99\u001b[0m \u001b[0;32mdef\u001b[0m \u001b[0mmount\u001b[0m\u001b[0;34m(\u001b[0m\u001b[0mmountpoint\u001b[0m\u001b[0;34m,\u001b[0m \u001b[0mforce_remount\u001b[0m\u001b[0;34m=\u001b[0m\u001b[0;32mFalse\u001b[0m\u001b[0;34m,\u001b[0m \u001b[0mtimeout_ms\u001b[0m\u001b[0;34m=\u001b[0m\u001b[0;36m120000\u001b[0m\u001b[0;34m,\u001b[0m \u001b[0mreadonly\u001b[0m\u001b[0;34m=\u001b[0m\u001b[0;32mFalse\u001b[0m\u001b[0;34m)\u001b[0m\u001b[0;34m:\u001b[0m\u001b[0;34m\u001b[0m\u001b[0;34m\u001b[0m\u001b[0m\n\u001b[1;32m    100\u001b[0m   \u001b[0;34m\"\"\"Mount your Google Drive at the specified mountpoint path.\"\"\"\u001b[0m\u001b[0;34m\u001b[0m\u001b[0;34m\u001b[0m\u001b[0m\n\u001b[0;32m--> 101\u001b[0;31m   return _mount(\n\u001b[0m\u001b[1;32m    102\u001b[0m       \u001b[0mmountpoint\u001b[0m\u001b[0;34m,\u001b[0m\u001b[0;34m\u001b[0m\u001b[0;34m\u001b[0m\u001b[0m\n\u001b[1;32m    103\u001b[0m       \u001b[0mforce_remount\u001b[0m\u001b[0;34m=\u001b[0m\u001b[0mforce_remount\u001b[0m\u001b[0;34m,\u001b[0m\u001b[0;34m\u001b[0m\u001b[0;34m\u001b[0m\u001b[0m\n",
            "\u001b[0;32m/usr/local/lib/python3.8/dist-packages/google/colab/drive.py\u001b[0m in \u001b[0;36m_mount\u001b[0;34m(mountpoint, force_remount, timeout_ms, ephemeral, readonly)\u001b[0m\n\u001b[1;32m    122\u001b[0m       'TBE_EPHEM_CREDS_ADDR'] if ephemeral else _os.environ['TBE_CREDS_ADDR']\n\u001b[1;32m    123\u001b[0m   \u001b[0;32mif\u001b[0m \u001b[0mephemeral\u001b[0m\u001b[0;34m:\u001b[0m\u001b[0;34m\u001b[0m\u001b[0;34m\u001b[0m\u001b[0m\n\u001b[0;32m--> 124\u001b[0;31m     _message.blocking_request(\n\u001b[0m\u001b[1;32m    125\u001b[0m         'request_auth', request={'authType': 'dfs_ephemeral'}, timeout_sec=None)\n\u001b[1;32m    126\u001b[0m \u001b[0;34m\u001b[0m\u001b[0m\n",
            "\u001b[0;32m/usr/local/lib/python3.8/dist-packages/google/colab/_message.py\u001b[0m in \u001b[0;36mblocking_request\u001b[0;34m(request_type, request, timeout_sec, parent)\u001b[0m\n\u001b[1;32m    169\u001b[0m   request_id = send_request(\n\u001b[1;32m    170\u001b[0m       request_type, request, parent=parent, expect_reply=True)\n\u001b[0;32m--> 171\u001b[0;31m   \u001b[0;32mreturn\u001b[0m \u001b[0mread_reply_from_input\u001b[0m\u001b[0;34m(\u001b[0m\u001b[0mrequest_id\u001b[0m\u001b[0;34m,\u001b[0m \u001b[0mtimeout_sec\u001b[0m\u001b[0;34m)\u001b[0m\u001b[0;34m\u001b[0m\u001b[0;34m\u001b[0m\u001b[0m\n\u001b[0m",
            "\u001b[0;32m/usr/local/lib/python3.8/dist-packages/google/colab/_message.py\u001b[0m in \u001b[0;36mread_reply_from_input\u001b[0;34m(message_id, timeout_sec)\u001b[0m\n\u001b[1;32m    100\u001b[0m         reply.get('colab_msg_id') == message_id):\n\u001b[1;32m    101\u001b[0m       \u001b[0;32mif\u001b[0m \u001b[0;34m'error'\u001b[0m \u001b[0;32min\u001b[0m \u001b[0mreply\u001b[0m\u001b[0;34m:\u001b[0m\u001b[0;34m\u001b[0m\u001b[0;34m\u001b[0m\u001b[0m\n\u001b[0;32m--> 102\u001b[0;31m         \u001b[0;32mraise\u001b[0m \u001b[0mMessageError\u001b[0m\u001b[0;34m(\u001b[0m\u001b[0mreply\u001b[0m\u001b[0;34m[\u001b[0m\u001b[0;34m'error'\u001b[0m\u001b[0;34m]\u001b[0m\u001b[0;34m)\u001b[0m\u001b[0;34m\u001b[0m\u001b[0;34m\u001b[0m\u001b[0m\n\u001b[0m\u001b[1;32m    103\u001b[0m       \u001b[0;32mreturn\u001b[0m \u001b[0mreply\u001b[0m\u001b[0;34m.\u001b[0m\u001b[0mget\u001b[0m\u001b[0;34m(\u001b[0m\u001b[0;34m'data'\u001b[0m\u001b[0;34m,\u001b[0m \u001b[0;32mNone\u001b[0m\u001b[0;34m)\u001b[0m\u001b[0;34m\u001b[0m\u001b[0;34m\u001b[0m\u001b[0m\n\u001b[1;32m    104\u001b[0m \u001b[0;34m\u001b[0m\u001b[0m\n",
            "\u001b[0;31mMessageError\u001b[0m: Error: credential propagation was unsuccessful"
          ]
        }
      ],
      "source": [
        "from google.colab import drive\n",
        "drive.mount('/content/gdrive', force_remount=True)"
      ]
    },
    {
      "cell_type": "code",
      "source": [
        "import numpy as np\n",
        "import pandas as pd"
      ],
      "metadata": {
        "id": "gYBV7YdaQjwI"
      },
      "execution_count": null,
      "outputs": []
    },
    {
      "cell_type": "code",
      "source": [
        "data= pd.read_csv('/content/gdrive/My Drive/ML_lab/kerala.csv')\n",
        "data"
      ],
      "metadata": {
        "colab": {
          "base_uri": "https://localhost:8080/",
          "height": 424
        },
        "id": "--o86mQeQKM3",
        "outputId": "b0800ff3-cf92-4a2a-fb9c-4594c71d6ad1"
      },
      "execution_count": null,
      "outputs": [
        {
          "output_type": "execute_result",
          "data": {
            "text/plain": [
              "    SUBDIVISION  YEAR   JAN   FEB   MAR    APR    MAY     JUN     JUL     AUG  \\\n",
              "0        KERALA  1901  28.7  44.7  51.6  160.0  174.7   824.6   743.0   357.5   \n",
              "1        KERALA  1902   6.7   2.6  57.3   83.9  134.5   390.9  1205.0   315.8   \n",
              "2        KERALA  1903   3.2  18.6   3.1   83.6  249.7   558.6  1022.5   420.2   \n",
              "3        KERALA  1904  23.7   3.0  32.2   71.5  235.7  1098.2   725.5   351.8   \n",
              "4        KERALA  1905   1.2  22.3   9.4  105.9  263.3   850.2   520.5   293.6   \n",
              "..          ...   ...   ...   ...   ...    ...    ...     ...     ...     ...   \n",
              "113      KERALA  2014   4.6  10.3  17.9   95.7  251.0   454.4   677.8   733.9   \n",
              "114      KERALA  2015   3.1   5.8  50.1  214.1  201.8   563.6   406.0   252.2   \n",
              "115      KERALA  2016   2.4   3.8  35.9  143.0  186.4   522.2   412.3   325.5   \n",
              "116     KERALA   2017   1.9   6.8   8.9   43.6  173.5   498.5   319.6   531.8   \n",
              "117      KERALA  2018  29.1  52.1  48.6  116.4  183.8   625.4  1048.5  1398.9   \n",
              "\n",
              "       SEP    OCT    NOV    DEC   ANNUAL RAINFALL FLOODS  \n",
              "0    197.7  266.9  350.8   48.4            3248.6    YES  \n",
              "1    491.6  358.4  158.3  121.5            3326.6    YES  \n",
              "2    341.8  354.1  157.0   59.0            3271.2    YES  \n",
              "3    222.7  328.1   33.9    3.3            3129.7    YES  \n",
              "4    217.2  383.5   74.4    0.2            2741.6     NO  \n",
              "..     ...    ...    ...    ...               ...    ...  \n",
              "113  298.8  355.5   99.5   47.2            3046.4    YES  \n",
              "114  292.9  308.1  223.6   79.4            2600.6     NO  \n",
              "115  173.2  225.9  125.4   23.6            2176.6     NO  \n",
              "116  209.5  192.4   92.5   38.1            2117.1     NO  \n",
              "117  423.6  356.1  125.4   65.1            4473.0    YES  \n",
              "\n",
              "[118 rows x 16 columns]"
            ],
            "text/html": [
              "\n",
              "  <div id=\"df-b776fbc4-8281-4fdd-9aa9-a1687d6a196f\">\n",
              "    <div class=\"colab-df-container\">\n",
              "      <div>\n",
              "<style scoped>\n",
              "    .dataframe tbody tr th:only-of-type {\n",
              "        vertical-align: middle;\n",
              "    }\n",
              "\n",
              "    .dataframe tbody tr th {\n",
              "        vertical-align: top;\n",
              "    }\n",
              "\n",
              "    .dataframe thead th {\n",
              "        text-align: right;\n",
              "    }\n",
              "</style>\n",
              "<table border=\"1\" class=\"dataframe\">\n",
              "  <thead>\n",
              "    <tr style=\"text-align: right;\">\n",
              "      <th></th>\n",
              "      <th>SUBDIVISION</th>\n",
              "      <th>YEAR</th>\n",
              "      <th>JAN</th>\n",
              "      <th>FEB</th>\n",
              "      <th>MAR</th>\n",
              "      <th>APR</th>\n",
              "      <th>MAY</th>\n",
              "      <th>JUN</th>\n",
              "      <th>JUL</th>\n",
              "      <th>AUG</th>\n",
              "      <th>SEP</th>\n",
              "      <th>OCT</th>\n",
              "      <th>NOV</th>\n",
              "      <th>DEC</th>\n",
              "      <th>ANNUAL RAINFALL</th>\n",
              "      <th>FLOODS</th>\n",
              "    </tr>\n",
              "  </thead>\n",
              "  <tbody>\n",
              "    <tr>\n",
              "      <th>0</th>\n",
              "      <td>KERALA</td>\n",
              "      <td>1901</td>\n",
              "      <td>28.7</td>\n",
              "      <td>44.7</td>\n",
              "      <td>51.6</td>\n",
              "      <td>160.0</td>\n",
              "      <td>174.7</td>\n",
              "      <td>824.6</td>\n",
              "      <td>743.0</td>\n",
              "      <td>357.5</td>\n",
              "      <td>197.7</td>\n",
              "      <td>266.9</td>\n",
              "      <td>350.8</td>\n",
              "      <td>48.4</td>\n",
              "      <td>3248.6</td>\n",
              "      <td>YES</td>\n",
              "    </tr>\n",
              "    <tr>\n",
              "      <th>1</th>\n",
              "      <td>KERALA</td>\n",
              "      <td>1902</td>\n",
              "      <td>6.7</td>\n",
              "      <td>2.6</td>\n",
              "      <td>57.3</td>\n",
              "      <td>83.9</td>\n",
              "      <td>134.5</td>\n",
              "      <td>390.9</td>\n",
              "      <td>1205.0</td>\n",
              "      <td>315.8</td>\n",
              "      <td>491.6</td>\n",
              "      <td>358.4</td>\n",
              "      <td>158.3</td>\n",
              "      <td>121.5</td>\n",
              "      <td>3326.6</td>\n",
              "      <td>YES</td>\n",
              "    </tr>\n",
              "    <tr>\n",
              "      <th>2</th>\n",
              "      <td>KERALA</td>\n",
              "      <td>1903</td>\n",
              "      <td>3.2</td>\n",
              "      <td>18.6</td>\n",
              "      <td>3.1</td>\n",
              "      <td>83.6</td>\n",
              "      <td>249.7</td>\n",
              "      <td>558.6</td>\n",
              "      <td>1022.5</td>\n",
              "      <td>420.2</td>\n",
              "      <td>341.8</td>\n",
              "      <td>354.1</td>\n",
              "      <td>157.0</td>\n",
              "      <td>59.0</td>\n",
              "      <td>3271.2</td>\n",
              "      <td>YES</td>\n",
              "    </tr>\n",
              "    <tr>\n",
              "      <th>3</th>\n",
              "      <td>KERALA</td>\n",
              "      <td>1904</td>\n",
              "      <td>23.7</td>\n",
              "      <td>3.0</td>\n",
              "      <td>32.2</td>\n",
              "      <td>71.5</td>\n",
              "      <td>235.7</td>\n",
              "      <td>1098.2</td>\n",
              "      <td>725.5</td>\n",
              "      <td>351.8</td>\n",
              "      <td>222.7</td>\n",
              "      <td>328.1</td>\n",
              "      <td>33.9</td>\n",
              "      <td>3.3</td>\n",
              "      <td>3129.7</td>\n",
              "      <td>YES</td>\n",
              "    </tr>\n",
              "    <tr>\n",
              "      <th>4</th>\n",
              "      <td>KERALA</td>\n",
              "      <td>1905</td>\n",
              "      <td>1.2</td>\n",
              "      <td>22.3</td>\n",
              "      <td>9.4</td>\n",
              "      <td>105.9</td>\n",
              "      <td>263.3</td>\n",
              "      <td>850.2</td>\n",
              "      <td>520.5</td>\n",
              "      <td>293.6</td>\n",
              "      <td>217.2</td>\n",
              "      <td>383.5</td>\n",
              "      <td>74.4</td>\n",
              "      <td>0.2</td>\n",
              "      <td>2741.6</td>\n",
              "      <td>NO</td>\n",
              "    </tr>\n",
              "    <tr>\n",
              "      <th>...</th>\n",
              "      <td>...</td>\n",
              "      <td>...</td>\n",
              "      <td>...</td>\n",
              "      <td>...</td>\n",
              "      <td>...</td>\n",
              "      <td>...</td>\n",
              "      <td>...</td>\n",
              "      <td>...</td>\n",
              "      <td>...</td>\n",
              "      <td>...</td>\n",
              "      <td>...</td>\n",
              "      <td>...</td>\n",
              "      <td>...</td>\n",
              "      <td>...</td>\n",
              "      <td>...</td>\n",
              "      <td>...</td>\n",
              "    </tr>\n",
              "    <tr>\n",
              "      <th>113</th>\n",
              "      <td>KERALA</td>\n",
              "      <td>2014</td>\n",
              "      <td>4.6</td>\n",
              "      <td>10.3</td>\n",
              "      <td>17.9</td>\n",
              "      <td>95.7</td>\n",
              "      <td>251.0</td>\n",
              "      <td>454.4</td>\n",
              "      <td>677.8</td>\n",
              "      <td>733.9</td>\n",
              "      <td>298.8</td>\n",
              "      <td>355.5</td>\n",
              "      <td>99.5</td>\n",
              "      <td>47.2</td>\n",
              "      <td>3046.4</td>\n",
              "      <td>YES</td>\n",
              "    </tr>\n",
              "    <tr>\n",
              "      <th>114</th>\n",
              "      <td>KERALA</td>\n",
              "      <td>2015</td>\n",
              "      <td>3.1</td>\n",
              "      <td>5.8</td>\n",
              "      <td>50.1</td>\n",
              "      <td>214.1</td>\n",
              "      <td>201.8</td>\n",
              "      <td>563.6</td>\n",
              "      <td>406.0</td>\n",
              "      <td>252.2</td>\n",
              "      <td>292.9</td>\n",
              "      <td>308.1</td>\n",
              "      <td>223.6</td>\n",
              "      <td>79.4</td>\n",
              "      <td>2600.6</td>\n",
              "      <td>NO</td>\n",
              "    </tr>\n",
              "    <tr>\n",
              "      <th>115</th>\n",
              "      <td>KERALA</td>\n",
              "      <td>2016</td>\n",
              "      <td>2.4</td>\n",
              "      <td>3.8</td>\n",
              "      <td>35.9</td>\n",
              "      <td>143.0</td>\n",
              "      <td>186.4</td>\n",
              "      <td>522.2</td>\n",
              "      <td>412.3</td>\n",
              "      <td>325.5</td>\n",
              "      <td>173.2</td>\n",
              "      <td>225.9</td>\n",
              "      <td>125.4</td>\n",
              "      <td>23.6</td>\n",
              "      <td>2176.6</td>\n",
              "      <td>NO</td>\n",
              "    </tr>\n",
              "    <tr>\n",
              "      <th>116</th>\n",
              "      <td>KERALA</td>\n",
              "      <td>2017</td>\n",
              "      <td>1.9</td>\n",
              "      <td>6.8</td>\n",
              "      <td>8.9</td>\n",
              "      <td>43.6</td>\n",
              "      <td>173.5</td>\n",
              "      <td>498.5</td>\n",
              "      <td>319.6</td>\n",
              "      <td>531.8</td>\n",
              "      <td>209.5</td>\n",
              "      <td>192.4</td>\n",
              "      <td>92.5</td>\n",
              "      <td>38.1</td>\n",
              "      <td>2117.1</td>\n",
              "      <td>NO</td>\n",
              "    </tr>\n",
              "    <tr>\n",
              "      <th>117</th>\n",
              "      <td>KERALA</td>\n",
              "      <td>2018</td>\n",
              "      <td>29.1</td>\n",
              "      <td>52.1</td>\n",
              "      <td>48.6</td>\n",
              "      <td>116.4</td>\n",
              "      <td>183.8</td>\n",
              "      <td>625.4</td>\n",
              "      <td>1048.5</td>\n",
              "      <td>1398.9</td>\n",
              "      <td>423.6</td>\n",
              "      <td>356.1</td>\n",
              "      <td>125.4</td>\n",
              "      <td>65.1</td>\n",
              "      <td>4473.0</td>\n",
              "      <td>YES</td>\n",
              "    </tr>\n",
              "  </tbody>\n",
              "</table>\n",
              "<p>118 rows × 16 columns</p>\n",
              "</div>\n",
              "      <button class=\"colab-df-convert\" onclick=\"convertToInteractive('df-b776fbc4-8281-4fdd-9aa9-a1687d6a196f')\"\n",
              "              title=\"Convert this dataframe to an interactive table.\"\n",
              "              style=\"display:none;\">\n",
              "        \n",
              "  <svg xmlns=\"http://www.w3.org/2000/svg\" height=\"24px\"viewBox=\"0 0 24 24\"\n",
              "       width=\"24px\">\n",
              "    <path d=\"M0 0h24v24H0V0z\" fill=\"none\"/>\n",
              "    <path d=\"M18.56 5.44l.94 2.06.94-2.06 2.06-.94-2.06-.94-.94-2.06-.94 2.06-2.06.94zm-11 1L8.5 8.5l.94-2.06 2.06-.94-2.06-.94L8.5 2.5l-.94 2.06-2.06.94zm10 10l.94 2.06.94-2.06 2.06-.94-2.06-.94-.94-2.06-.94 2.06-2.06.94z\"/><path d=\"M17.41 7.96l-1.37-1.37c-.4-.4-.92-.59-1.43-.59-.52 0-1.04.2-1.43.59L10.3 9.45l-7.72 7.72c-.78.78-.78 2.05 0 2.83L4 21.41c.39.39.9.59 1.41.59.51 0 1.02-.2 1.41-.59l7.78-7.78 2.81-2.81c.8-.78.8-2.07 0-2.86zM5.41 20L4 18.59l7.72-7.72 1.47 1.35L5.41 20z\"/>\n",
              "  </svg>\n",
              "      </button>\n",
              "      \n",
              "  <style>\n",
              "    .colab-df-container {\n",
              "      display:flex;\n",
              "      flex-wrap:wrap;\n",
              "      gap: 12px;\n",
              "    }\n",
              "\n",
              "    .colab-df-convert {\n",
              "      background-color: #E8F0FE;\n",
              "      border: none;\n",
              "      border-radius: 50%;\n",
              "      cursor: pointer;\n",
              "      display: none;\n",
              "      fill: #1967D2;\n",
              "      height: 32px;\n",
              "      padding: 0 0 0 0;\n",
              "      width: 32px;\n",
              "    }\n",
              "\n",
              "    .colab-df-convert:hover {\n",
              "      background-color: #E2EBFA;\n",
              "      box-shadow: 0px 1px 2px rgba(60, 64, 67, 0.3), 0px 1px 3px 1px rgba(60, 64, 67, 0.15);\n",
              "      fill: #174EA6;\n",
              "    }\n",
              "\n",
              "    [theme=dark] .colab-df-convert {\n",
              "      background-color: #3B4455;\n",
              "      fill: #D2E3FC;\n",
              "    }\n",
              "\n",
              "    [theme=dark] .colab-df-convert:hover {\n",
              "      background-color: #434B5C;\n",
              "      box-shadow: 0px 1px 3px 1px rgba(0, 0, 0, 0.15);\n",
              "      filter: drop-shadow(0px 1px 2px rgba(0, 0, 0, 0.3));\n",
              "      fill: #FFFFFF;\n",
              "    }\n",
              "  </style>\n",
              "\n",
              "      <script>\n",
              "        const buttonEl =\n",
              "          document.querySelector('#df-b776fbc4-8281-4fdd-9aa9-a1687d6a196f button.colab-df-convert');\n",
              "        buttonEl.style.display =\n",
              "          google.colab.kernel.accessAllowed ? 'block' : 'none';\n",
              "\n",
              "        async function convertToInteractive(key) {\n",
              "          const element = document.querySelector('#df-b776fbc4-8281-4fdd-9aa9-a1687d6a196f');\n",
              "          const dataTable =\n",
              "            await google.colab.kernel.invokeFunction('convertToInteractive',\n",
              "                                                     [key], {});\n",
              "          if (!dataTable) return;\n",
              "\n",
              "          const docLinkHtml = 'Like what you see? Visit the ' +\n",
              "            '<a target=\"_blank\" href=https://colab.research.google.com/notebooks/data_table.ipynb>data table notebook</a>'\n",
              "            + ' to learn more about interactive tables.';\n",
              "          element.innerHTML = '';\n",
              "          dataTable['output_type'] = 'display_data';\n",
              "          await google.colab.output.renderOutput(dataTable, element);\n",
              "          const docLink = document.createElement('div');\n",
              "          docLink.innerHTML = docLinkHtml;\n",
              "          element.appendChild(docLink);\n",
              "        }\n",
              "      </script>\n",
              "    </div>\n",
              "  </div>\n",
              "  "
            ]
          },
          "metadata": {},
          "execution_count": 5
        }
      ]
    },
    {
      "cell_type": "code",
      "source": [
        "import warnings\n",
        "warnings.filterwarnings('ignore')"
      ],
      "metadata": {
        "id": "32DU47smQqHX"
      },
      "execution_count": null,
      "outputs": []
    },
    {
      "cell_type": "code",
      "source": [
        "data.head()"
      ],
      "metadata": {
        "colab": {
          "base_uri": "https://localhost:8080/",
          "height": 206
        },
        "id": "-mZvCY8WQy-d",
        "outputId": "83cce96a-0e00-4ccf-ca05-0d2271c614be"
      },
      "execution_count": null,
      "outputs": [
        {
          "output_type": "execute_result",
          "data": {
            "text/plain": [
              "  SUBDIVISION  YEAR   JAN   FEB   MAR    APR    MAY     JUN     JUL    AUG  \\\n",
              "0      KERALA  1901  28.7  44.7  51.6  160.0  174.7   824.6   743.0  357.5   \n",
              "1      KERALA  1902   6.7   2.6  57.3   83.9  134.5   390.9  1205.0  315.8   \n",
              "2      KERALA  1903   3.2  18.6   3.1   83.6  249.7   558.6  1022.5  420.2   \n",
              "3      KERALA  1904  23.7   3.0  32.2   71.5  235.7  1098.2   725.5  351.8   \n",
              "4      KERALA  1905   1.2  22.3   9.4  105.9  263.3   850.2   520.5  293.6   \n",
              "\n",
              "     SEP    OCT    NOV    DEC   ANNUAL RAINFALL FLOODS  \n",
              "0  197.7  266.9  350.8   48.4            3248.6    YES  \n",
              "1  491.6  358.4  158.3  121.5            3326.6    YES  \n",
              "2  341.8  354.1  157.0   59.0            3271.2    YES  \n",
              "3  222.7  328.1   33.9    3.3            3129.7    YES  \n",
              "4  217.2  383.5   74.4    0.2            2741.6     NO  "
            ],
            "text/html": [
              "\n",
              "  <div id=\"df-a823078d-d5f7-4164-b1b4-60fa450ce166\">\n",
              "    <div class=\"colab-df-container\">\n",
              "      <div>\n",
              "<style scoped>\n",
              "    .dataframe tbody tr th:only-of-type {\n",
              "        vertical-align: middle;\n",
              "    }\n",
              "\n",
              "    .dataframe tbody tr th {\n",
              "        vertical-align: top;\n",
              "    }\n",
              "\n",
              "    .dataframe thead th {\n",
              "        text-align: right;\n",
              "    }\n",
              "</style>\n",
              "<table border=\"1\" class=\"dataframe\">\n",
              "  <thead>\n",
              "    <tr style=\"text-align: right;\">\n",
              "      <th></th>\n",
              "      <th>SUBDIVISION</th>\n",
              "      <th>YEAR</th>\n",
              "      <th>JAN</th>\n",
              "      <th>FEB</th>\n",
              "      <th>MAR</th>\n",
              "      <th>APR</th>\n",
              "      <th>MAY</th>\n",
              "      <th>JUN</th>\n",
              "      <th>JUL</th>\n",
              "      <th>AUG</th>\n",
              "      <th>SEP</th>\n",
              "      <th>OCT</th>\n",
              "      <th>NOV</th>\n",
              "      <th>DEC</th>\n",
              "      <th>ANNUAL RAINFALL</th>\n",
              "      <th>FLOODS</th>\n",
              "    </tr>\n",
              "  </thead>\n",
              "  <tbody>\n",
              "    <tr>\n",
              "      <th>0</th>\n",
              "      <td>KERALA</td>\n",
              "      <td>1901</td>\n",
              "      <td>28.7</td>\n",
              "      <td>44.7</td>\n",
              "      <td>51.6</td>\n",
              "      <td>160.0</td>\n",
              "      <td>174.7</td>\n",
              "      <td>824.6</td>\n",
              "      <td>743.0</td>\n",
              "      <td>357.5</td>\n",
              "      <td>197.7</td>\n",
              "      <td>266.9</td>\n",
              "      <td>350.8</td>\n",
              "      <td>48.4</td>\n",
              "      <td>3248.6</td>\n",
              "      <td>YES</td>\n",
              "    </tr>\n",
              "    <tr>\n",
              "      <th>1</th>\n",
              "      <td>KERALA</td>\n",
              "      <td>1902</td>\n",
              "      <td>6.7</td>\n",
              "      <td>2.6</td>\n",
              "      <td>57.3</td>\n",
              "      <td>83.9</td>\n",
              "      <td>134.5</td>\n",
              "      <td>390.9</td>\n",
              "      <td>1205.0</td>\n",
              "      <td>315.8</td>\n",
              "      <td>491.6</td>\n",
              "      <td>358.4</td>\n",
              "      <td>158.3</td>\n",
              "      <td>121.5</td>\n",
              "      <td>3326.6</td>\n",
              "      <td>YES</td>\n",
              "    </tr>\n",
              "    <tr>\n",
              "      <th>2</th>\n",
              "      <td>KERALA</td>\n",
              "      <td>1903</td>\n",
              "      <td>3.2</td>\n",
              "      <td>18.6</td>\n",
              "      <td>3.1</td>\n",
              "      <td>83.6</td>\n",
              "      <td>249.7</td>\n",
              "      <td>558.6</td>\n",
              "      <td>1022.5</td>\n",
              "      <td>420.2</td>\n",
              "      <td>341.8</td>\n",
              "      <td>354.1</td>\n",
              "      <td>157.0</td>\n",
              "      <td>59.0</td>\n",
              "      <td>3271.2</td>\n",
              "      <td>YES</td>\n",
              "    </tr>\n",
              "    <tr>\n",
              "      <th>3</th>\n",
              "      <td>KERALA</td>\n",
              "      <td>1904</td>\n",
              "      <td>23.7</td>\n",
              "      <td>3.0</td>\n",
              "      <td>32.2</td>\n",
              "      <td>71.5</td>\n",
              "      <td>235.7</td>\n",
              "      <td>1098.2</td>\n",
              "      <td>725.5</td>\n",
              "      <td>351.8</td>\n",
              "      <td>222.7</td>\n",
              "      <td>328.1</td>\n",
              "      <td>33.9</td>\n",
              "      <td>3.3</td>\n",
              "      <td>3129.7</td>\n",
              "      <td>YES</td>\n",
              "    </tr>\n",
              "    <tr>\n",
              "      <th>4</th>\n",
              "      <td>KERALA</td>\n",
              "      <td>1905</td>\n",
              "      <td>1.2</td>\n",
              "      <td>22.3</td>\n",
              "      <td>9.4</td>\n",
              "      <td>105.9</td>\n",
              "      <td>263.3</td>\n",
              "      <td>850.2</td>\n",
              "      <td>520.5</td>\n",
              "      <td>293.6</td>\n",
              "      <td>217.2</td>\n",
              "      <td>383.5</td>\n",
              "      <td>74.4</td>\n",
              "      <td>0.2</td>\n",
              "      <td>2741.6</td>\n",
              "      <td>NO</td>\n",
              "    </tr>\n",
              "  </tbody>\n",
              "</table>\n",
              "</div>\n",
              "      <button class=\"colab-df-convert\" onclick=\"convertToInteractive('df-a823078d-d5f7-4164-b1b4-60fa450ce166')\"\n",
              "              title=\"Convert this dataframe to an interactive table.\"\n",
              "              style=\"display:none;\">\n",
              "        \n",
              "  <svg xmlns=\"http://www.w3.org/2000/svg\" height=\"24px\"viewBox=\"0 0 24 24\"\n",
              "       width=\"24px\">\n",
              "    <path d=\"M0 0h24v24H0V0z\" fill=\"none\"/>\n",
              "    <path d=\"M18.56 5.44l.94 2.06.94-2.06 2.06-.94-2.06-.94-.94-2.06-.94 2.06-2.06.94zm-11 1L8.5 8.5l.94-2.06 2.06-.94-2.06-.94L8.5 2.5l-.94 2.06-2.06.94zm10 10l.94 2.06.94-2.06 2.06-.94-2.06-.94-.94-2.06-.94 2.06-2.06.94z\"/><path d=\"M17.41 7.96l-1.37-1.37c-.4-.4-.92-.59-1.43-.59-.52 0-1.04.2-1.43.59L10.3 9.45l-7.72 7.72c-.78.78-.78 2.05 0 2.83L4 21.41c.39.39.9.59 1.41.59.51 0 1.02-.2 1.41-.59l7.78-7.78 2.81-2.81c.8-.78.8-2.07 0-2.86zM5.41 20L4 18.59l7.72-7.72 1.47 1.35L5.41 20z\"/>\n",
              "  </svg>\n",
              "      </button>\n",
              "      \n",
              "  <style>\n",
              "    .colab-df-container {\n",
              "      display:flex;\n",
              "      flex-wrap:wrap;\n",
              "      gap: 12px;\n",
              "    }\n",
              "\n",
              "    .colab-df-convert {\n",
              "      background-color: #E8F0FE;\n",
              "      border: none;\n",
              "      border-radius: 50%;\n",
              "      cursor: pointer;\n",
              "      display: none;\n",
              "      fill: #1967D2;\n",
              "      height: 32px;\n",
              "      padding: 0 0 0 0;\n",
              "      width: 32px;\n",
              "    }\n",
              "\n",
              "    .colab-df-convert:hover {\n",
              "      background-color: #E2EBFA;\n",
              "      box-shadow: 0px 1px 2px rgba(60, 64, 67, 0.3), 0px 1px 3px 1px rgba(60, 64, 67, 0.15);\n",
              "      fill: #174EA6;\n",
              "    }\n",
              "\n",
              "    [theme=dark] .colab-df-convert {\n",
              "      background-color: #3B4455;\n",
              "      fill: #D2E3FC;\n",
              "    }\n",
              "\n",
              "    [theme=dark] .colab-df-convert:hover {\n",
              "      background-color: #434B5C;\n",
              "      box-shadow: 0px 1px 3px 1px rgba(0, 0, 0, 0.15);\n",
              "      filter: drop-shadow(0px 1px 2px rgba(0, 0, 0, 0.3));\n",
              "      fill: #FFFFFF;\n",
              "    }\n",
              "  </style>\n",
              "\n",
              "      <script>\n",
              "        const buttonEl =\n",
              "          document.querySelector('#df-a823078d-d5f7-4164-b1b4-60fa450ce166 button.colab-df-convert');\n",
              "        buttonEl.style.display =\n",
              "          google.colab.kernel.accessAllowed ? 'block' : 'none';\n",
              "\n",
              "        async function convertToInteractive(key) {\n",
              "          const element = document.querySelector('#df-a823078d-d5f7-4164-b1b4-60fa450ce166');\n",
              "          const dataTable =\n",
              "            await google.colab.kernel.invokeFunction('convertToInteractive',\n",
              "                                                     [key], {});\n",
              "          if (!dataTable) return;\n",
              "\n",
              "          const docLinkHtml = 'Like what you see? Visit the ' +\n",
              "            '<a target=\"_blank\" href=https://colab.research.google.com/notebooks/data_table.ipynb>data table notebook</a>'\n",
              "            + ' to learn more about interactive tables.';\n",
              "          element.innerHTML = '';\n",
              "          dataTable['output_type'] = 'display_data';\n",
              "          await google.colab.output.renderOutput(dataTable, element);\n",
              "          const docLink = document.createElement('div');\n",
              "          docLink.innerHTML = docLinkHtml;\n",
              "          element.appendChild(docLink);\n",
              "        }\n",
              "      </script>\n",
              "    </div>\n",
              "  </div>\n",
              "  "
            ]
          },
          "metadata": {},
          "execution_count": 7
        }
      ]
    },
    {
      "cell_type": "code",
      "source": [
        "data.tail()"
      ],
      "metadata": {
        "colab": {
          "base_uri": "https://localhost:8080/",
          "height": 206
        },
        "id": "HaJBtLtgQ05m",
        "outputId": "5c5ac077-a99a-42f6-8668-37ff7aed46d0"
      },
      "execution_count": null,
      "outputs": [
        {
          "output_type": "execute_result",
          "data": {
            "text/plain": [
              "    SUBDIVISION  YEAR   JAN   FEB   MAR    APR    MAY    JUN     JUL     AUG  \\\n",
              "113      KERALA  2014   4.6  10.3  17.9   95.7  251.0  454.4   677.8   733.9   \n",
              "114      KERALA  2015   3.1   5.8  50.1  214.1  201.8  563.6   406.0   252.2   \n",
              "115      KERALA  2016   2.4   3.8  35.9  143.0  186.4  522.2   412.3   325.5   \n",
              "116     KERALA   2017   1.9   6.8   8.9   43.6  173.5  498.5   319.6   531.8   \n",
              "117      KERALA  2018  29.1  52.1  48.6  116.4  183.8  625.4  1048.5  1398.9   \n",
              "\n",
              "       SEP    OCT    NOV   DEC   ANNUAL RAINFALL FLOODS  \n",
              "113  298.8  355.5   99.5  47.2            3046.4    YES  \n",
              "114  292.9  308.1  223.6  79.4            2600.6     NO  \n",
              "115  173.2  225.9  125.4  23.6            2176.6     NO  \n",
              "116  209.5  192.4   92.5  38.1            2117.1     NO  \n",
              "117  423.6  356.1  125.4  65.1            4473.0    YES  "
            ],
            "text/html": [
              "\n",
              "  <div id=\"df-5287a00c-ab13-4337-987b-7fd8f7e30ce4\">\n",
              "    <div class=\"colab-df-container\">\n",
              "      <div>\n",
              "<style scoped>\n",
              "    .dataframe tbody tr th:only-of-type {\n",
              "        vertical-align: middle;\n",
              "    }\n",
              "\n",
              "    .dataframe tbody tr th {\n",
              "        vertical-align: top;\n",
              "    }\n",
              "\n",
              "    .dataframe thead th {\n",
              "        text-align: right;\n",
              "    }\n",
              "</style>\n",
              "<table border=\"1\" class=\"dataframe\">\n",
              "  <thead>\n",
              "    <tr style=\"text-align: right;\">\n",
              "      <th></th>\n",
              "      <th>SUBDIVISION</th>\n",
              "      <th>YEAR</th>\n",
              "      <th>JAN</th>\n",
              "      <th>FEB</th>\n",
              "      <th>MAR</th>\n",
              "      <th>APR</th>\n",
              "      <th>MAY</th>\n",
              "      <th>JUN</th>\n",
              "      <th>JUL</th>\n",
              "      <th>AUG</th>\n",
              "      <th>SEP</th>\n",
              "      <th>OCT</th>\n",
              "      <th>NOV</th>\n",
              "      <th>DEC</th>\n",
              "      <th>ANNUAL RAINFALL</th>\n",
              "      <th>FLOODS</th>\n",
              "    </tr>\n",
              "  </thead>\n",
              "  <tbody>\n",
              "    <tr>\n",
              "      <th>113</th>\n",
              "      <td>KERALA</td>\n",
              "      <td>2014</td>\n",
              "      <td>4.6</td>\n",
              "      <td>10.3</td>\n",
              "      <td>17.9</td>\n",
              "      <td>95.7</td>\n",
              "      <td>251.0</td>\n",
              "      <td>454.4</td>\n",
              "      <td>677.8</td>\n",
              "      <td>733.9</td>\n",
              "      <td>298.8</td>\n",
              "      <td>355.5</td>\n",
              "      <td>99.5</td>\n",
              "      <td>47.2</td>\n",
              "      <td>3046.4</td>\n",
              "      <td>YES</td>\n",
              "    </tr>\n",
              "    <tr>\n",
              "      <th>114</th>\n",
              "      <td>KERALA</td>\n",
              "      <td>2015</td>\n",
              "      <td>3.1</td>\n",
              "      <td>5.8</td>\n",
              "      <td>50.1</td>\n",
              "      <td>214.1</td>\n",
              "      <td>201.8</td>\n",
              "      <td>563.6</td>\n",
              "      <td>406.0</td>\n",
              "      <td>252.2</td>\n",
              "      <td>292.9</td>\n",
              "      <td>308.1</td>\n",
              "      <td>223.6</td>\n",
              "      <td>79.4</td>\n",
              "      <td>2600.6</td>\n",
              "      <td>NO</td>\n",
              "    </tr>\n",
              "    <tr>\n",
              "      <th>115</th>\n",
              "      <td>KERALA</td>\n",
              "      <td>2016</td>\n",
              "      <td>2.4</td>\n",
              "      <td>3.8</td>\n",
              "      <td>35.9</td>\n",
              "      <td>143.0</td>\n",
              "      <td>186.4</td>\n",
              "      <td>522.2</td>\n",
              "      <td>412.3</td>\n",
              "      <td>325.5</td>\n",
              "      <td>173.2</td>\n",
              "      <td>225.9</td>\n",
              "      <td>125.4</td>\n",
              "      <td>23.6</td>\n",
              "      <td>2176.6</td>\n",
              "      <td>NO</td>\n",
              "    </tr>\n",
              "    <tr>\n",
              "      <th>116</th>\n",
              "      <td>KERALA</td>\n",
              "      <td>2017</td>\n",
              "      <td>1.9</td>\n",
              "      <td>6.8</td>\n",
              "      <td>8.9</td>\n",
              "      <td>43.6</td>\n",
              "      <td>173.5</td>\n",
              "      <td>498.5</td>\n",
              "      <td>319.6</td>\n",
              "      <td>531.8</td>\n",
              "      <td>209.5</td>\n",
              "      <td>192.4</td>\n",
              "      <td>92.5</td>\n",
              "      <td>38.1</td>\n",
              "      <td>2117.1</td>\n",
              "      <td>NO</td>\n",
              "    </tr>\n",
              "    <tr>\n",
              "      <th>117</th>\n",
              "      <td>KERALA</td>\n",
              "      <td>2018</td>\n",
              "      <td>29.1</td>\n",
              "      <td>52.1</td>\n",
              "      <td>48.6</td>\n",
              "      <td>116.4</td>\n",
              "      <td>183.8</td>\n",
              "      <td>625.4</td>\n",
              "      <td>1048.5</td>\n",
              "      <td>1398.9</td>\n",
              "      <td>423.6</td>\n",
              "      <td>356.1</td>\n",
              "      <td>125.4</td>\n",
              "      <td>65.1</td>\n",
              "      <td>4473.0</td>\n",
              "      <td>YES</td>\n",
              "    </tr>\n",
              "  </tbody>\n",
              "</table>\n",
              "</div>\n",
              "      <button class=\"colab-df-convert\" onclick=\"convertToInteractive('df-5287a00c-ab13-4337-987b-7fd8f7e30ce4')\"\n",
              "              title=\"Convert this dataframe to an interactive table.\"\n",
              "              style=\"display:none;\">\n",
              "        \n",
              "  <svg xmlns=\"http://www.w3.org/2000/svg\" height=\"24px\"viewBox=\"0 0 24 24\"\n",
              "       width=\"24px\">\n",
              "    <path d=\"M0 0h24v24H0V0z\" fill=\"none\"/>\n",
              "    <path d=\"M18.56 5.44l.94 2.06.94-2.06 2.06-.94-2.06-.94-.94-2.06-.94 2.06-2.06.94zm-11 1L8.5 8.5l.94-2.06 2.06-.94-2.06-.94L8.5 2.5l-.94 2.06-2.06.94zm10 10l.94 2.06.94-2.06 2.06-.94-2.06-.94-.94-2.06-.94 2.06-2.06.94z\"/><path d=\"M17.41 7.96l-1.37-1.37c-.4-.4-.92-.59-1.43-.59-.52 0-1.04.2-1.43.59L10.3 9.45l-7.72 7.72c-.78.78-.78 2.05 0 2.83L4 21.41c.39.39.9.59 1.41.59.51 0 1.02-.2 1.41-.59l7.78-7.78 2.81-2.81c.8-.78.8-2.07 0-2.86zM5.41 20L4 18.59l7.72-7.72 1.47 1.35L5.41 20z\"/>\n",
              "  </svg>\n",
              "      </button>\n",
              "      \n",
              "  <style>\n",
              "    .colab-df-container {\n",
              "      display:flex;\n",
              "      flex-wrap:wrap;\n",
              "      gap: 12px;\n",
              "    }\n",
              "\n",
              "    .colab-df-convert {\n",
              "      background-color: #E8F0FE;\n",
              "      border: none;\n",
              "      border-radius: 50%;\n",
              "      cursor: pointer;\n",
              "      display: none;\n",
              "      fill: #1967D2;\n",
              "      height: 32px;\n",
              "      padding: 0 0 0 0;\n",
              "      width: 32px;\n",
              "    }\n",
              "\n",
              "    .colab-df-convert:hover {\n",
              "      background-color: #E2EBFA;\n",
              "      box-shadow: 0px 1px 2px rgba(60, 64, 67, 0.3), 0px 1px 3px 1px rgba(60, 64, 67, 0.15);\n",
              "      fill: #174EA6;\n",
              "    }\n",
              "\n",
              "    [theme=dark] .colab-df-convert {\n",
              "      background-color: #3B4455;\n",
              "      fill: #D2E3FC;\n",
              "    }\n",
              "\n",
              "    [theme=dark] .colab-df-convert:hover {\n",
              "      background-color: #434B5C;\n",
              "      box-shadow: 0px 1px 3px 1px rgba(0, 0, 0, 0.15);\n",
              "      filter: drop-shadow(0px 1px 2px rgba(0, 0, 0, 0.3));\n",
              "      fill: #FFFFFF;\n",
              "    }\n",
              "  </style>\n",
              "\n",
              "      <script>\n",
              "        const buttonEl =\n",
              "          document.querySelector('#df-5287a00c-ab13-4337-987b-7fd8f7e30ce4 button.colab-df-convert');\n",
              "        buttonEl.style.display =\n",
              "          google.colab.kernel.accessAllowed ? 'block' : 'none';\n",
              "\n",
              "        async function convertToInteractive(key) {\n",
              "          const element = document.querySelector('#df-5287a00c-ab13-4337-987b-7fd8f7e30ce4');\n",
              "          const dataTable =\n",
              "            await google.colab.kernel.invokeFunction('convertToInteractive',\n",
              "                                                     [key], {});\n",
              "          if (!dataTable) return;\n",
              "\n",
              "          const docLinkHtml = 'Like what you see? Visit the ' +\n",
              "            '<a target=\"_blank\" href=https://colab.research.google.com/notebooks/data_table.ipynb>data table notebook</a>'\n",
              "            + ' to learn more about interactive tables.';\n",
              "          element.innerHTML = '';\n",
              "          dataTable['output_type'] = 'display_data';\n",
              "          await google.colab.output.renderOutput(dataTable, element);\n",
              "          const docLink = document.createElement('div');\n",
              "          docLink.innerHTML = docLinkHtml;\n",
              "          element.appendChild(docLink);\n",
              "        }\n",
              "      </script>\n",
              "    </div>\n",
              "  </div>\n",
              "  "
            ]
          },
          "metadata": {},
          "execution_count": 8
        }
      ]
    },
    {
      "cell_type": "code",
      "source": [
        "data.isnull().sum()"
      ],
      "metadata": {
        "colab": {
          "base_uri": "https://localhost:8080/"
        },
        "id": "0U533GoSQ5hR",
        "outputId": "0a27bdd9-4fb9-41d7-fbe8-a8ea791d556a"
      },
      "execution_count": null,
      "outputs": [
        {
          "output_type": "execute_result",
          "data": {
            "text/plain": [
              "SUBDIVISION         0\n",
              "YEAR                0\n",
              "JAN                 0\n",
              "FEB                 0\n",
              "MAR                 0\n",
              "APR                 0\n",
              "MAY                 0\n",
              "JUN                 0\n",
              "JUL                 0\n",
              "AUG                 0\n",
              "SEP                 0\n",
              "OCT                 0\n",
              "NOV                 0\n",
              "DEC                 0\n",
              " ANNUAL RAINFALL    0\n",
              "FLOODS              0\n",
              "dtype: int64"
            ]
          },
          "metadata": {},
          "execution_count": 9
        }
      ]
    },
    {
      "cell_type": "code",
      "source": [
        "print(data.shape)"
      ],
      "metadata": {
        "colab": {
          "base_uri": "https://localhost:8080/"
        },
        "id": "G69CKPqmQ5d0",
        "outputId": "9bdd9841-9a22-4768-a9cf-293e284cfb9a"
      },
      "execution_count": null,
      "outputs": [
        {
          "output_type": "stream",
          "name": "stdout",
          "text": [
            "(118, 16)\n"
          ]
        }
      ]
    },
    {
      "cell_type": "code",
      "source": [
        "data.describe()"
      ],
      "metadata": {
        "colab": {
          "base_uri": "https://localhost:8080/",
          "height": 300
        },
        "id": "w8Qr86ECQ5bU",
        "outputId": "dd3fafac-6aad-437a-b672-fcd456ca2e36"
      },
      "execution_count": null,
      "outputs": [
        {
          "output_type": "execute_result",
          "data": {
            "text/plain": [
              "              YEAR         JAN         FEB         MAR         APR  \\\n",
              "count   118.000000  118.000000  118.000000  118.000000  118.000000   \n",
              "mean   1959.500000   12.218644   15.633898   36.670339  110.330508   \n",
              "std      34.207699   15.473766   16.406290   30.063862   44.633452   \n",
              "min    1901.000000    0.000000    0.000000    0.100000   13.100000   \n",
              "25%    1930.250000    2.175000    4.700000   18.100000   74.350000   \n",
              "50%    1959.500000    5.800000    8.350000   28.400000  110.400000   \n",
              "75%    1988.750000   18.175000   21.400000   49.825000  136.450000   \n",
              "max    2018.000000   83.500000   79.000000  217.200000  238.000000   \n",
              "\n",
              "              MAY          JUN          JUL          AUG         SEP  \\\n",
              "count  118.000000   118.000000   118.000000   118.000000  118.000000   \n",
              "mean   228.644915   651.617797   698.220339   430.369492  246.207627   \n",
              "std    147.548778   186.181363   228.988966   181.980463  121.901131   \n",
              "min     53.400000   196.800000   167.500000   178.600000   41.300000   \n",
              "25%    125.050000   535.550000   533.200000   316.725000  155.425000   \n",
              "50%    184.600000   625.600000   691.650000   386.250000  223.550000   \n",
              "75%    264.875000   786.975000   832.425000   500.100000  334.500000   \n",
              "max    738.800000  1098.200000  1526.500000  1398.900000  526.700000   \n",
              "\n",
              "              OCT         NOV         DEC   ANNUAL RAINFALL  \n",
              "count  118.000000  118.000000  118.000000        118.000000  \n",
              "mean   293.207627  162.311017   40.009322       2925.405085  \n",
              "std     93.705253   83.200485   36.676330        452.169407  \n",
              "min     68.500000   31.500000    0.100000       2068.800000  \n",
              "25%    222.125000   93.025000   10.350000       2613.525000  \n",
              "50%    284.300000  152.450000   31.100000       2934.300000  \n",
              "75%    355.150000  218.325000   54.025000       3170.400000  \n",
              "max    567.900000  365.600000  202.300000       4473.000000  "
            ],
            "text/html": [
              "\n",
              "  <div id=\"df-1cba5722-fef6-4799-b9ba-fe41da05d4b0\">\n",
              "    <div class=\"colab-df-container\">\n",
              "      <div>\n",
              "<style scoped>\n",
              "    .dataframe tbody tr th:only-of-type {\n",
              "        vertical-align: middle;\n",
              "    }\n",
              "\n",
              "    .dataframe tbody tr th {\n",
              "        vertical-align: top;\n",
              "    }\n",
              "\n",
              "    .dataframe thead th {\n",
              "        text-align: right;\n",
              "    }\n",
              "</style>\n",
              "<table border=\"1\" class=\"dataframe\">\n",
              "  <thead>\n",
              "    <tr style=\"text-align: right;\">\n",
              "      <th></th>\n",
              "      <th>YEAR</th>\n",
              "      <th>JAN</th>\n",
              "      <th>FEB</th>\n",
              "      <th>MAR</th>\n",
              "      <th>APR</th>\n",
              "      <th>MAY</th>\n",
              "      <th>JUN</th>\n",
              "      <th>JUL</th>\n",
              "      <th>AUG</th>\n",
              "      <th>SEP</th>\n",
              "      <th>OCT</th>\n",
              "      <th>NOV</th>\n",
              "      <th>DEC</th>\n",
              "      <th>ANNUAL RAINFALL</th>\n",
              "    </tr>\n",
              "  </thead>\n",
              "  <tbody>\n",
              "    <tr>\n",
              "      <th>count</th>\n",
              "      <td>118.000000</td>\n",
              "      <td>118.000000</td>\n",
              "      <td>118.000000</td>\n",
              "      <td>118.000000</td>\n",
              "      <td>118.000000</td>\n",
              "      <td>118.000000</td>\n",
              "      <td>118.000000</td>\n",
              "      <td>118.000000</td>\n",
              "      <td>118.000000</td>\n",
              "      <td>118.000000</td>\n",
              "      <td>118.000000</td>\n",
              "      <td>118.000000</td>\n",
              "      <td>118.000000</td>\n",
              "      <td>118.000000</td>\n",
              "    </tr>\n",
              "    <tr>\n",
              "      <th>mean</th>\n",
              "      <td>1959.500000</td>\n",
              "      <td>12.218644</td>\n",
              "      <td>15.633898</td>\n",
              "      <td>36.670339</td>\n",
              "      <td>110.330508</td>\n",
              "      <td>228.644915</td>\n",
              "      <td>651.617797</td>\n",
              "      <td>698.220339</td>\n",
              "      <td>430.369492</td>\n",
              "      <td>246.207627</td>\n",
              "      <td>293.207627</td>\n",
              "      <td>162.311017</td>\n",
              "      <td>40.009322</td>\n",
              "      <td>2925.405085</td>\n",
              "    </tr>\n",
              "    <tr>\n",
              "      <th>std</th>\n",
              "      <td>34.207699</td>\n",
              "      <td>15.473766</td>\n",
              "      <td>16.406290</td>\n",
              "      <td>30.063862</td>\n",
              "      <td>44.633452</td>\n",
              "      <td>147.548778</td>\n",
              "      <td>186.181363</td>\n",
              "      <td>228.988966</td>\n",
              "      <td>181.980463</td>\n",
              "      <td>121.901131</td>\n",
              "      <td>93.705253</td>\n",
              "      <td>83.200485</td>\n",
              "      <td>36.676330</td>\n",
              "      <td>452.169407</td>\n",
              "    </tr>\n",
              "    <tr>\n",
              "      <th>min</th>\n",
              "      <td>1901.000000</td>\n",
              "      <td>0.000000</td>\n",
              "      <td>0.000000</td>\n",
              "      <td>0.100000</td>\n",
              "      <td>13.100000</td>\n",
              "      <td>53.400000</td>\n",
              "      <td>196.800000</td>\n",
              "      <td>167.500000</td>\n",
              "      <td>178.600000</td>\n",
              "      <td>41.300000</td>\n",
              "      <td>68.500000</td>\n",
              "      <td>31.500000</td>\n",
              "      <td>0.100000</td>\n",
              "      <td>2068.800000</td>\n",
              "    </tr>\n",
              "    <tr>\n",
              "      <th>25%</th>\n",
              "      <td>1930.250000</td>\n",
              "      <td>2.175000</td>\n",
              "      <td>4.700000</td>\n",
              "      <td>18.100000</td>\n",
              "      <td>74.350000</td>\n",
              "      <td>125.050000</td>\n",
              "      <td>535.550000</td>\n",
              "      <td>533.200000</td>\n",
              "      <td>316.725000</td>\n",
              "      <td>155.425000</td>\n",
              "      <td>222.125000</td>\n",
              "      <td>93.025000</td>\n",
              "      <td>10.350000</td>\n",
              "      <td>2613.525000</td>\n",
              "    </tr>\n",
              "    <tr>\n",
              "      <th>50%</th>\n",
              "      <td>1959.500000</td>\n",
              "      <td>5.800000</td>\n",
              "      <td>8.350000</td>\n",
              "      <td>28.400000</td>\n",
              "      <td>110.400000</td>\n",
              "      <td>184.600000</td>\n",
              "      <td>625.600000</td>\n",
              "      <td>691.650000</td>\n",
              "      <td>386.250000</td>\n",
              "      <td>223.550000</td>\n",
              "      <td>284.300000</td>\n",
              "      <td>152.450000</td>\n",
              "      <td>31.100000</td>\n",
              "      <td>2934.300000</td>\n",
              "    </tr>\n",
              "    <tr>\n",
              "      <th>75%</th>\n",
              "      <td>1988.750000</td>\n",
              "      <td>18.175000</td>\n",
              "      <td>21.400000</td>\n",
              "      <td>49.825000</td>\n",
              "      <td>136.450000</td>\n",
              "      <td>264.875000</td>\n",
              "      <td>786.975000</td>\n",
              "      <td>832.425000</td>\n",
              "      <td>500.100000</td>\n",
              "      <td>334.500000</td>\n",
              "      <td>355.150000</td>\n",
              "      <td>218.325000</td>\n",
              "      <td>54.025000</td>\n",
              "      <td>3170.400000</td>\n",
              "    </tr>\n",
              "    <tr>\n",
              "      <th>max</th>\n",
              "      <td>2018.000000</td>\n",
              "      <td>83.500000</td>\n",
              "      <td>79.000000</td>\n",
              "      <td>217.200000</td>\n",
              "      <td>238.000000</td>\n",
              "      <td>738.800000</td>\n",
              "      <td>1098.200000</td>\n",
              "      <td>1526.500000</td>\n",
              "      <td>1398.900000</td>\n",
              "      <td>526.700000</td>\n",
              "      <td>567.900000</td>\n",
              "      <td>365.600000</td>\n",
              "      <td>202.300000</td>\n",
              "      <td>4473.000000</td>\n",
              "    </tr>\n",
              "  </tbody>\n",
              "</table>\n",
              "</div>\n",
              "      <button class=\"colab-df-convert\" onclick=\"convertToInteractive('df-1cba5722-fef6-4799-b9ba-fe41da05d4b0')\"\n",
              "              title=\"Convert this dataframe to an interactive table.\"\n",
              "              style=\"display:none;\">\n",
              "        \n",
              "  <svg xmlns=\"http://www.w3.org/2000/svg\" height=\"24px\"viewBox=\"0 0 24 24\"\n",
              "       width=\"24px\">\n",
              "    <path d=\"M0 0h24v24H0V0z\" fill=\"none\"/>\n",
              "    <path d=\"M18.56 5.44l.94 2.06.94-2.06 2.06-.94-2.06-.94-.94-2.06-.94 2.06-2.06.94zm-11 1L8.5 8.5l.94-2.06 2.06-.94-2.06-.94L8.5 2.5l-.94 2.06-2.06.94zm10 10l.94 2.06.94-2.06 2.06-.94-2.06-.94-.94-2.06-.94 2.06-2.06.94z\"/><path d=\"M17.41 7.96l-1.37-1.37c-.4-.4-.92-.59-1.43-.59-.52 0-1.04.2-1.43.59L10.3 9.45l-7.72 7.72c-.78.78-.78 2.05 0 2.83L4 21.41c.39.39.9.59 1.41.59.51 0 1.02-.2 1.41-.59l7.78-7.78 2.81-2.81c.8-.78.8-2.07 0-2.86zM5.41 20L4 18.59l7.72-7.72 1.47 1.35L5.41 20z\"/>\n",
              "  </svg>\n",
              "      </button>\n",
              "      \n",
              "  <style>\n",
              "    .colab-df-container {\n",
              "      display:flex;\n",
              "      flex-wrap:wrap;\n",
              "      gap: 12px;\n",
              "    }\n",
              "\n",
              "    .colab-df-convert {\n",
              "      background-color: #E8F0FE;\n",
              "      border: none;\n",
              "      border-radius: 50%;\n",
              "      cursor: pointer;\n",
              "      display: none;\n",
              "      fill: #1967D2;\n",
              "      height: 32px;\n",
              "      padding: 0 0 0 0;\n",
              "      width: 32px;\n",
              "    }\n",
              "\n",
              "    .colab-df-convert:hover {\n",
              "      background-color: #E2EBFA;\n",
              "      box-shadow: 0px 1px 2px rgba(60, 64, 67, 0.3), 0px 1px 3px 1px rgba(60, 64, 67, 0.15);\n",
              "      fill: #174EA6;\n",
              "    }\n",
              "\n",
              "    [theme=dark] .colab-df-convert {\n",
              "      background-color: #3B4455;\n",
              "      fill: #D2E3FC;\n",
              "    }\n",
              "\n",
              "    [theme=dark] .colab-df-convert:hover {\n",
              "      background-color: #434B5C;\n",
              "      box-shadow: 0px 1px 3px 1px rgba(0, 0, 0, 0.15);\n",
              "      filter: drop-shadow(0px 1px 2px rgba(0, 0, 0, 0.3));\n",
              "      fill: #FFFFFF;\n",
              "    }\n",
              "  </style>\n",
              "\n",
              "      <script>\n",
              "        const buttonEl =\n",
              "          document.querySelector('#df-1cba5722-fef6-4799-b9ba-fe41da05d4b0 button.colab-df-convert');\n",
              "        buttonEl.style.display =\n",
              "          google.colab.kernel.accessAllowed ? 'block' : 'none';\n",
              "\n",
              "        async function convertToInteractive(key) {\n",
              "          const element = document.querySelector('#df-1cba5722-fef6-4799-b9ba-fe41da05d4b0');\n",
              "          const dataTable =\n",
              "            await google.colab.kernel.invokeFunction('convertToInteractive',\n",
              "                                                     [key], {});\n",
              "          if (!dataTable) return;\n",
              "\n",
              "          const docLinkHtml = 'Like what you see? Visit the ' +\n",
              "            '<a target=\"_blank\" href=https://colab.research.google.com/notebooks/data_table.ipynb>data table notebook</a>'\n",
              "            + ' to learn more about interactive tables.';\n",
              "          element.innerHTML = '';\n",
              "          dataTable['output_type'] = 'display_data';\n",
              "          await google.colab.output.renderOutput(dataTable, element);\n",
              "          const docLink = document.createElement('div');\n",
              "          docLink.innerHTML = docLinkHtml;\n",
              "          element.appendChild(docLink);\n",
              "        }\n",
              "      </script>\n",
              "    </div>\n",
              "  </div>\n",
              "  "
            ]
          },
          "metadata": {},
          "execution_count": 11
        }
      ]
    },
    {
      "cell_type": "code",
      "source": [
        "data.info"
      ],
      "metadata": {
        "colab": {
          "base_uri": "https://localhost:8080/"
        },
        "id": "cefemEtWQ5Yk",
        "outputId": "6c986a14-2134-4ae6-a346-e1c99c696939"
      },
      "execution_count": null,
      "outputs": [
        {
          "output_type": "execute_result",
          "data": {
            "text/plain": [
              "<bound method DataFrame.info of     SUBDIVISION  YEAR   JAN   FEB   MAR    APR    MAY     JUN     JUL     AUG  \\\n",
              "0        KERALA  1901  28.7  44.7  51.6  160.0  174.7   824.6   743.0   357.5   \n",
              "1        KERALA  1902   6.7   2.6  57.3   83.9  134.5   390.9  1205.0   315.8   \n",
              "2        KERALA  1903   3.2  18.6   3.1   83.6  249.7   558.6  1022.5   420.2   \n",
              "3        KERALA  1904  23.7   3.0  32.2   71.5  235.7  1098.2   725.5   351.8   \n",
              "4        KERALA  1905   1.2  22.3   9.4  105.9  263.3   850.2   520.5   293.6   \n",
              "..          ...   ...   ...   ...   ...    ...    ...     ...     ...     ...   \n",
              "113      KERALA  2014   4.6  10.3  17.9   95.7  251.0   454.4   677.8   733.9   \n",
              "114      KERALA  2015   3.1   5.8  50.1  214.1  201.8   563.6   406.0   252.2   \n",
              "115      KERALA  2016   2.4   3.8  35.9  143.0  186.4   522.2   412.3   325.5   \n",
              "116     KERALA   2017   1.9   6.8   8.9   43.6  173.5   498.5   319.6   531.8   \n",
              "117      KERALA  2018  29.1  52.1  48.6  116.4  183.8   625.4  1048.5  1398.9   \n",
              "\n",
              "       SEP    OCT    NOV    DEC   ANNUAL RAINFALL FLOODS  \n",
              "0    197.7  266.9  350.8   48.4            3248.6    YES  \n",
              "1    491.6  358.4  158.3  121.5            3326.6    YES  \n",
              "2    341.8  354.1  157.0   59.0            3271.2    YES  \n",
              "3    222.7  328.1   33.9    3.3            3129.7    YES  \n",
              "4    217.2  383.5   74.4    0.2            2741.6     NO  \n",
              "..     ...    ...    ...    ...               ...    ...  \n",
              "113  298.8  355.5   99.5   47.2            3046.4    YES  \n",
              "114  292.9  308.1  223.6   79.4            2600.6     NO  \n",
              "115  173.2  225.9  125.4   23.6            2176.6     NO  \n",
              "116  209.5  192.4   92.5   38.1            2117.1     NO  \n",
              "117  423.6  356.1  125.4   65.1            4473.0    YES  \n",
              "\n",
              "[118 rows x 16 columns]>"
            ]
          },
          "metadata": {},
          "execution_count": 12
        }
      ]
    },
    {
      "cell_type": "code",
      "source": [
        "data.cov()"
      ],
      "metadata": {
        "colab": {
          "base_uri": "https://localhost:8080/",
          "height": 587
        },
        "id": "AL1RjGMnQ5WE",
        "outputId": "d876cfdd-867a-46a4-c87d-e548001820e5"
      },
      "execution_count": null,
      "outputs": [
        {
          "output_type": "execute_result",
          "data": {
            "text/plain": [
              "                         YEAR         JAN         FEB          MAR  \\\n",
              "YEAR              1170.166667 -119.378632    2.176923   -13.207265   \n",
              "JAN               -119.378632  239.437427    4.979192    36.577053   \n",
              "FEB                  2.176923    4.979192  269.166362   121.027766   \n",
              "MAR                -13.207265   36.577053  121.027766   903.835779   \n",
              "APR                132.625641   24.039512   90.585966    99.315784   \n",
              "MAY               -301.126068  163.062403 -202.129655  -456.721990   \n",
              "JUN              -1114.149145  545.574281  165.293580   106.348567   \n",
              "JUL              -1749.953846  121.970900   21.748364   126.186249   \n",
              "AUG                274.983761   24.434163   69.442838   232.033874   \n",
              "SEP                448.915812 -214.094844  132.629654   527.184758   \n",
              "OCT                -96.876496  -50.812451   81.684355   -64.980285   \n",
              "NOV               -370.360256  -14.205421 -222.332684   -81.573089   \n",
              "DEC               -155.123504  -50.968209  -76.434079    28.990108   \n",
              " ANNUAL RAINFALL -3063.344444  830.154092  455.913330  1578.305793   \n",
              "\n",
              "                          APR           MAY           JUN           JUL  \\\n",
              "YEAR               132.625641   -301.126068  -1114.149145  -1749.953846   \n",
              "JAN                 24.039512    163.062403    545.574281    121.970900   \n",
              "FEB                 90.585966   -202.129655    165.293580     21.748364   \n",
              "MAR                 99.315784   -456.721990    106.348567    126.186249   \n",
              "APR               1992.145044   -754.490185    606.540393    153.070058   \n",
              "MAY               -754.490185  21770.641812     33.929279  -1571.703571   \n",
              "JUN                606.540393     33.929279  34663.499937   4047.567071   \n",
              "JUL                153.070058  -1571.703571   4047.567071  52435.946420   \n",
              "AUG               -388.591540  -3340.586652   -492.944239   6436.876865   \n",
              "SEP                 70.336859   2101.892304  -1194.576633   5846.347194   \n",
              "OCT                473.330962   2725.149056     20.161145    541.214459   \n",
              "NOV                 82.464276   1165.417193    247.329460   -543.479371   \n",
              "DEC               -180.710372   -638.978371   -581.699654   -113.988396   \n",
              " ANNUAL RAINFALL  2267.590185  20997.420795  38170.332986  67508.201520   \n",
              "\n",
              "                           AUG           SEP          OCT          NOV  \\\n",
              "YEAR                274.983761    448.915812   -96.876496  -370.360256   \n",
              "JAN                  24.434163   -214.094844   -50.812451   -14.205421   \n",
              "FEB                  69.442838    132.629654    81.684355  -222.332684   \n",
              "MAR                 232.033874    527.184758   -64.980285   -81.573089   \n",
              "APR                -388.591540     70.336859   473.330962    82.464276   \n",
              "MAY               -3340.586652   2101.892304  2725.149056  1165.417193   \n",
              "JUN                -492.944239  -1194.576633    20.161145   247.329460   \n",
              "JUL                6436.876865   5846.347194   541.214459  -543.479371   \n",
              "AUG               33116.888805   2178.762799 -3094.959423 -1706.808293   \n",
              "SEP                2178.762799  14859.885839  -369.500828  -280.077350   \n",
              "OCT               -3094.959423   -369.500828  8780.674386  -187.580256   \n",
              "NOV               -1706.808293   -280.077350  -187.580256  6922.320647   \n",
              "DEC                 948.365073    -49.210243  -134.262978   215.801948   \n",
              " ANNUAL RAINFALL  33987.052721  23610.285602  8722.467910  5597.319516   \n",
              "\n",
              "                          DEC   ANNUAL RAINFALL  \n",
              "YEAR              -155.123504      -3063.344444  \n",
              "JAN                -50.968209        830.154092  \n",
              "FEB                -76.434079        455.913330  \n",
              "MAR                 28.990108       1578.305793  \n",
              "APR               -180.710372       2267.590185  \n",
              "MAY               -638.978371      20997.420795  \n",
              "JUN               -581.699654      38170.332986  \n",
              "JUL               -113.988396      67508.201520  \n",
              "AUG                948.365073      33987.052721  \n",
              "SEP                -49.210243      23610.285602  \n",
              "OCT               -134.262978       8722.467910  \n",
              "NOV                215.801948       5597.319516  \n",
              "DEC               1345.153160        712.560721  \n",
              " ANNUAL RAINFALL   712.560721     204457.172453  "
            ],
            "text/html": [
              "\n",
              "  <div id=\"df-6ca0f46e-ac74-4845-a23d-fe277b69e7a8\">\n",
              "    <div class=\"colab-df-container\">\n",
              "      <div>\n",
              "<style scoped>\n",
              "    .dataframe tbody tr th:only-of-type {\n",
              "        vertical-align: middle;\n",
              "    }\n",
              "\n",
              "    .dataframe tbody tr th {\n",
              "        vertical-align: top;\n",
              "    }\n",
              "\n",
              "    .dataframe thead th {\n",
              "        text-align: right;\n",
              "    }\n",
              "</style>\n",
              "<table border=\"1\" class=\"dataframe\">\n",
              "  <thead>\n",
              "    <tr style=\"text-align: right;\">\n",
              "      <th></th>\n",
              "      <th>YEAR</th>\n",
              "      <th>JAN</th>\n",
              "      <th>FEB</th>\n",
              "      <th>MAR</th>\n",
              "      <th>APR</th>\n",
              "      <th>MAY</th>\n",
              "      <th>JUN</th>\n",
              "      <th>JUL</th>\n",
              "      <th>AUG</th>\n",
              "      <th>SEP</th>\n",
              "      <th>OCT</th>\n",
              "      <th>NOV</th>\n",
              "      <th>DEC</th>\n",
              "      <th>ANNUAL RAINFALL</th>\n",
              "    </tr>\n",
              "  </thead>\n",
              "  <tbody>\n",
              "    <tr>\n",
              "      <th>YEAR</th>\n",
              "      <td>1170.166667</td>\n",
              "      <td>-119.378632</td>\n",
              "      <td>2.176923</td>\n",
              "      <td>-13.207265</td>\n",
              "      <td>132.625641</td>\n",
              "      <td>-301.126068</td>\n",
              "      <td>-1114.149145</td>\n",
              "      <td>-1749.953846</td>\n",
              "      <td>274.983761</td>\n",
              "      <td>448.915812</td>\n",
              "      <td>-96.876496</td>\n",
              "      <td>-370.360256</td>\n",
              "      <td>-155.123504</td>\n",
              "      <td>-3063.344444</td>\n",
              "    </tr>\n",
              "    <tr>\n",
              "      <th>JAN</th>\n",
              "      <td>-119.378632</td>\n",
              "      <td>239.437427</td>\n",
              "      <td>4.979192</td>\n",
              "      <td>36.577053</td>\n",
              "      <td>24.039512</td>\n",
              "      <td>163.062403</td>\n",
              "      <td>545.574281</td>\n",
              "      <td>121.970900</td>\n",
              "      <td>24.434163</td>\n",
              "      <td>-214.094844</td>\n",
              "      <td>-50.812451</td>\n",
              "      <td>-14.205421</td>\n",
              "      <td>-50.968209</td>\n",
              "      <td>830.154092</td>\n",
              "    </tr>\n",
              "    <tr>\n",
              "      <th>FEB</th>\n",
              "      <td>2.176923</td>\n",
              "      <td>4.979192</td>\n",
              "      <td>269.166362</td>\n",
              "      <td>121.027766</td>\n",
              "      <td>90.585966</td>\n",
              "      <td>-202.129655</td>\n",
              "      <td>165.293580</td>\n",
              "      <td>21.748364</td>\n",
              "      <td>69.442838</td>\n",
              "      <td>132.629654</td>\n",
              "      <td>81.684355</td>\n",
              "      <td>-222.332684</td>\n",
              "      <td>-76.434079</td>\n",
              "      <td>455.913330</td>\n",
              "    </tr>\n",
              "    <tr>\n",
              "      <th>MAR</th>\n",
              "      <td>-13.207265</td>\n",
              "      <td>36.577053</td>\n",
              "      <td>121.027766</td>\n",
              "      <td>903.835779</td>\n",
              "      <td>99.315784</td>\n",
              "      <td>-456.721990</td>\n",
              "      <td>106.348567</td>\n",
              "      <td>126.186249</td>\n",
              "      <td>232.033874</td>\n",
              "      <td>527.184758</td>\n",
              "      <td>-64.980285</td>\n",
              "      <td>-81.573089</td>\n",
              "      <td>28.990108</td>\n",
              "      <td>1578.305793</td>\n",
              "    </tr>\n",
              "    <tr>\n",
              "      <th>APR</th>\n",
              "      <td>132.625641</td>\n",
              "      <td>24.039512</td>\n",
              "      <td>90.585966</td>\n",
              "      <td>99.315784</td>\n",
              "      <td>1992.145044</td>\n",
              "      <td>-754.490185</td>\n",
              "      <td>606.540393</td>\n",
              "      <td>153.070058</td>\n",
              "      <td>-388.591540</td>\n",
              "      <td>70.336859</td>\n",
              "      <td>473.330962</td>\n",
              "      <td>82.464276</td>\n",
              "      <td>-180.710372</td>\n",
              "      <td>2267.590185</td>\n",
              "    </tr>\n",
              "    <tr>\n",
              "      <th>MAY</th>\n",
              "      <td>-301.126068</td>\n",
              "      <td>163.062403</td>\n",
              "      <td>-202.129655</td>\n",
              "      <td>-456.721990</td>\n",
              "      <td>-754.490185</td>\n",
              "      <td>21770.641812</td>\n",
              "      <td>33.929279</td>\n",
              "      <td>-1571.703571</td>\n",
              "      <td>-3340.586652</td>\n",
              "      <td>2101.892304</td>\n",
              "      <td>2725.149056</td>\n",
              "      <td>1165.417193</td>\n",
              "      <td>-638.978371</td>\n",
              "      <td>20997.420795</td>\n",
              "    </tr>\n",
              "    <tr>\n",
              "      <th>JUN</th>\n",
              "      <td>-1114.149145</td>\n",
              "      <td>545.574281</td>\n",
              "      <td>165.293580</td>\n",
              "      <td>106.348567</td>\n",
              "      <td>606.540393</td>\n",
              "      <td>33.929279</td>\n",
              "      <td>34663.499937</td>\n",
              "      <td>4047.567071</td>\n",
              "      <td>-492.944239</td>\n",
              "      <td>-1194.576633</td>\n",
              "      <td>20.161145</td>\n",
              "      <td>247.329460</td>\n",
              "      <td>-581.699654</td>\n",
              "      <td>38170.332986</td>\n",
              "    </tr>\n",
              "    <tr>\n",
              "      <th>JUL</th>\n",
              "      <td>-1749.953846</td>\n",
              "      <td>121.970900</td>\n",
              "      <td>21.748364</td>\n",
              "      <td>126.186249</td>\n",
              "      <td>153.070058</td>\n",
              "      <td>-1571.703571</td>\n",
              "      <td>4047.567071</td>\n",
              "      <td>52435.946420</td>\n",
              "      <td>6436.876865</td>\n",
              "      <td>5846.347194</td>\n",
              "      <td>541.214459</td>\n",
              "      <td>-543.479371</td>\n",
              "      <td>-113.988396</td>\n",
              "      <td>67508.201520</td>\n",
              "    </tr>\n",
              "    <tr>\n",
              "      <th>AUG</th>\n",
              "      <td>274.983761</td>\n",
              "      <td>24.434163</td>\n",
              "      <td>69.442838</td>\n",
              "      <td>232.033874</td>\n",
              "      <td>-388.591540</td>\n",
              "      <td>-3340.586652</td>\n",
              "      <td>-492.944239</td>\n",
              "      <td>6436.876865</td>\n",
              "      <td>33116.888805</td>\n",
              "      <td>2178.762799</td>\n",
              "      <td>-3094.959423</td>\n",
              "      <td>-1706.808293</td>\n",
              "      <td>948.365073</td>\n",
              "      <td>33987.052721</td>\n",
              "    </tr>\n",
              "    <tr>\n",
              "      <th>SEP</th>\n",
              "      <td>448.915812</td>\n",
              "      <td>-214.094844</td>\n",
              "      <td>132.629654</td>\n",
              "      <td>527.184758</td>\n",
              "      <td>70.336859</td>\n",
              "      <td>2101.892304</td>\n",
              "      <td>-1194.576633</td>\n",
              "      <td>5846.347194</td>\n",
              "      <td>2178.762799</td>\n",
              "      <td>14859.885839</td>\n",
              "      <td>-369.500828</td>\n",
              "      <td>-280.077350</td>\n",
              "      <td>-49.210243</td>\n",
              "      <td>23610.285602</td>\n",
              "    </tr>\n",
              "    <tr>\n",
              "      <th>OCT</th>\n",
              "      <td>-96.876496</td>\n",
              "      <td>-50.812451</td>\n",
              "      <td>81.684355</td>\n",
              "      <td>-64.980285</td>\n",
              "      <td>473.330962</td>\n",
              "      <td>2725.149056</td>\n",
              "      <td>20.161145</td>\n",
              "      <td>541.214459</td>\n",
              "      <td>-3094.959423</td>\n",
              "      <td>-369.500828</td>\n",
              "      <td>8780.674386</td>\n",
              "      <td>-187.580256</td>\n",
              "      <td>-134.262978</td>\n",
              "      <td>8722.467910</td>\n",
              "    </tr>\n",
              "    <tr>\n",
              "      <th>NOV</th>\n",
              "      <td>-370.360256</td>\n",
              "      <td>-14.205421</td>\n",
              "      <td>-222.332684</td>\n",
              "      <td>-81.573089</td>\n",
              "      <td>82.464276</td>\n",
              "      <td>1165.417193</td>\n",
              "      <td>247.329460</td>\n",
              "      <td>-543.479371</td>\n",
              "      <td>-1706.808293</td>\n",
              "      <td>-280.077350</td>\n",
              "      <td>-187.580256</td>\n",
              "      <td>6922.320647</td>\n",
              "      <td>215.801948</td>\n",
              "      <td>5597.319516</td>\n",
              "    </tr>\n",
              "    <tr>\n",
              "      <th>DEC</th>\n",
              "      <td>-155.123504</td>\n",
              "      <td>-50.968209</td>\n",
              "      <td>-76.434079</td>\n",
              "      <td>28.990108</td>\n",
              "      <td>-180.710372</td>\n",
              "      <td>-638.978371</td>\n",
              "      <td>-581.699654</td>\n",
              "      <td>-113.988396</td>\n",
              "      <td>948.365073</td>\n",
              "      <td>-49.210243</td>\n",
              "      <td>-134.262978</td>\n",
              "      <td>215.801948</td>\n",
              "      <td>1345.153160</td>\n",
              "      <td>712.560721</td>\n",
              "    </tr>\n",
              "    <tr>\n",
              "      <th>ANNUAL RAINFALL</th>\n",
              "      <td>-3063.344444</td>\n",
              "      <td>830.154092</td>\n",
              "      <td>455.913330</td>\n",
              "      <td>1578.305793</td>\n",
              "      <td>2267.590185</td>\n",
              "      <td>20997.420795</td>\n",
              "      <td>38170.332986</td>\n",
              "      <td>67508.201520</td>\n",
              "      <td>33987.052721</td>\n",
              "      <td>23610.285602</td>\n",
              "      <td>8722.467910</td>\n",
              "      <td>5597.319516</td>\n",
              "      <td>712.560721</td>\n",
              "      <td>204457.172453</td>\n",
              "    </tr>\n",
              "  </tbody>\n",
              "</table>\n",
              "</div>\n",
              "      <button class=\"colab-df-convert\" onclick=\"convertToInteractive('df-6ca0f46e-ac74-4845-a23d-fe277b69e7a8')\"\n",
              "              title=\"Convert this dataframe to an interactive table.\"\n",
              "              style=\"display:none;\">\n",
              "        \n",
              "  <svg xmlns=\"http://www.w3.org/2000/svg\" height=\"24px\"viewBox=\"0 0 24 24\"\n",
              "       width=\"24px\">\n",
              "    <path d=\"M0 0h24v24H0V0z\" fill=\"none\"/>\n",
              "    <path d=\"M18.56 5.44l.94 2.06.94-2.06 2.06-.94-2.06-.94-.94-2.06-.94 2.06-2.06.94zm-11 1L8.5 8.5l.94-2.06 2.06-.94-2.06-.94L8.5 2.5l-.94 2.06-2.06.94zm10 10l.94 2.06.94-2.06 2.06-.94-2.06-.94-.94-2.06-.94 2.06-2.06.94z\"/><path d=\"M17.41 7.96l-1.37-1.37c-.4-.4-.92-.59-1.43-.59-.52 0-1.04.2-1.43.59L10.3 9.45l-7.72 7.72c-.78.78-.78 2.05 0 2.83L4 21.41c.39.39.9.59 1.41.59.51 0 1.02-.2 1.41-.59l7.78-7.78 2.81-2.81c.8-.78.8-2.07 0-2.86zM5.41 20L4 18.59l7.72-7.72 1.47 1.35L5.41 20z\"/>\n",
              "  </svg>\n",
              "      </button>\n",
              "      \n",
              "  <style>\n",
              "    .colab-df-container {\n",
              "      display:flex;\n",
              "      flex-wrap:wrap;\n",
              "      gap: 12px;\n",
              "    }\n",
              "\n",
              "    .colab-df-convert {\n",
              "      background-color: #E8F0FE;\n",
              "      border: none;\n",
              "      border-radius: 50%;\n",
              "      cursor: pointer;\n",
              "      display: none;\n",
              "      fill: #1967D2;\n",
              "      height: 32px;\n",
              "      padding: 0 0 0 0;\n",
              "      width: 32px;\n",
              "    }\n",
              "\n",
              "    .colab-df-convert:hover {\n",
              "      background-color: #E2EBFA;\n",
              "      box-shadow: 0px 1px 2px rgba(60, 64, 67, 0.3), 0px 1px 3px 1px rgba(60, 64, 67, 0.15);\n",
              "      fill: #174EA6;\n",
              "    }\n",
              "\n",
              "    [theme=dark] .colab-df-convert {\n",
              "      background-color: #3B4455;\n",
              "      fill: #D2E3FC;\n",
              "    }\n",
              "\n",
              "    [theme=dark] .colab-df-convert:hover {\n",
              "      background-color: #434B5C;\n",
              "      box-shadow: 0px 1px 3px 1px rgba(0, 0, 0, 0.15);\n",
              "      filter: drop-shadow(0px 1px 2px rgba(0, 0, 0, 0.3));\n",
              "      fill: #FFFFFF;\n",
              "    }\n",
              "  </style>\n",
              "\n",
              "      <script>\n",
              "        const buttonEl =\n",
              "          document.querySelector('#df-6ca0f46e-ac74-4845-a23d-fe277b69e7a8 button.colab-df-convert');\n",
              "        buttonEl.style.display =\n",
              "          google.colab.kernel.accessAllowed ? 'block' : 'none';\n",
              "\n",
              "        async function convertToInteractive(key) {\n",
              "          const element = document.querySelector('#df-6ca0f46e-ac74-4845-a23d-fe277b69e7a8');\n",
              "          const dataTable =\n",
              "            await google.colab.kernel.invokeFunction('convertToInteractive',\n",
              "                                                     [key], {});\n",
              "          if (!dataTable) return;\n",
              "\n",
              "          const docLinkHtml = 'Like what you see? Visit the ' +\n",
              "            '<a target=\"_blank\" href=https://colab.research.google.com/notebooks/data_table.ipynb>data table notebook</a>'\n",
              "            + ' to learn more about interactive tables.';\n",
              "          element.innerHTML = '';\n",
              "          dataTable['output_type'] = 'display_data';\n",
              "          await google.colab.output.renderOutput(dataTable, element);\n",
              "          const docLink = document.createElement('div');\n",
              "          docLink.innerHTML = docLinkHtml;\n",
              "          element.appendChild(docLink);\n",
              "        }\n",
              "      </script>\n",
              "    </div>\n",
              "  </div>\n",
              "  "
            ]
          },
          "metadata": {},
          "execution_count": 13
        }
      ]
    },
    {
      "cell_type": "code",
      "source": [
        "data.corr()"
      ],
      "metadata": {
        "colab": {
          "base_uri": "https://localhost:8080/",
          "height": 488
        },
        "id": "_XrVmtLvQ5TP",
        "outputId": "e27f7433-bb66-484e-b230-b5ccab580d16"
      },
      "execution_count": null,
      "outputs": [
        {
          "output_type": "execute_result",
          "data": {
            "text/plain": [
              "                      YEAR       JAN       FEB       MAR       APR       MAY  \\\n",
              "YEAR              1.000000 -0.225531  0.003879 -0.012842  0.086865 -0.059661   \n",
              "JAN              -0.225531  1.000000  0.019613  0.078626  0.034807  0.071420   \n",
              "FEB               0.003879  0.019613  1.000000  0.245375  0.123706 -0.083500   \n",
              "MAR              -0.012842  0.078626  0.245375  1.000000  0.074014 -0.102961   \n",
              "APR               0.086865  0.034807  0.123706  0.074014  1.000000 -0.114566   \n",
              "MAY              -0.059661  0.071420 -0.083500 -0.102961 -0.114566  1.000000   \n",
              "JUN              -0.174938  0.189375  0.054114  0.019000  0.072990  0.001235   \n",
              "JUL              -0.223403  0.034423  0.005789  0.018330  0.014977 -0.046518   \n",
              "AUG               0.044173  0.008677  0.023259  0.042411 -0.047842 -0.124412   \n",
              "SEP               0.107655 -0.113502  0.066317  0.143850  0.012928  0.116860   \n",
              "OCT              -0.030223 -0.035044  0.053133 -0.023066  0.113172  0.197102   \n",
              "NOV              -0.130129 -0.011034 -0.162880 -0.032612  0.022206  0.094934   \n",
              "DEC              -0.123643 -0.089809 -0.127025  0.026292 -0.110392 -0.118077   \n",
              " ANNUAL RAINFALL -0.198048  0.118648  0.061457  0.116103  0.112358  0.314723   \n",
              "\n",
              "                       JUN       JUL       AUG       SEP       OCT       NOV  \\\n",
              "YEAR             -0.174938 -0.223403  0.044173  0.107655 -0.030223 -0.130129   \n",
              "JAN               0.189375  0.034423  0.008677 -0.113502 -0.035044 -0.011034   \n",
              "FEB               0.054114  0.005789  0.023259  0.066317  0.053133 -0.162880   \n",
              "MAR               0.019000  0.018330  0.042411  0.143850 -0.023066 -0.032612   \n",
              "APR               0.072990  0.014977 -0.047842  0.012928  0.113172  0.022206   \n",
              "MAY               0.001235 -0.046518 -0.124412  0.116860  0.197102  0.094934   \n",
              "JUN               1.000000  0.094939 -0.014549 -0.052634  0.001156  0.015967   \n",
              "JUL               0.094939  1.000000  0.154467  0.209441  0.025223 -0.028526   \n",
              "AUG              -0.014549  0.154467  1.000000  0.098215 -0.181496 -0.112729   \n",
              "SEP              -0.052634  0.209441  0.098215  1.000000 -0.032348 -0.027615   \n",
              "OCT               0.001156  0.025223 -0.181496 -0.032348  1.000000 -0.024060   \n",
              "NOV               0.015967 -0.028526 -0.112729 -0.027615 -0.024060  1.000000   \n",
              "DEC              -0.085188 -0.013573  0.142090 -0.011007 -0.039067  0.070720   \n",
              " ANNUAL RAINFALL  0.453407  0.651990  0.413036  0.428344  0.205861  0.148783   \n",
              "\n",
              "                       DEC   ANNUAL RAINFALL  \n",
              "YEAR             -0.123643         -0.198048  \n",
              "JAN              -0.089809          0.118648  \n",
              "FEB              -0.127025          0.061457  \n",
              "MAR               0.026292          0.116103  \n",
              "APR              -0.110392          0.112358  \n",
              "MAY              -0.118077          0.314723  \n",
              "JUN              -0.085188          0.453407  \n",
              "JUL              -0.013573          0.651990  \n",
              "AUG               0.142090          0.413036  \n",
              "SEP              -0.011007          0.428344  \n",
              "OCT              -0.039067          0.205861  \n",
              "NOV               0.070720          0.148783  \n",
              "DEC               1.000000          0.042967  \n",
              " ANNUAL RAINFALL  0.042967          1.000000  "
            ],
            "text/html": [
              "\n",
              "  <div id=\"df-5fc78c36-4721-489f-a6e9-d561ae5128c8\">\n",
              "    <div class=\"colab-df-container\">\n",
              "      <div>\n",
              "<style scoped>\n",
              "    .dataframe tbody tr th:only-of-type {\n",
              "        vertical-align: middle;\n",
              "    }\n",
              "\n",
              "    .dataframe tbody tr th {\n",
              "        vertical-align: top;\n",
              "    }\n",
              "\n",
              "    .dataframe thead th {\n",
              "        text-align: right;\n",
              "    }\n",
              "</style>\n",
              "<table border=\"1\" class=\"dataframe\">\n",
              "  <thead>\n",
              "    <tr style=\"text-align: right;\">\n",
              "      <th></th>\n",
              "      <th>YEAR</th>\n",
              "      <th>JAN</th>\n",
              "      <th>FEB</th>\n",
              "      <th>MAR</th>\n",
              "      <th>APR</th>\n",
              "      <th>MAY</th>\n",
              "      <th>JUN</th>\n",
              "      <th>JUL</th>\n",
              "      <th>AUG</th>\n",
              "      <th>SEP</th>\n",
              "      <th>OCT</th>\n",
              "      <th>NOV</th>\n",
              "      <th>DEC</th>\n",
              "      <th>ANNUAL RAINFALL</th>\n",
              "    </tr>\n",
              "  </thead>\n",
              "  <tbody>\n",
              "    <tr>\n",
              "      <th>YEAR</th>\n",
              "      <td>1.000000</td>\n",
              "      <td>-0.225531</td>\n",
              "      <td>0.003879</td>\n",
              "      <td>-0.012842</td>\n",
              "      <td>0.086865</td>\n",
              "      <td>-0.059661</td>\n",
              "      <td>-0.174938</td>\n",
              "      <td>-0.223403</td>\n",
              "      <td>0.044173</td>\n",
              "      <td>0.107655</td>\n",
              "      <td>-0.030223</td>\n",
              "      <td>-0.130129</td>\n",
              "      <td>-0.123643</td>\n",
              "      <td>-0.198048</td>\n",
              "    </tr>\n",
              "    <tr>\n",
              "      <th>JAN</th>\n",
              "      <td>-0.225531</td>\n",
              "      <td>1.000000</td>\n",
              "      <td>0.019613</td>\n",
              "      <td>0.078626</td>\n",
              "      <td>0.034807</td>\n",
              "      <td>0.071420</td>\n",
              "      <td>0.189375</td>\n",
              "      <td>0.034423</td>\n",
              "      <td>0.008677</td>\n",
              "      <td>-0.113502</td>\n",
              "      <td>-0.035044</td>\n",
              "      <td>-0.011034</td>\n",
              "      <td>-0.089809</td>\n",
              "      <td>0.118648</td>\n",
              "    </tr>\n",
              "    <tr>\n",
              "      <th>FEB</th>\n",
              "      <td>0.003879</td>\n",
              "      <td>0.019613</td>\n",
              "      <td>1.000000</td>\n",
              "      <td>0.245375</td>\n",
              "      <td>0.123706</td>\n",
              "      <td>-0.083500</td>\n",
              "      <td>0.054114</td>\n",
              "      <td>0.005789</td>\n",
              "      <td>0.023259</td>\n",
              "      <td>0.066317</td>\n",
              "      <td>0.053133</td>\n",
              "      <td>-0.162880</td>\n",
              "      <td>-0.127025</td>\n",
              "      <td>0.061457</td>\n",
              "    </tr>\n",
              "    <tr>\n",
              "      <th>MAR</th>\n",
              "      <td>-0.012842</td>\n",
              "      <td>0.078626</td>\n",
              "      <td>0.245375</td>\n",
              "      <td>1.000000</td>\n",
              "      <td>0.074014</td>\n",
              "      <td>-0.102961</td>\n",
              "      <td>0.019000</td>\n",
              "      <td>0.018330</td>\n",
              "      <td>0.042411</td>\n",
              "      <td>0.143850</td>\n",
              "      <td>-0.023066</td>\n",
              "      <td>-0.032612</td>\n",
              "      <td>0.026292</td>\n",
              "      <td>0.116103</td>\n",
              "    </tr>\n",
              "    <tr>\n",
              "      <th>APR</th>\n",
              "      <td>0.086865</td>\n",
              "      <td>0.034807</td>\n",
              "      <td>0.123706</td>\n",
              "      <td>0.074014</td>\n",
              "      <td>1.000000</td>\n",
              "      <td>-0.114566</td>\n",
              "      <td>0.072990</td>\n",
              "      <td>0.014977</td>\n",
              "      <td>-0.047842</td>\n",
              "      <td>0.012928</td>\n",
              "      <td>0.113172</td>\n",
              "      <td>0.022206</td>\n",
              "      <td>-0.110392</td>\n",
              "      <td>0.112358</td>\n",
              "    </tr>\n",
              "    <tr>\n",
              "      <th>MAY</th>\n",
              "      <td>-0.059661</td>\n",
              "      <td>0.071420</td>\n",
              "      <td>-0.083500</td>\n",
              "      <td>-0.102961</td>\n",
              "      <td>-0.114566</td>\n",
              "      <td>1.000000</td>\n",
              "      <td>0.001235</td>\n",
              "      <td>-0.046518</td>\n",
              "      <td>-0.124412</td>\n",
              "      <td>0.116860</td>\n",
              "      <td>0.197102</td>\n",
              "      <td>0.094934</td>\n",
              "      <td>-0.118077</td>\n",
              "      <td>0.314723</td>\n",
              "    </tr>\n",
              "    <tr>\n",
              "      <th>JUN</th>\n",
              "      <td>-0.174938</td>\n",
              "      <td>0.189375</td>\n",
              "      <td>0.054114</td>\n",
              "      <td>0.019000</td>\n",
              "      <td>0.072990</td>\n",
              "      <td>0.001235</td>\n",
              "      <td>1.000000</td>\n",
              "      <td>0.094939</td>\n",
              "      <td>-0.014549</td>\n",
              "      <td>-0.052634</td>\n",
              "      <td>0.001156</td>\n",
              "      <td>0.015967</td>\n",
              "      <td>-0.085188</td>\n",
              "      <td>0.453407</td>\n",
              "    </tr>\n",
              "    <tr>\n",
              "      <th>JUL</th>\n",
              "      <td>-0.223403</td>\n",
              "      <td>0.034423</td>\n",
              "      <td>0.005789</td>\n",
              "      <td>0.018330</td>\n",
              "      <td>0.014977</td>\n",
              "      <td>-0.046518</td>\n",
              "      <td>0.094939</td>\n",
              "      <td>1.000000</td>\n",
              "      <td>0.154467</td>\n",
              "      <td>0.209441</td>\n",
              "      <td>0.025223</td>\n",
              "      <td>-0.028526</td>\n",
              "      <td>-0.013573</td>\n",
              "      <td>0.651990</td>\n",
              "    </tr>\n",
              "    <tr>\n",
              "      <th>AUG</th>\n",
              "      <td>0.044173</td>\n",
              "      <td>0.008677</td>\n",
              "      <td>0.023259</td>\n",
              "      <td>0.042411</td>\n",
              "      <td>-0.047842</td>\n",
              "      <td>-0.124412</td>\n",
              "      <td>-0.014549</td>\n",
              "      <td>0.154467</td>\n",
              "      <td>1.000000</td>\n",
              "      <td>0.098215</td>\n",
              "      <td>-0.181496</td>\n",
              "      <td>-0.112729</td>\n",
              "      <td>0.142090</td>\n",
              "      <td>0.413036</td>\n",
              "    </tr>\n",
              "    <tr>\n",
              "      <th>SEP</th>\n",
              "      <td>0.107655</td>\n",
              "      <td>-0.113502</td>\n",
              "      <td>0.066317</td>\n",
              "      <td>0.143850</td>\n",
              "      <td>0.012928</td>\n",
              "      <td>0.116860</td>\n",
              "      <td>-0.052634</td>\n",
              "      <td>0.209441</td>\n",
              "      <td>0.098215</td>\n",
              "      <td>1.000000</td>\n",
              "      <td>-0.032348</td>\n",
              "      <td>-0.027615</td>\n",
              "      <td>-0.011007</td>\n",
              "      <td>0.428344</td>\n",
              "    </tr>\n",
              "    <tr>\n",
              "      <th>OCT</th>\n",
              "      <td>-0.030223</td>\n",
              "      <td>-0.035044</td>\n",
              "      <td>0.053133</td>\n",
              "      <td>-0.023066</td>\n",
              "      <td>0.113172</td>\n",
              "      <td>0.197102</td>\n",
              "      <td>0.001156</td>\n",
              "      <td>0.025223</td>\n",
              "      <td>-0.181496</td>\n",
              "      <td>-0.032348</td>\n",
              "      <td>1.000000</td>\n",
              "      <td>-0.024060</td>\n",
              "      <td>-0.039067</td>\n",
              "      <td>0.205861</td>\n",
              "    </tr>\n",
              "    <tr>\n",
              "      <th>NOV</th>\n",
              "      <td>-0.130129</td>\n",
              "      <td>-0.011034</td>\n",
              "      <td>-0.162880</td>\n",
              "      <td>-0.032612</td>\n",
              "      <td>0.022206</td>\n",
              "      <td>0.094934</td>\n",
              "      <td>0.015967</td>\n",
              "      <td>-0.028526</td>\n",
              "      <td>-0.112729</td>\n",
              "      <td>-0.027615</td>\n",
              "      <td>-0.024060</td>\n",
              "      <td>1.000000</td>\n",
              "      <td>0.070720</td>\n",
              "      <td>0.148783</td>\n",
              "    </tr>\n",
              "    <tr>\n",
              "      <th>DEC</th>\n",
              "      <td>-0.123643</td>\n",
              "      <td>-0.089809</td>\n",
              "      <td>-0.127025</td>\n",
              "      <td>0.026292</td>\n",
              "      <td>-0.110392</td>\n",
              "      <td>-0.118077</td>\n",
              "      <td>-0.085188</td>\n",
              "      <td>-0.013573</td>\n",
              "      <td>0.142090</td>\n",
              "      <td>-0.011007</td>\n",
              "      <td>-0.039067</td>\n",
              "      <td>0.070720</td>\n",
              "      <td>1.000000</td>\n",
              "      <td>0.042967</td>\n",
              "    </tr>\n",
              "    <tr>\n",
              "      <th>ANNUAL RAINFALL</th>\n",
              "      <td>-0.198048</td>\n",
              "      <td>0.118648</td>\n",
              "      <td>0.061457</td>\n",
              "      <td>0.116103</td>\n",
              "      <td>0.112358</td>\n",
              "      <td>0.314723</td>\n",
              "      <td>0.453407</td>\n",
              "      <td>0.651990</td>\n",
              "      <td>0.413036</td>\n",
              "      <td>0.428344</td>\n",
              "      <td>0.205861</td>\n",
              "      <td>0.148783</td>\n",
              "      <td>0.042967</td>\n",
              "      <td>1.000000</td>\n",
              "    </tr>\n",
              "  </tbody>\n",
              "</table>\n",
              "</div>\n",
              "      <button class=\"colab-df-convert\" onclick=\"convertToInteractive('df-5fc78c36-4721-489f-a6e9-d561ae5128c8')\"\n",
              "              title=\"Convert this dataframe to an interactive table.\"\n",
              "              style=\"display:none;\">\n",
              "        \n",
              "  <svg xmlns=\"http://www.w3.org/2000/svg\" height=\"24px\"viewBox=\"0 0 24 24\"\n",
              "       width=\"24px\">\n",
              "    <path d=\"M0 0h24v24H0V0z\" fill=\"none\"/>\n",
              "    <path d=\"M18.56 5.44l.94 2.06.94-2.06 2.06-.94-2.06-.94-.94-2.06-.94 2.06-2.06.94zm-11 1L8.5 8.5l.94-2.06 2.06-.94-2.06-.94L8.5 2.5l-.94 2.06-2.06.94zm10 10l.94 2.06.94-2.06 2.06-.94-2.06-.94-.94-2.06-.94 2.06-2.06.94z\"/><path d=\"M17.41 7.96l-1.37-1.37c-.4-.4-.92-.59-1.43-.59-.52 0-1.04.2-1.43.59L10.3 9.45l-7.72 7.72c-.78.78-.78 2.05 0 2.83L4 21.41c.39.39.9.59 1.41.59.51 0 1.02-.2 1.41-.59l7.78-7.78 2.81-2.81c.8-.78.8-2.07 0-2.86zM5.41 20L4 18.59l7.72-7.72 1.47 1.35L5.41 20z\"/>\n",
              "  </svg>\n",
              "      </button>\n",
              "      \n",
              "  <style>\n",
              "    .colab-df-container {\n",
              "      display:flex;\n",
              "      flex-wrap:wrap;\n",
              "      gap: 12px;\n",
              "    }\n",
              "\n",
              "    .colab-df-convert {\n",
              "      background-color: #E8F0FE;\n",
              "      border: none;\n",
              "      border-radius: 50%;\n",
              "      cursor: pointer;\n",
              "      display: none;\n",
              "      fill: #1967D2;\n",
              "      height: 32px;\n",
              "      padding: 0 0 0 0;\n",
              "      width: 32px;\n",
              "    }\n",
              "\n",
              "    .colab-df-convert:hover {\n",
              "      background-color: #E2EBFA;\n",
              "      box-shadow: 0px 1px 2px rgba(60, 64, 67, 0.3), 0px 1px 3px 1px rgba(60, 64, 67, 0.15);\n",
              "      fill: #174EA6;\n",
              "    }\n",
              "\n",
              "    [theme=dark] .colab-df-convert {\n",
              "      background-color: #3B4455;\n",
              "      fill: #D2E3FC;\n",
              "    }\n",
              "\n",
              "    [theme=dark] .colab-df-convert:hover {\n",
              "      background-color: #434B5C;\n",
              "      box-shadow: 0px 1px 3px 1px rgba(0, 0, 0, 0.15);\n",
              "      filter: drop-shadow(0px 1px 2px rgba(0, 0, 0, 0.3));\n",
              "      fill: #FFFFFF;\n",
              "    }\n",
              "  </style>\n",
              "\n",
              "      <script>\n",
              "        const buttonEl =\n",
              "          document.querySelector('#df-5fc78c36-4721-489f-a6e9-d561ae5128c8 button.colab-df-convert');\n",
              "        buttonEl.style.display =\n",
              "          google.colab.kernel.accessAllowed ? 'block' : 'none';\n",
              "\n",
              "        async function convertToInteractive(key) {\n",
              "          const element = document.querySelector('#df-5fc78c36-4721-489f-a6e9-d561ae5128c8');\n",
              "          const dataTable =\n",
              "            await google.colab.kernel.invokeFunction('convertToInteractive',\n",
              "                                                     [key], {});\n",
              "          if (!dataTable) return;\n",
              "\n",
              "          const docLinkHtml = 'Like what you see? Visit the ' +\n",
              "            '<a target=\"_blank\" href=https://colab.research.google.com/notebooks/data_table.ipynb>data table notebook</a>'\n",
              "            + ' to learn more about interactive tables.';\n",
              "          element.innerHTML = '';\n",
              "          dataTable['output_type'] = 'display_data';\n",
              "          await google.colab.output.renderOutput(dataTable, element);\n",
              "          const docLink = document.createElement('div');\n",
              "          docLink.innerHTML = docLinkHtml;\n",
              "          element.appendChild(docLink);\n",
              "        }\n",
              "      </script>\n",
              "    </div>\n",
              "  </div>\n",
              "  "
            ]
          },
          "metadata": {},
          "execution_count": 14
        }
      ]
    },
    {
      "cell_type": "code",
      "source": [
        "# replace yes/no by 1/0\n",
        "data['FLOODS'].replace(['YES','NO'],[1,0],inplace=True)\n",
        "data.head()"
      ],
      "metadata": {
        "colab": {
          "base_uri": "https://localhost:8080/",
          "height": 200
        },
        "id": "ZppoPeXWQ5Qz",
        "outputId": "33bd61d8-5b7a-4d5f-8b13-411966556c62"
      },
      "execution_count": null,
      "outputs": [
        {
          "output_type": "error",
          "ename": "NameError",
          "evalue": "ignored",
          "traceback": [
            "\u001b[0;31m---------------------------------------------------------------------------\u001b[0m",
            "\u001b[0;31mNameError\u001b[0m                                 Traceback (most recent call last)",
            "\u001b[0;32m<ipython-input-2-dac5ea8c6512>\u001b[0m in \u001b[0;36m<module>\u001b[0;34m\u001b[0m\n\u001b[1;32m      1\u001b[0m \u001b[0;31m# replace yes/no by 1/0\u001b[0m\u001b[0;34m\u001b[0m\u001b[0;34m\u001b[0m\u001b[0;34m\u001b[0m\u001b[0m\n\u001b[0;32m----> 2\u001b[0;31m \u001b[0mdata\u001b[0m\u001b[0;34m[\u001b[0m\u001b[0;34m'FLOODS'\u001b[0m\u001b[0;34m]\u001b[0m\u001b[0;34m.\u001b[0m\u001b[0mreplace\u001b[0m\u001b[0;34m(\u001b[0m\u001b[0;34m[\u001b[0m\u001b[0;34m'YES'\u001b[0m\u001b[0;34m,\u001b[0m\u001b[0;34m'NO'\u001b[0m\u001b[0;34m]\u001b[0m\u001b[0;34m,\u001b[0m\u001b[0;34m[\u001b[0m\u001b[0;36m1\u001b[0m\u001b[0;34m,\u001b[0m\u001b[0;36m0\u001b[0m\u001b[0;34m]\u001b[0m\u001b[0;34m,\u001b[0m\u001b[0minplace\u001b[0m\u001b[0;34m=\u001b[0m\u001b[0;32mTrue\u001b[0m\u001b[0;34m)\u001b[0m\u001b[0;34m\u001b[0m\u001b[0;34m\u001b[0m\u001b[0m\n\u001b[0m\u001b[1;32m      3\u001b[0m \u001b[0mdata\u001b[0m\u001b[0;34m.\u001b[0m\u001b[0mhead\u001b[0m\u001b[0;34m(\u001b[0m\u001b[0;34m)\u001b[0m\u001b[0;34m\u001b[0m\u001b[0;34m\u001b[0m\u001b[0m\n",
            "\u001b[0;31mNameError\u001b[0m: name 'data' is not defined"
          ]
        }
      ]
    },
    {
      "cell_type": "code",
      "source": [
        "# Seperating the data which we are gonna use for prediction.\n",
        "x=data.iloc[:,1:14]\n",
        "x.head()"
      ],
      "metadata": {
        "id": "ztrLvwWWQ5OO"
      },
      "execution_count": null,
      "outputs": []
    },
    {
      "cell_type": "code",
      "source": [
        "# Now seperate the flood label from the dataset.\n",
        "y=data.iloc[:,-1]\n",
        "y"
      ],
      "metadata": {
        "colab": {
          "base_uri": "https://localhost:8080/"
        },
        "id": "Ir78LHaYQ5La",
        "outputId": "052faccf-43e4-43ce-f921-510f30124f8e"
      },
      "execution_count": null,
      "outputs": [
        {
          "output_type": "execute_result",
          "data": {
            "text/plain": [
              "0      1\n",
              "1      1\n",
              "2      1\n",
              "3      1\n",
              "4      0\n",
              "      ..\n",
              "113    1\n",
              "114    0\n",
              "115    0\n",
              "116    0\n",
              "117    1\n",
              "Name: FLOODS, Length: 118, dtype: int64"
            ]
          },
          "metadata": {},
          "execution_count": 17
        }
      ]
    },
    {
      "cell_type": "markdown",
      "source": [
        "#Plot"
      ],
      "metadata": {
        "id": "k9hlc6AbSNLA"
      }
    },
    {
      "cell_type": "code",
      "source": [
        "import matplotlib.pyplot as plt\n",
        "%matplotlib inline\n",
        "c = data[['JUN','JUL','AUG','SEP']]\n",
        "c.hist()\n",
        "plt.show()\n",
        "#shows rainfall index"
      ],
      "metadata": {
        "colab": {
          "base_uri": "https://localhost:8080/",
          "height": 281
        },
        "id": "vQpm1bHeQ5Is",
        "outputId": "d5d64a8d-4aa1-4d65-b891-8b56a7056b77"
      },
      "execution_count": null,
      "outputs": [
        {
          "output_type": "display_data",
          "data": {
            "text/plain": [
              "<Figure size 432x288 with 4 Axes>"
            ],
            "image/png": "[encoded data removed]"
          },
          "metadata": {
            "needs_background": "light"
          }
        }
      ]
    },
    {
      "cell_type": "code",
      "source": [
        "ax = data[['JAN', 'FEB', 'MAR', 'APR','MAY', 'JUN', 'AUG', 'SEP', 'OCT','NOV','DEC']].mean().plot.bar(width=0.5,edgecolor='k',align='center',linewidth=2,figsize=(14,6))\n",
        "plt.xlabel('Month',fontsize=30)\n",
        "plt.ylabel('Monthly Rainfall',fontsize=20)\n",
        "plt.title('Rainfall in Kerela for all Months',fontsize=25)\n",
        "ax.tick_params(labelsize=20)\n",
        "plt.grid()\n",
        "plt.ioff()"
      ],
      "metadata": {
        "colab": {
          "base_uri": "https://localhost:8080/",
          "height": 467
        },
        "id": "PLBGda5UQ5F-",
        "outputId": "c72311cd-2d80-4659-f694-0f893844a6a6"
      },
      "execution_count": null,
      "outputs": [
        {
          "output_type": "display_data",
          "data": {
            "text/plain": [
              "<Figure size 1008x432 with 1 Axes>"
            ],
            "image/png": "[encoded data removed]"
          },
          "metadata": {
            "needs_background": "light"
          }
        }
      ]
    },
    {
      "cell_type": "markdown",
      "source": [
        "#sklearn to develop the model"
      ],
      "metadata": {
        "id": "fIsf0YSrSwkw"
      }
    },
    {
      "cell_type": "code",
      "source": [
        "# Scaling the data between 0 and 1.\n",
        "from sklearn import preprocessing\n",
        "minmax = preprocessing.MinMaxScaler(feature_range=(0,1))\n",
        "minmax.fit(x).transform(x)"
      ],
      "metadata": {
        "colab": {
          "base_uri": "https://localhost:8080/"
        },
        "id": "KOJVrIKNQ5C7",
        "outputId": "afee54bd-f5f0-4bff-ad10-dd573c118e54"
      },
      "execution_count": null,
      "outputs": [
        {
          "output_type": "execute_result",
          "data": {
            "text/plain": [
              "array([[0.        , 0.34371257, 0.56582278, ..., 0.39727673, 0.95570189,\n",
              "        0.2388724 ],\n",
              "       [0.00854701, 0.08023952, 0.03291139, ..., 0.5804966 , 0.37952709,\n",
              "        0.60039565],\n",
              "       [0.01709402, 0.03832335, 0.23544304, ..., 0.57188626, 0.37563604,\n",
              "        0.29129575],\n",
              "       ...,\n",
              "       [0.98290598, 0.02874251, 0.04810127, ..., 0.31517821, 0.28105358,\n",
              "        0.11622156],\n",
              "       [0.99145299, 0.02275449, 0.08607595, ..., 0.24809772, 0.18258007,\n",
              "        0.18793274],\n",
              "       [1.        , 0.34850299, 0.65949367, ..., 0.57589107, 0.28105358,\n",
              "        0.3214639 ]])"
            ]
          },
          "metadata": {},
          "execution_count": 20
        }
      ]
    },
    {
      "cell_type": "code",
      "source": [
        "#dividing the dataset into training dataset and test dataset.\n",
        "from sklearn import model_selection,neighbors\n",
        "from sklearn.model_selection import train_test_split\n",
        "x_train,x_test,y_train,y_test=train_test_split(x,y,test_size=0.2)\n",
        "x_train.head()"
      ],
      "metadata": {
        "colab": {
          "base_uri": "https://localhost:8080/",
          "height": 206
        },
        "id": "dvyB0HkQQ5Ac",
        "outputId": "a37b589a-da6d-4025-caa1-78802af60117"
      },
      "execution_count": null,
      "outputs": [
        {
          "output_type": "execute_result",
          "data": {
            "text/plain": [
              "    YEAR   JAN   FEB   MAR    APR    MAY    JUN    JUL     AUG    SEP    OCT  \\\n",
              "94  1995  10.3   6.5  37.3  134.9  355.6  493.4  702.5   457.3  280.0  198.3   \n",
              "30  1931   3.3   0.3  19.2  126.9  131.7  541.7  653.9  1199.2  163.2  149.3   \n",
              "42  1943  83.5  14.6  38.4  107.5  478.4  794.5  831.6   183.3  257.6  427.2   \n",
              "72  1973   0.0   0.3  12.3  131.5  119.9  617.0  583.5   487.5   61.3  260.8   \n",
              "49  1950   0.1  53.7  31.1   68.5  242.0  638.3  905.7   387.3  411.6  250.4   \n",
              "\n",
              "      NOV    DEC  \n",
              "94  182.6    0.1  \n",
              "30  164.3  106.5  \n",
              "42  223.4   24.3  \n",
              "72   84.5   53.8  \n",
              "49  149.2    8.8  "
            ],
            "text/html": [
              "\n",
              "  <div id=\"df-fcb4dc07-8af6-4438-aa9a-0334307fcd52\">\n",
              "    <div class=\"colab-df-container\">\n",
              "      <div>\n",
              "<style scoped>\n",
              "    .dataframe tbody tr th:only-of-type {\n",
              "        vertical-align: middle;\n",
              "    }\n",
              "\n",
              "    .dataframe tbody tr th {\n",
              "        vertical-align: top;\n",
              "    }\n",
              "\n",
              "    .dataframe thead th {\n",
              "        text-align: right;\n",
              "    }\n",
              "</style>\n",
              "<table border=\"1\" class=\"dataframe\">\n",
              "  <thead>\n",
              "    <tr style=\"text-align: right;\">\n",
              "      <th></th>\n",
              "      <th>YEAR</th>\n",
              "      <th>JAN</th>\n",
              "      <th>FEB</th>\n",
              "      <th>MAR</th>\n",
              "      <th>APR</th>\n",
              "      <th>MAY</th>\n",
              "      <th>JUN</th>\n",
              "      <th>JUL</th>\n",
              "      <th>AUG</th>\n",
              "      <th>SEP</th>\n",
              "      <th>OCT</th>\n",
              "      <th>NOV</th>\n",
              "      <th>DEC</th>\n",
              "    </tr>\n",
              "  </thead>\n",
              "  <tbody>\n",
              "    <tr>\n",
              "      <th>94</th>\n",
              "      <td>1995</td>\n",
              "      <td>10.3</td>\n",
              "      <td>6.5</td>\n",
              "      <td>37.3</td>\n",
              "      <td>134.9</td>\n",
              "      <td>355.6</td>\n",
              "      <td>493.4</td>\n",
              "      <td>702.5</td>\n",
              "      <td>457.3</td>\n",
              "      <td>280.0</td>\n",
              "      <td>198.3</td>\n",
              "      <td>182.6</td>\n",
              "      <td>0.1</td>\n",
              "    </tr>\n",
              "    <tr>\n",
              "      <th>30</th>\n",
              "      <td>1931</td>\n",
              "      <td>3.3</td>\n",
              "      <td>0.3</td>\n",
              "      <td>19.2</td>\n",
              "      <td>126.9</td>\n",
              "      <td>131.7</td>\n",
              "      <td>541.7</td>\n",
              "      <td>653.9</td>\n",
              "      <td>1199.2</td>\n",
              "      <td>163.2</td>\n",
              "      <td>149.3</td>\n",
              "      <td>164.3</td>\n",
              "      <td>106.5</td>\n",
              "    </tr>\n",
              "    <tr>\n",
              "      <th>42</th>\n",
              "      <td>1943</td>\n",
              "      <td>83.5</td>\n",
              "      <td>14.6</td>\n",
              "      <td>38.4</td>\n",
              "      <td>107.5</td>\n",
              "      <td>478.4</td>\n",
              "      <td>794.5</td>\n",
              "      <td>831.6</td>\n",
              "      <td>183.3</td>\n",
              "      <td>257.6</td>\n",
              "      <td>427.2</td>\n",
              "      <td>223.4</td>\n",
              "      <td>24.3</td>\n",
              "    </tr>\n",
              "    <tr>\n",
              "      <th>72</th>\n",
              "      <td>1973</td>\n",
              "      <td>0.0</td>\n",
              "      <td>0.3</td>\n",
              "      <td>12.3</td>\n",
              "      <td>131.5</td>\n",
              "      <td>119.9</td>\n",
              "      <td>617.0</td>\n",
              "      <td>583.5</td>\n",
              "      <td>487.5</td>\n",
              "      <td>61.3</td>\n",
              "      <td>260.8</td>\n",
              "      <td>84.5</td>\n",
              "      <td>53.8</td>\n",
              "    </tr>\n",
              "    <tr>\n",
              "      <th>49</th>\n",
              "      <td>1950</td>\n",
              "      <td>0.1</td>\n",
              "      <td>53.7</td>\n",
              "      <td>31.1</td>\n",
              "      <td>68.5</td>\n",
              "      <td>242.0</td>\n",
              "      <td>638.3</td>\n",
              "      <td>905.7</td>\n",
              "      <td>387.3</td>\n",
              "      <td>411.6</td>\n",
              "      <td>250.4</td>\n",
              "      <td>149.2</td>\n",
              "      <td>8.8</td>\n",
              "    </tr>\n",
              "  </tbody>\n",
              "</table>\n",
              "</div>\n",
              "      <button class=\"colab-df-convert\" onclick=\"convertToInteractive('df-fcb4dc07-8af6-4438-aa9a-0334307fcd52')\"\n",
              "              title=\"Convert this dataframe to an interactive table.\"\n",
              "              style=\"display:none;\">\n",
              "        \n",
              "  <svg xmlns=\"http://www.w3.org/2000/svg\" height=\"24px\"viewBox=\"0 0 24 24\"\n",
              "       width=\"24px\">\n",
              "    <path d=\"M0 0h24v24H0V0z\" fill=\"none\"/>\n",
              "    <path d=\"M18.56 5.44l.94 2.06.94-2.06 2.06-.94-2.06-.94-.94-2.06-.94 2.06-2.06.94zm-11 1L8.5 8.5l.94-2.06 2.06-.94-2.06-.94L8.5 2.5l-.94 2.06-2.06.94zm10 10l.94 2.06.94-2.06 2.06-.94-2.06-.94-.94-2.06-.94 2.06-2.06.94z\"/><path d=\"M17.41 7.96l-1.37-1.37c-.4-.4-.92-.59-1.43-.59-.52 0-1.04.2-1.43.59L10.3 9.45l-7.72 7.72c-.78.78-.78 2.05 0 2.83L4 21.41c.39.39.9.59 1.41.59.51 0 1.02-.2 1.41-.59l7.78-7.78 2.81-2.81c.8-.78.8-2.07 0-2.86zM5.41 20L4 18.59l7.72-7.72 1.47 1.35L5.41 20z\"/>\n",
              "  </svg>\n",
              "      </button>\n",
              "      \n",
              "  <style>\n",
              "    .colab-df-container {\n",
              "      display:flex;\n",
              "      flex-wrap:wrap;\n",
              "      gap: 12px;\n",
              "    }\n",
              "\n",
              "    .colab-df-convert {\n",
              "      background-color: #E8F0FE;\n",
              "      border: none;\n",
              "      border-radius: 50%;\n",
              "      cursor: pointer;\n",
              "      display: none;\n",
              "      fill: #1967D2;\n",
              "      height: 32px;\n",
              "      padding: 0 0 0 0;\n",
              "      width: 32px;\n",
              "    }\n",
              "\n",
              "    .colab-df-convert:hover {\n",
              "      background-color: #E2EBFA;\n",
              "      box-shadow: 0px 1px 2px rgba(60, 64, 67, 0.3), 0px 1px 3px 1px rgba(60, 64, 67, 0.15);\n",
              "      fill: #174EA6;\n",
              "    }\n",
              "\n",
              "    [theme=dark] .colab-df-convert {\n",
              "      background-color: #3B4455;\n",
              "      fill: #D2E3FC;\n",
              "    }\n",
              "\n",
              "    [theme=dark] .colab-df-convert:hover {\n",
              "      background-color: #434B5C;\n",
              "      box-shadow: 0px 1px 3px 1px rgba(0, 0, 0, 0.15);\n",
              "      filter: drop-shadow(0px 1px 2px rgba(0, 0, 0, 0.3));\n",
              "      fill: #FFFFFF;\n",
              "    }\n",
              "  </style>\n",
              "\n",
              "      <script>\n",
              "        const buttonEl =\n",
              "          document.querySelector('#df-fcb4dc07-8af6-4438-aa9a-0334307fcd52 button.colab-df-convert');\n",
              "        buttonEl.style.display =\n",
              "          google.colab.kernel.accessAllowed ? 'block' : 'none';\n",
              "\n",
              "        async function convertToInteractive(key) {\n",
              "          const element = document.querySelector('#df-fcb4dc07-8af6-4438-aa9a-0334307fcd52');\n",
              "          const dataTable =\n",
              "            await google.colab.kernel.invokeFunction('convertToInteractive',\n",
              "                                                     [key], {});\n",
              "          if (!dataTable) return;\n",
              "\n",
              "          const docLinkHtml = 'Like what you see? Visit the ' +\n",
              "            '<a target=\"_blank\" href=https://colab.research.google.com/notebooks/data_table.ipynb>data table notebook</a>'\n",
              "            + ' to learn more about interactive tables.';\n",
              "          element.innerHTML = '';\n",
              "          dataTable['output_type'] = 'display_data';\n",
              "          await google.colab.output.renderOutput(dataTable, element);\n",
              "          const docLink = document.createElement('div');\n",
              "          docLink.innerHTML = docLinkHtml;\n",
              "          element.appendChild(docLink);\n",
              "        }\n",
              "      </script>\n",
              "    </div>\n",
              "  </div>\n",
              "  "
            ]
          },
          "metadata": {},
          "execution_count": 21
        }
      ]
    },
    {
      "cell_type": "code",
      "source": [
        "x_train.dtypes"
      ],
      "metadata": {
        "colab": {
          "base_uri": "https://localhost:8080/"
        },
        "id": "aXTk5GIEQ49o",
        "outputId": "d04a2c0b-ab78-499e-ba8a-6f97d4701c78"
      },
      "execution_count": null,
      "outputs": [
        {
          "output_type": "execute_result",
          "data": {
            "text/plain": [
              "YEAR      int64\n",
              "JAN     float64\n",
              "FEB     float64\n",
              "MAR     float64\n",
              "APR     float64\n",
              "MAY     float64\n",
              "JUN     float64\n",
              "JUL     float64\n",
              "AUG     float64\n",
              "SEP     float64\n",
              "OCT     float64\n",
              "NOV     float64\n",
              "DEC     float64\n",
              "dtype: object"
            ]
          },
          "metadata": {},
          "execution_count": 22
        }
      ]
    },
    {
      "cell_type": "code",
      "source": [
        "x_test.head()"
      ],
      "metadata": {
        "colab": {
          "base_uri": "https://localhost:8080/",
          "height": 206
        },
        "id": "xhNWmUtGQ462",
        "outputId": "d2e9b6c3-bfe8-4191-e0d2-1aead6c5e2db"
      },
      "execution_count": null,
      "outputs": [
        {
          "output_type": "execute_result",
          "data": {
            "text/plain": [
              "    YEAR   JAN   FEB   MAR    APR    MAY    JUN    JUL    AUG    SEP    OCT  \\\n",
              "97  1998   6.0   2.1   8.1   61.1  151.6  732.5  641.4  371.8  517.6  444.8   \n",
              "93  1994  24.3  27.1  18.1  154.5  141.3  845.0  955.5  479.9  212.6  428.4   \n",
              "96  1997   2.1   1.5  36.1   60.6  133.6  544.2  970.5  536.0  292.2  288.9   \n",
              "99  2000  11.7  57.8  21.5   96.3  124.5  633.8  343.2  566.5  195.8  214.2   \n",
              "71  1972   2.6   7.5   2.5   87.5  436.0  401.8  714.4  294.9  185.7  351.5   \n",
              "\n",
              "      NOV    DEC  \n",
              "97  135.0   79.4  \n",
              "93  117.6    6.5  \n",
              "96  298.4   88.4  \n",
              "99   78.1   69.1  \n",
              "71  140.5  114.3  "
            ],
            "text/html": [
              "\n",
              "  <div id=\"df-d56662ea-5edd-4e63-b9a3-5731edcc5eae\">\n",
              "    <div class=\"colab-df-container\">\n",
              "      <div>\n",
              "<style scoped>\n",
              "    .dataframe tbody tr th:only-of-type {\n",
              "        vertical-align: middle;\n",
              "    }\n",
              "\n",
              "    .dataframe tbody tr th {\n",
              "        vertical-align: top;\n",
              "    }\n",
              "\n",
              "    .dataframe thead th {\n",
              "        text-align: right;\n",
              "    }\n",
              "</style>\n",
              "<table border=\"1\" class=\"dataframe\">\n",
              "  <thead>\n",
              "    <tr style=\"text-align: right;\">\n",
              "      <th></th>\n",
              "      <th>YEAR</th>\n",
              "      <th>JAN</th>\n",
              "      <th>FEB</th>\n",
              "      <th>MAR</th>\n",
              "      <th>APR</th>\n",
              "      <th>MAY</th>\n",
              "      <th>JUN</th>\n",
              "      <th>JUL</th>\n",
              "      <th>AUG</th>\n",
              "      <th>SEP</th>\n",
              "      <th>OCT</th>\n",
              "      <th>NOV</th>\n",
              "      <th>DEC</th>\n",
              "    </tr>\n",
              "  </thead>\n",
              "  <tbody>\n",
              "    <tr>\n",
              "      <th>97</th>\n",
              "      <td>1998</td>\n",
              "      <td>6.0</td>\n",
              "      <td>2.1</td>\n",
              "      <td>8.1</td>\n",
              "      <td>61.1</td>\n",
              "      <td>151.6</td>\n",
              "      <td>732.5</td>\n",
              "      <td>641.4</td>\n",
              "      <td>371.8</td>\n",
              "      <td>517.6</td>\n",
              "      <td>444.8</td>\n",
              "      <td>135.0</td>\n",
              "      <td>79.4</td>\n",
              "    </tr>\n",
              "    <tr>\n",
              "      <th>93</th>\n",
              "      <td>1994</td>\n",
              "      <td>24.3</td>\n",
              "      <td>27.1</td>\n",
              "      <td>18.1</td>\n",
              "      <td>154.5</td>\n",
              "      <td>141.3</td>\n",
              "      <td>845.0</td>\n",
              "      <td>955.5</td>\n",
              "      <td>479.9</td>\n",
              "      <td>212.6</td>\n",
              "      <td>428.4</td>\n",
              "      <td>117.6</td>\n",
              "      <td>6.5</td>\n",
              "    </tr>\n",
              "    <tr>\n",
              "      <th>96</th>\n",
              "      <td>1997</td>\n",
              "      <td>2.1</td>\n",
              "      <td>1.5</td>\n",
              "      <td>36.1</td>\n",
              "      <td>60.6</td>\n",
              "      <td>133.6</td>\n",
              "      <td>544.2</td>\n",
              "      <td>970.5</td>\n",
              "      <td>536.0</td>\n",
              "      <td>292.2</td>\n",
              "      <td>288.9</td>\n",
              "      <td>298.4</td>\n",
              "      <td>88.4</td>\n",
              "    </tr>\n",
              "    <tr>\n",
              "      <th>99</th>\n",
              "      <td>2000</td>\n",
              "      <td>11.7</td>\n",
              "      <td>57.8</td>\n",
              "      <td>21.5</td>\n",
              "      <td>96.3</td>\n",
              "      <td>124.5</td>\n",
              "      <td>633.8</td>\n",
              "      <td>343.2</td>\n",
              "      <td>566.5</td>\n",
              "      <td>195.8</td>\n",
              "      <td>214.2</td>\n",
              "      <td>78.1</td>\n",
              "      <td>69.1</td>\n",
              "    </tr>\n",
              "    <tr>\n",
              "      <th>71</th>\n",
              "      <td>1972</td>\n",
              "      <td>2.6</td>\n",
              "      <td>7.5</td>\n",
              "      <td>2.5</td>\n",
              "      <td>87.5</td>\n",
              "      <td>436.0</td>\n",
              "      <td>401.8</td>\n",
              "      <td>714.4</td>\n",
              "      <td>294.9</td>\n",
              "      <td>185.7</td>\n",
              "      <td>351.5</td>\n",
              "      <td>140.5</td>\n",
              "      <td>114.3</td>\n",
              "    </tr>\n",
              "  </tbody>\n",
              "</table>\n",
              "</div>\n",
              "      <button class=\"colab-df-convert\" onclick=\"convertToInteractive('df-d56662ea-5edd-4e63-b9a3-5731edcc5eae')\"\n",
              "              title=\"Convert this dataframe to an interactive table.\"\n",
              "              style=\"display:none;\">\n",
              "        \n",
              "  <svg xmlns=\"http://www.w3.org/2000/svg\" height=\"24px\"viewBox=\"0 0 24 24\"\n",
              "       width=\"24px\">\n",
              "    <path d=\"M0 0h24v24H0V0z\" fill=\"none\"/>\n",
              "    <path d=\"M18.56 5.44l.94 2.06.94-2.06 2.06-.94-2.06-.94-.94-2.06-.94 2.06-2.06.94zm-11 1L8.5 8.5l.94-2.06 2.06-.94-2.06-.94L8.5 2.5l-.94 2.06-2.06.94zm10 10l.94 2.06.94-2.06 2.06-.94-2.06-.94-.94-2.06-.94 2.06-2.06.94z\"/><path d=\"M17.41 7.96l-1.37-1.37c-.4-.4-.92-.59-1.43-.59-.52 0-1.04.2-1.43.59L10.3 9.45l-7.72 7.72c-.78.78-.78 2.05 0 2.83L4 21.41c.39.39.9.59 1.41.59.51 0 1.02-.2 1.41-.59l7.78-7.78 2.81-2.81c.8-.78.8-2.07 0-2.86zM5.41 20L4 18.59l7.72-7.72 1.47 1.35L5.41 20z\"/>\n",
              "  </svg>\n",
              "      </button>\n",
              "      \n",
              "  <style>\n",
              "    .colab-df-container {\n",
              "      display:flex;\n",
              "      flex-wrap:wrap;\n",
              "      gap: 12px;\n",
              "    }\n",
              "\n",
              "    .colab-df-convert {\n",
              "      background-color: #E8F0FE;\n",
              "      border: none;\n",
              "      border-radius: 50%;\n",
              "      cursor: pointer;\n",
              "      display: none;\n",
              "      fill: #1967D2;\n",
              "      height: 32px;\n",
              "      padding: 0 0 0 0;\n",
              "      width: 32px;\n",
              "    }\n",
              "\n",
              "    .colab-df-convert:hover {\n",
              "      background-color: #E2EBFA;\n",
              "      box-shadow: 0px 1px 2px rgba(60, 64, 67, 0.3), 0px 1px 3px 1px rgba(60, 64, 67, 0.15);\n",
              "      fill: #174EA6;\n",
              "    }\n",
              "\n",
              "    [theme=dark] .colab-df-convert {\n",
              "      background-color: #3B4455;\n",
              "      fill: #D2E3FC;\n",
              "    }\n",
              "\n",
              "    [theme=dark] .colab-df-convert:hover {\n",
              "      background-color: #434B5C;\n",
              "      box-shadow: 0px 1px 3px 1px rgba(0, 0, 0, 0.15);\n",
              "      filter: drop-shadow(0px 1px 2px rgba(0, 0, 0, 0.3));\n",
              "      fill: #FFFFFF;\n",
              "    }\n",
              "  </style>\n",
              "\n",
              "      <script>\n",
              "        const buttonEl =\n",
              "          document.querySelector('#df-d56662ea-5edd-4e63-b9a3-5731edcc5eae button.colab-df-convert');\n",
              "        buttonEl.style.display =\n",
              "          google.colab.kernel.accessAllowed ? 'block' : 'none';\n",
              "\n",
              "        async function convertToInteractive(key) {\n",
              "          const element = document.querySelector('#df-d56662ea-5edd-4e63-b9a3-5731edcc5eae');\n",
              "          const dataTable =\n",
              "            await google.colab.kernel.invokeFunction('convertToInteractive',\n",
              "                                                     [key], {});\n",
              "          if (!dataTable) return;\n",
              "\n",
              "          const docLinkHtml = 'Like what you see? Visit the ' +\n",
              "            '<a target=\"_blank\" href=https://colab.research.google.com/notebooks/data_table.ipynb>data table notebook</a>'\n",
              "            + ' to learn more about interactive tables.';\n",
              "          element.innerHTML = '';\n",
              "          dataTable['output_type'] = 'display_data';\n",
              "          await google.colab.output.renderOutput(dataTable, element);\n",
              "          const docLink = document.createElement('div');\n",
              "          docLink.innerHTML = docLinkHtml;\n",
              "          element.appendChild(docLink);\n",
              "        }\n",
              "      </script>\n",
              "    </div>\n",
              "  </div>\n",
              "  "
            ]
          },
          "metadata": {},
          "execution_count": 23
        }
      ]
    },
    {
      "cell_type": "code",
      "source": [
        "# type casting.\n",
        "y_train=y_train.astype('int')\n",
        "y_train"
      ],
      "metadata": {
        "colab": {
          "base_uri": "https://localhost:8080/"
        },
        "id": "Xi_b-M6wQ44M",
        "outputId": "f0108a9f-32bb-4a30-be54-38ce79e6810a"
      },
      "execution_count": null,
      "outputs": [
        {
          "output_type": "execute_result",
          "data": {
            "text/plain": [
              "94     0\n",
              "30     1\n",
              "42     1\n",
              "72     0\n",
              "49     1\n",
              "      ..\n",
              "17     0\n",
              "45     1\n",
              "116    0\n",
              "82     0\n",
              "85     0\n",
              "Name: FLOODS, Length: 94, dtype: int64"
            ]
          },
          "metadata": {},
          "execution_count": 24
        }
      ]
    },
    {
      "cell_type": "code",
      "source": [
        "y_test=y_test.astype('int')\n",
        "y_test"
      ],
      "metadata": {
        "colab": {
          "base_uri": "https://localhost:8080/"
        },
        "id": "YfR8jX6vQ41X",
        "outputId": "b4a5eaa7-0769-4d63-b0ce-31868237a3ec"
      },
      "execution_count": null,
      "outputs": [
        {
          "output_type": "execute_result",
          "data": {
            "text/plain": [
              "97     1\n",
              "93     1\n",
              "96     1\n",
              "99     0\n",
              "71     0\n",
              "24     1\n",
              "86     0\n",
              "91     1\n",
              "63     0\n",
              "32     1\n",
              "65     0\n",
              "79     0\n",
              "5      0\n",
              "114    0\n",
              "109    1\n",
              "39     1\n",
              "9      0\n",
              "34     0\n",
              "90     1\n",
              "77     1\n",
              "6      1\n",
              "11     1\n",
              "40     1\n",
              "48     1\n",
              "Name: FLOODS, dtype: int64"
            ]
          },
          "metadata": {},
          "execution_count": 25
        }
      ]
    },
    {
      "cell_type": "markdown",
      "source": [
        "#Prediction Algorithms"
      ],
      "metadata": {
        "id": "FwXWRA7gTIc6"
      }
    },
    {
      "cell_type": "markdown",
      "source": [
        "KNN"
      ],
      "metadata": {
        "id": "6LLrrneRTLKC"
      }
    },
    {
      "cell_type": "code",
      "source": [
        "clf=neighbors.KNeighborsClassifier()\n",
        "clf.fit(x_train,y_train)"
      ],
      "metadata": {
        "colab": {
          "base_uri": "https://localhost:8080/"
        },
        "id": "TE45S2YDQ4yp",
        "outputId": "abe7a38d-ed6b-4ee7-aa4b-77cb56949391"
      },
      "execution_count": null,
      "outputs": [
        {
          "output_type": "execute_result",
          "data": {
            "text/plain": [
              "KNeighborsClassifier()"
            ]
          },
          "metadata": {},
          "execution_count": 26
        }
      ]
    },
    {
      "cell_type": "code",
      "source": [
        "# Predicted chance of Flood.\n",
        "print(\"Predicted Values for the Floods:\")\n",
        "y_predict=clf.predict(x_test)\n",
        "y_predict"
      ],
      "metadata": {
        "colab": {
          "base_uri": "https://localhost:8080/"
        },
        "id": "fGPnf4_wQ4vu",
        "outputId": "7d2bb8c7-8988-4acc-a2ef-4c6c5b700f86"
      },
      "execution_count": null,
      "outputs": [
        {
          "output_type": "stream",
          "name": "stdout",
          "text": [
            "Predicted Values for the Floods:\n"
          ]
        },
        {
          "output_type": "execute_result",
          "data": {
            "text/plain": [
              "array([1, 1, 1, 0, 0, 1, 0, 1, 0, 1, 0, 1, 0, 0, 1, 1, 0, 0, 1, 1, 1, 1,\n",
              "       1, 1])"
            ]
          },
          "metadata": {},
          "execution_count": 27
        }
      ]
    },
    {
      "cell_type": "code",
      "source": [
        "print(\"Actual Values for the Floods:\")\n",
        "print(y_test)"
      ],
      "metadata": {
        "colab": {
          "base_uri": "https://localhost:8080/"
        },
        "id": "d2Qbf2ilQ4tC",
        "outputId": "664688c5-d57d-430b-8f41-fc186b79ea88"
      },
      "execution_count": null,
      "outputs": [
        {
          "output_type": "stream",
          "name": "stdout",
          "text": [
            "Actual Values for the Floods:\n",
            "97     1\n",
            "93     1\n",
            "96     1\n",
            "99     0\n",
            "71     0\n",
            "24     1\n",
            "86     0\n",
            "91     1\n",
            "63     0\n",
            "32     1\n",
            "65     0\n",
            "79     0\n",
            "5      0\n",
            "114    0\n",
            "109    1\n",
            "39     1\n",
            "9      0\n",
            "34     0\n",
            "90     1\n",
            "77     1\n",
            "6      1\n",
            "11     1\n",
            "40     1\n",
            "48     1\n",
            "Name: FLOODS, dtype: int64\n"
          ]
        }
      ]
    },
    {
      "cell_type": "code",
      "source": [
        "print(\"List of the Predicted Values:\")\n",
        "print(y_predict)"
      ],
      "metadata": {
        "colab": {
          "base_uri": "https://localhost:8080/"
        },
        "id": "FyGNEDj0Q4qc",
        "outputId": "ed70d80b-635c-4ddf-b460-ac5cc81d221f"
      },
      "execution_count": null,
      "outputs": [
        {
          "output_type": "stream",
          "name": "stdout",
          "text": [
            "List of the Predicted Values:\n",
            "[1 1 1 0 0 1 0 1 0 1 0 1 0 0 1 1 0 0 1 1 1 1 1 1]\n"
          ]
        }
      ]
    },
    {
      "cell_type": "code",
      "source": [
        "# Scaling the dataset.\n",
        "from sklearn.model_selection import cross_val_score,cross_val_predict\n",
        "x_train_std= minmax.fit_transform(x_train)\n",
        "x_test_std= minmax.fit_transform(x_test)\n",
        "knn_acc=cross_val_score(clf,x_train_std,y_train,cv=3,scoring='accuracy',n_jobs=-1)\n",
        "knn_proba=cross_val_predict(clf,x_train_std,y_train,cv=3,method='predict_proba')"
      ],
      "metadata": {
        "id": "O_rMuvn1Q4nq"
      },
      "execution_count": null,
      "outputs": []
    },
    {
      "cell_type": "code",
      "source": [
        "knn_acc"
      ],
      "metadata": {
        "colab": {
          "base_uri": "https://localhost:8080/"
        },
        "id": "LFKRdIA1Q4k9",
        "outputId": "00a3a841-0d8b-4c0c-c25c-48cc2c80d707"
      },
      "execution_count": null,
      "outputs": [
        {
          "output_type": "execute_result",
          "data": {
            "text/plain": [
              "array([0.8125    , 0.83870968, 0.77419355])"
            ]
          },
          "metadata": {},
          "execution_count": 31
        }
      ]
    },
    {
      "cell_type": "code",
      "source": [
        "knn_proba"
      ],
      "metadata": {
        "colab": {
          "base_uri": "https://localhost:8080/"
        },
        "id": "lazKvAXJQ4iG",
        "outputId": "747b283a-4a6c-4c5b-8072-f96dc7e4d392"
      },
      "execution_count": null,
      "outputs": [
        {
          "output_type": "execute_result",
          "data": {
            "text/plain": [
              "array([[0.8, 0.2],\n",
              "       [1. , 0. ],\n",
              "       [0. , 1. ],\n",
              "       [1. , 0. ],\n",
              "       [0.2, 0.8],\n",
              "       [0.8, 0.2],\n",
              "       [0. , 1. ],\n",
              "       [0.8, 0.2],\n",
              "       [0. , 1. ],\n",
              "       [0.2, 0.8],\n",
              "       [1. , 0. ],\n",
              "       [0.8, 0.2],\n",
              "       [0.4, 0.6],\n",
              "       [1. , 0. ],\n",
              "       [0.4, 0.6],\n",
              "       [0.2, 0.8],\n",
              "       [0. , 1. ],\n",
              "       [0.4, 0.6],\n",
              "       [1. , 0. ],\n",
              "       [0.4, 0.6],\n",
              "       [0.6, 0.4],\n",
              "       [0.6, 0.4],\n",
              "       [0.6, 0.4],\n",
              "       [0.4, 0.6],\n",
              "       [0.6, 0.4],\n",
              "       [0.6, 0.4],\n",
              "       [0.6, 0.4],\n",
              "       [0. , 1. ],\n",
              "       [0.6, 0.4],\n",
              "       [0. , 1. ],\n",
              "       [1. , 0. ],\n",
              "       [0.8, 0.2],\n",
              "       [0.8, 0.2],\n",
              "       [0.6, 0.4],\n",
              "       [0.6, 0.4],\n",
              "       [1. , 0. ],\n",
              "       [0.4, 0.6],\n",
              "       [1. , 0. ],\n",
              "       [0.4, 0.6],\n",
              "       [1. , 0. ],\n",
              "       [0.6, 0.4],\n",
              "       [0.4, 0.6],\n",
              "       [0.8, 0.2],\n",
              "       [0.6, 0.4],\n",
              "       [0.8, 0.2],\n",
              "       [0.6, 0.4],\n",
              "       [0.4, 0.6],\n",
              "       [0.2, 0.8],\n",
              "       [1. , 0. ],\n",
              "       [0.8, 0.2],\n",
              "       [0.8, 0.2],\n",
              "       [0.6, 0.4],\n",
              "       [0.8, 0.2],\n",
              "       [0.8, 0.2],\n",
              "       [1. , 0. ],\n",
              "       [1. , 0. ],\n",
              "       [0.2, 0.8],\n",
              "       [0.8, 0.2],\n",
              "       [0.2, 0.8],\n",
              "       [0.2, 0.8],\n",
              "       [0.2, 0.8],\n",
              "       [1. , 0. ],\n",
              "       [0.8, 0.2],\n",
              "       [0.4, 0.6],\n",
              "       [0.6, 0.4],\n",
              "       [0.2, 0.8],\n",
              "       [1. , 0. ],\n",
              "       [0.6, 0.4],\n",
              "       [0.4, 0.6],\n",
              "       [0.8, 0.2],\n",
              "       [0.4, 0.6],\n",
              "       [0.2, 0.8],\n",
              "       [0.8, 0.2],\n",
              "       [0.8, 0.2],\n",
              "       [0.6, 0.4],\n",
              "       [0.4, 0.6],\n",
              "       [0.6, 0.4],\n",
              "       [0.4, 0.6],\n",
              "       [0.6, 0.4],\n",
              "       [0.4, 0.6],\n",
              "       [0.2, 0.8],\n",
              "       [0.6, 0.4],\n",
              "       [0. , 1. ],\n",
              "       [0. , 1. ],\n",
              "       [0.2, 0.8],\n",
              "       [1. , 0. ],\n",
              "       [0. , 1. ],\n",
              "       [1. , 0. ],\n",
              "       [0.2, 0.8],\n",
              "       [0.2, 0.8],\n",
              "       [0.6, 0.4],\n",
              "       [0.8, 0.2],\n",
              "       [0.6, 0.4],\n",
              "       [0.8, 0.2]])"
            ]
          },
          "metadata": {},
          "execution_count": 32
        }
      ]
    },
    {
      "cell_type": "code",
      "source": [
        "from sklearn.metrics import accuracy_score,recall_score,roc_auc_score,confusion_matrix\n",
        "print(\"\\nAccuracy Score:%f\"%(accuracy_score(y_test,y_predict)*100))\n",
        "print(\"Recall Score:%f\"%(recall_score(y_test,y_predict)*100))\n",
        "print(\"ROC score:%f\"%(roc_auc_score(y_test,y_predict)*100))\n",
        "print(confusion_matrix(y_test,y_predict))"
      ],
      "metadata": {
        "colab": {
          "base_uri": "https://localhost:8080/"
        },
        "id": "3p07feUsQ4fH",
        "outputId": "f1cf1aa5-30d1-4568-fc81-56fd631f5d1d"
      },
      "execution_count": null,
      "outputs": [
        {
          "output_type": "stream",
          "name": "stdout",
          "text": [
            "\n",
            "Accuracy Score:95.833333\n",
            "Recall Score:100.000000\n",
            "ROC score:95.000000\n",
            "[[ 9  1]\n",
            " [ 0 14]]\n"
          ]
        }
      ]
    },
    {
      "cell_type": "markdown",
      "source": [
        "Logistic Regression"
      ],
      "metadata": {
        "id": "E6nAFl1STuFX"
      }
    },
    {
      "cell_type": "code",
      "source": [
        "x_train_std=minmax.fit_transform(x_train)\n",
        "y_train_std=minmax.transform(x_test)\n",
        "\n",
        "from sklearn.model_selection import cross_val_score,cross_val_predict\n",
        "from sklearn.linear_model import LogisticRegression\n",
        "lr=LogisticRegression()\n",
        "lr.fit(x_train,y_train)\n",
        "lr_acc=cross_val_score(lr,x_train_std,y_train,cv=3,scoring='accuracy',n_jobs=-1)\n",
        "lr_proba=cross_val_predict(lr,x_train_std,y_train,cv=3,method='predict_proba')"
      ],
      "metadata": {
        "id": "zqfdRMX8Q4cZ"
      },
      "execution_count": null,
      "outputs": []
    },
    {
      "cell_type": "code",
      "source": [
        "lr_acc"
      ],
      "metadata": {
        "colab": {
          "base_uri": "https://localhost:8080/"
        },
        "id": "S8Dl9k1AQ4Z5",
        "outputId": "9be89569-1afc-4d7e-afdc-c2a6920c7f22"
      },
      "execution_count": null,
      "outputs": [
        {
          "output_type": "execute_result",
          "data": {
            "text/plain": [
              "array([0.875     , 0.77419355, 0.90322581])"
            ]
          },
          "metadata": {},
          "execution_count": 35
        }
      ]
    },
    {
      "cell_type": "code",
      "source": [
        "lr_proba"
      ],
      "metadata": {
        "colab": {
          "base_uri": "https://localhost:8080/"
        },
        "id": "DsS8eEfAQ4XM",
        "outputId": "fe6b5cd1-d032-4b11-a389-0170e48dd1fa"
      },
      "execution_count": null,
      "outputs": [
        {
          "output_type": "execute_result",
          "data": {
            "text/plain": [
              "array([[0.56085724, 0.43914276],\n",
              "       [0.5533219 , 0.4466781 ],\n",
              "       [0.16929769, 0.83070231],\n",
              "       [0.79657411, 0.20342589],\n",
              "       [0.39017391, 0.60982609],\n",
              "       [0.57983738, 0.42016262],\n",
              "       [0.3882587 , 0.6117413 ],\n",
              "       [0.61491949, 0.38508051],\n",
              "       [0.31210132, 0.68789868],\n",
              "       [0.56834547, 0.43165453],\n",
              "       [0.82987006, 0.17012994],\n",
              "       [0.64846052, 0.35153948],\n",
              "       [0.23995355, 0.76004645],\n",
              "       [0.62682451, 0.37317549],\n",
              "       [0.35542103, 0.64457897],\n",
              "       [0.35019614, 0.64980386],\n",
              "       [0.25412942, 0.74587058],\n",
              "       [0.34796264, 0.65203736],\n",
              "       [0.63890966, 0.36109034],\n",
              "       [0.2866789 , 0.7133211 ],\n",
              "       [0.52799152, 0.47200848],\n",
              "       [0.62997427, 0.37002573],\n",
              "       [0.54521935, 0.45478065],\n",
              "       [0.35656494, 0.64343506],\n",
              "       [0.51781894, 0.48218106],\n",
              "       [0.48524049, 0.51475951],\n",
              "       [0.59359148, 0.40640852],\n",
              "       [0.41631458, 0.58368542],\n",
              "       [0.58952305, 0.41047695],\n",
              "       [0.14444546, 0.85555454],\n",
              "       [0.61630982, 0.38369018],\n",
              "       [0.57869785, 0.42130215],\n",
              "       [0.63712966, 0.36287034],\n",
              "       [0.66481533, 0.33518467],\n",
              "       [0.63971878, 0.36028122],\n",
              "       [0.83463447, 0.16536553],\n",
              "       [0.31174736, 0.68825264],\n",
              "       [0.75289223, 0.24710777],\n",
              "       [0.60438165, 0.39561835],\n",
              "       [0.78944812, 0.21055188],\n",
              "       [0.54508378, 0.45491622],\n",
              "       [0.53378485, 0.46621515],\n",
              "       [0.63275154, 0.36724846],\n",
              "       [0.59026456, 0.40973544],\n",
              "       [0.46938333, 0.53061667],\n",
              "       [0.60482302, 0.39517698],\n",
              "       [0.31947302, 0.68052698],\n",
              "       [0.32166705, 0.67833295],\n",
              "       [0.64613359, 0.35386641],\n",
              "       [0.6205906 , 0.3794094 ],\n",
              "       [0.6843107 , 0.3156893 ],\n",
              "       [0.53771959, 0.46228041],\n",
              "       [0.62045167, 0.37954833],\n",
              "       [0.49646707, 0.50353293],\n",
              "       [0.8267433 , 0.1732567 ],\n",
              "       [0.5521329 , 0.4478671 ],\n",
              "       [0.32997975, 0.67002025],\n",
              "       [0.68681721, 0.31318279],\n",
              "       [0.34221704, 0.65778296],\n",
              "       [0.32248698, 0.67751302],\n",
              "       [0.1577635 , 0.8422365 ],\n",
              "       [0.7656336 , 0.2343664 ],\n",
              "       [0.63885665, 0.36114335],\n",
              "       [0.46080059, 0.53919941],\n",
              "       [0.59399693, 0.40600307],\n",
              "       [0.34704754, 0.65295246],\n",
              "       [0.80459605, 0.19540395],\n",
              "       [0.46578848, 0.53421152],\n",
              "       [0.49807347, 0.50192653],\n",
              "       [0.61509059, 0.38490941],\n",
              "       [0.44339418, 0.55660582],\n",
              "       [0.31332811, 0.68667189],\n",
              "       [0.5688942 , 0.4311058 ],\n",
              "       [0.66853616, 0.33146384],\n",
              "       [0.49536128, 0.50463872],\n",
              "       [0.37479124, 0.62520876],\n",
              "       [0.60124942, 0.39875058],\n",
              "       [0.54280485, 0.45719515],\n",
              "       [0.38476883, 0.61523117],\n",
              "       [0.23390981, 0.76609019],\n",
              "       [0.24588485, 0.75411515],\n",
              "       [0.47815501, 0.52184499],\n",
              "       [0.15985832, 0.84014168],\n",
              "       [0.3429333 , 0.6570667 ],\n",
              "       [0.41514982, 0.58485018],\n",
              "       [0.75105051, 0.24894949],\n",
              "       [0.21571215, 0.78428785],\n",
              "       [0.8099242 , 0.1900758 ],\n",
              "       [0.2025125 , 0.7974875 ],\n",
              "       [0.47145177, 0.52854823],\n",
              "       [0.32489431, 0.67510569],\n",
              "       [0.82864798, 0.17135202],\n",
              "       [0.69170866, 0.30829134],\n",
              "       [0.72175124, 0.27824876]])"
            ]
          },
          "metadata": {},
          "execution_count": 36
        }
      ]
    },
    {
      "cell_type": "code",
      "source": [
        "y_pred=lr.predict(x_test)\n",
        "y_pred"
      ],
      "metadata": {
        "colab": {
          "base_uri": "https://localhost:8080/"
        },
        "id": "Zc1mJsmyQ4Uq",
        "outputId": "bce80741-eb77-4fdd-e09b-f93316c7fc49"
      },
      "execution_count": null,
      "outputs": [
        {
          "output_type": "execute_result",
          "data": {
            "text/plain": [
              "array([1, 1, 1, 0, 0, 1, 0, 1, 1, 1, 0, 0, 0, 0, 1, 1, 1, 0, 1, 1, 1, 1,\n",
              "       1, 1])"
            ]
          },
          "metadata": {},
          "execution_count": 37
        }
      ]
    },
    {
      "cell_type": "code",
      "source": [
        "print(y_test.values)"
      ],
      "metadata": {
        "colab": {
          "base_uri": "https://localhost:8080/"
        },
        "id": "c5-MufF2Q4R8",
        "outputId": "f17c10f1-8645-45aa-bc2e-808c3f557dd6"
      },
      "execution_count": null,
      "outputs": [
        {
          "output_type": "stream",
          "name": "stdout",
          "text": [
            "[1 1 1 0 0 1 0 1 0 1 0 0 0 0 1 1 0 0 1 1 1 1 1 1]\n"
          ]
        }
      ]
    },
    {
      "cell_type": "code",
      "source": [
        "print(\"List of the Predicted Values:\")\n",
        "print(y_pred)"
      ],
      "metadata": {
        "colab": {
          "base_uri": "https://localhost:8080/"
        },
        "id": "CT0-ksJ_Q4PU",
        "outputId": "73392a0a-0f0a-42a4-9541-c9f84e3c7296"
      },
      "execution_count": null,
      "outputs": [
        {
          "output_type": "stream",
          "name": "stdout",
          "text": [
            "List of the Predicted Values:\n",
            "[1 1 1 0 0 1 0 1 1 1 0 0 0 0 1 1 1 0 1 1 1 1 1 1]\n"
          ]
        }
      ]
    },
    {
      "cell_type": "code",
      "source": [
        "from sklearn.metrics import accuracy_score,recall_score,roc_auc_score,confusion_matrix\n",
        "print(\"\\naccuracy score:%f\"%(accuracy_score(y_test,y_pred)*100))\n",
        "print(\"recall score:%f\"%(recall_score(y_test,y_pred)*100))\n",
        "print(\"roc score:%f\"%(roc_auc_score(y_test,y_pred)*100))\n",
        "print(confusion_matrix(y_test,y_pred))"
      ],
      "metadata": {
        "colab": {
          "base_uri": "https://localhost:8080/"
        },
        "id": "B1WNPX-3Q4Mt",
        "outputId": "66adb425-84ed-4481-f010-0612986594f2"
      },
      "execution_count": null,
      "outputs": [
        {
          "output_type": "stream",
          "name": "stdout",
          "text": [
            "\n",
            "accuracy score:91.666667\n",
            "recall score:100.000000\n",
            "roc score:90.000000\n",
            "[[ 8  2]\n",
            " [ 0 14]]\n"
          ]
        }
      ]
    },
    {
      "cell_type": "markdown",
      "source": [
        "SVM"
      ],
      "metadata": {
        "id": "sSHZqcs1UIGU"
      }
    },
    {
      "cell_type": "code",
      "source": [
        "from sklearn.svm import SVC\n",
        "svc=SVC(kernel='rbf',probability=True)\n",
        "svc_classifier=svc.fit(x_train,y_train)\n",
        "svc_acc=cross_val_score(svc_classifier,x_train_std,y_train,cv=3,scoring=\"accuracy\",n_jobs=-1)\n",
        "svc_proba=cross_val_predict(svc_classifier,x_train_std,y_train,cv=3,method='predict_proba')"
      ],
      "metadata": {
        "id": "wD5paDkzQ4KG"
      },
      "execution_count": null,
      "outputs": []
    },
    {
      "cell_type": "code",
      "source": [
        "svc_acc"
      ],
      "metadata": {
        "colab": {
          "base_uri": "https://localhost:8080/"
        },
        "id": "hfuYx49UQ4G6",
        "outputId": "0d9d74ac-fe33-43da-84fe-ed798d22e627"
      },
      "execution_count": null,
      "outputs": [
        {
          "output_type": "execute_result",
          "data": {
            "text/plain": [
              "array([0.8125    , 0.77419355, 0.87096774])"
            ]
          },
          "metadata": {},
          "execution_count": 42
        }
      ]
    },
    {
      "cell_type": "code",
      "source": [
        "svc_proba"
      ],
      "metadata": {
        "colab": {
          "base_uri": "https://localhost:8080/"
        },
        "id": "kfDVMPzzUOXj",
        "outputId": "efc801fd-2517-4a91-9877-dacfd4630bc4"
      },
      "execution_count": null,
      "outputs": [
        {
          "output_type": "execute_result",
          "data": {
            "text/plain": [
              "array([[0.74387715, 0.25612285],\n",
              "       [0.54634596, 0.45365404],\n",
              "       [0.07058975, 0.92941025],\n",
              "       [0.97687743, 0.02312257],\n",
              "       [0.15928904, 0.84071096],\n",
              "       [0.59626722, 0.40373278],\n",
              "       [0.12910179, 0.87089821],\n",
              "       [0.71209432, 0.28790568],\n",
              "       [0.14370325, 0.85629675],\n",
              "       [0.37987139, 0.62012861],\n",
              "       [0.9809682 , 0.0190318 ],\n",
              "       [0.88669812, 0.11330188],\n",
              "       [0.01306848, 0.98693152],\n",
              "       [0.92025127, 0.07974873],\n",
              "       [0.18291432, 0.81708568],\n",
              "       [0.10035294, 0.89964706],\n",
              "       [0.09683579, 0.90316421],\n",
              "       [0.03477102, 0.96522898],\n",
              "       [0.84033128, 0.15966872],\n",
              "       [0.09523165, 0.90476835],\n",
              "       [0.61542532, 0.38457468],\n",
              "       [0.85006398, 0.14993602],\n",
              "       [0.68183896, 0.31816104],\n",
              "       [0.0834178 , 0.9165822 ],\n",
              "       [0.58512402, 0.41487598],\n",
              "       [0.45017635, 0.54982365],\n",
              "       [0.69485525, 0.30514475],\n",
              "       [0.2575909 , 0.7424091 ],\n",
              "       [0.42134429, 0.57865571],\n",
              "       [0.0112226 , 0.9887774 ],\n",
              "       [0.78266079, 0.21733921],\n",
              "       [0.55023895, 0.44976105],\n",
              "       [0.91877103, 0.08122897],\n",
              "       [0.7643984 , 0.2356016 ],\n",
              "       [0.45239836, 0.54760164],\n",
              "       [0.98925919, 0.01074081],\n",
              "       [0.08509746, 0.91490254],\n",
              "       [0.97794498, 0.02205502],\n",
              "       [0.83615719, 0.16384281],\n",
              "       [0.98881118, 0.01118882],\n",
              "       [0.48941064, 0.51058936],\n",
              "       [0.43701444, 0.56298556],\n",
              "       [0.86139482, 0.13860518],\n",
              "       [0.89822115, 0.10177885],\n",
              "       [0.56853858, 0.43146142],\n",
              "       [0.68527493, 0.31472507],\n",
              "       [0.07127851, 0.92872149],\n",
              "       [0.10169697, 0.89830303],\n",
              "       [0.93835286, 0.06164714],\n",
              "       [0.79869943, 0.20130057],\n",
              "       [0.9499541 , 0.0500459 ],\n",
              "       [0.64136254, 0.35863746],\n",
              "       [0.75240678, 0.24759322],\n",
              "       [0.52371496, 0.47628504],\n",
              "       [0.99225379, 0.00774621],\n",
              "       [0.76789976, 0.23210024],\n",
              "       [0.05076908, 0.94923092],\n",
              "       [0.81478495, 0.18521505],\n",
              "       [0.09741654, 0.90258346],\n",
              "       [0.05175158, 0.94824842],\n",
              "       [0.0678375 , 0.9321625 ],\n",
              "       [0.92958502, 0.07041498],\n",
              "       [0.72636426, 0.27363574],\n",
              "       [0.22948847, 0.77051153],\n",
              "       [0.75978686, 0.24021314],\n",
              "       [0.04294412, 0.95705588],\n",
              "       [0.95940482, 0.04059518],\n",
              "       [0.23735413, 0.76264587],\n",
              "       [0.33859907, 0.66140093],\n",
              "       [0.80101842, 0.19898158],\n",
              "       [0.16811743, 0.83188257],\n",
              "       [0.06515298, 0.93484702],\n",
              "       [0.58437594, 0.41562406],\n",
              "       [0.82984733, 0.17015267],\n",
              "       [0.32217231, 0.67782769],\n",
              "       [0.21824146, 0.78175854],\n",
              "       [0.63758053, 0.36241947],\n",
              "       [0.56924116, 0.43075884],\n",
              "       [0.29070387, 0.70929613],\n",
              "       [0.14598021, 0.85401979],\n",
              "       [0.03438264, 0.96561736],\n",
              "       [0.54734796, 0.45265204],\n",
              "       [0.00936918, 0.99063082],\n",
              "       [0.09456947, 0.90543053],\n",
              "       [0.1408171 , 0.8591829 ],\n",
              "       [0.94924369, 0.05075631],\n",
              "       [0.01022538, 0.98977462],\n",
              "       [0.98401507, 0.01598493],\n",
              "       [0.08324827, 0.91675173],\n",
              "       [0.22499122, 0.77500878],\n",
              "       [0.18650825, 0.81349175],\n",
              "       [0.94620287, 0.05379713],\n",
              "       [0.80245453, 0.19754547],\n",
              "       [0.93861772, 0.06138228]])"
            ]
          },
          "metadata": {},
          "execution_count": 43
        }
      ]
    },
    {
      "cell_type": "code",
      "source": [
        "svc_scores=svc_proba[:,1]\n",
        "svc_scores"
      ],
      "metadata": {
        "colab": {
          "base_uri": "https://localhost:8080/"
        },
        "id": "ZjfO3HzOUOU9",
        "outputId": "ed44e8f5-c7dc-4e3f-b979-aaf4adcbffdb"
      },
      "execution_count": null,
      "outputs": [
        {
          "output_type": "execute_result",
          "data": {
            "text/plain": [
              "array([0.25612285, 0.45365404, 0.92941025, 0.02312257, 0.84071096,\n",
              "       0.40373278, 0.87089821, 0.28790568, 0.85629675, 0.62012861,\n",
              "       0.0190318 , 0.11330188, 0.98693152, 0.07974873, 0.81708568,\n",
              "       0.89964706, 0.90316421, 0.96522898, 0.15966872, 0.90476835,\n",
              "       0.38457468, 0.14993602, 0.31816104, 0.9165822 , 0.41487598,\n",
              "       0.54982365, 0.30514475, 0.7424091 , 0.57865571, 0.9887774 ,\n",
              "       0.21733921, 0.44976105, 0.08122897, 0.2356016 , 0.54760164,\n",
              "       0.01074081, 0.91490254, 0.02205502, 0.16384281, 0.01118882,\n",
              "       0.51058936, 0.56298556, 0.13860518, 0.10177885, 0.43146142,\n",
              "       0.31472507, 0.92872149, 0.89830303, 0.06164714, 0.20130057,\n",
              "       0.0500459 , 0.35863746, 0.24759322, 0.47628504, 0.00774621,\n",
              "       0.23210024, 0.94923092, 0.18521505, 0.90258346, 0.94824842,\n",
              "       0.9321625 , 0.07041498, 0.27363574, 0.77051153, 0.24021314,\n",
              "       0.95705588, 0.04059518, 0.76264587, 0.66140093, 0.19898158,\n",
              "       0.83188257, 0.93484702, 0.41562406, 0.17015267, 0.67782769,\n",
              "       0.78175854, 0.36241947, 0.43075884, 0.70929613, 0.85401979,\n",
              "       0.96561736, 0.45265204, 0.99063082, 0.90543053, 0.8591829 ,\n",
              "       0.05075631, 0.98977462, 0.01598493, 0.91675173, 0.77500878,\n",
              "       0.81349175, 0.05379713, 0.19754547, 0.06138228])"
            ]
          },
          "metadata": {},
          "execution_count": 44
        }
      ]
    },
    {
      "cell_type": "code",
      "source": [
        "y_pred=svc_classifier.predict(x_test)\n",
        "print(\"Actual Flood Values:\")\n",
        "print(y_test.values)"
      ],
      "metadata": {
        "colab": {
          "base_uri": "https://localhost:8080/"
        },
        "id": "Te4cu3QAUOSX",
        "outputId": "9ed7fd58-80ed-4688-de33-e008497ad6c2"
      },
      "execution_count": null,
      "outputs": [
        {
          "output_type": "stream",
          "name": "stdout",
          "text": [
            "Actual Flood Values:\n",
            "[1 1 1 0 0 1 0 1 0 1 0 0 0 0 1 1 0 0 1 1 1 1 1 1]\n"
          ]
        }
      ]
    },
    {
      "cell_type": "code",
      "source": [
        "print(\"Predicted Flood Values:\")\n",
        "print(y_pred)"
      ],
      "metadata": {
        "colab": {
          "base_uri": "https://localhost:8080/"
        },
        "id": "jfWlzthJUOPx",
        "outputId": "eaca0fff-640d-42bd-b18b-9423c3f57fa6"
      },
      "execution_count": null,
      "outputs": [
        {
          "output_type": "stream",
          "name": "stdout",
          "text": [
            "Predicted Flood Values:\n",
            "[1 1 1 0 0 0 0 1 0 1 0 0 0 0 1 1 0 0 1 1 1 1 1 1]\n"
          ]
        }
      ]
    },
    {
      "cell_type": "code",
      "source": [
        "from sklearn.metrics import accuracy_score,recall_score,roc_auc_score,confusion_matrix\n",
        "print(\"\\naccuracy score:%f\"%(accuracy_score(y_test,y_pred)*100))\n",
        "print(\"recall score:%f\"%(recall_score(y_test,y_pred)*100))\n",
        "print(\"roc score:%f\"%(roc_auc_score(y_test,y_pred)*100))\n",
        "print(confusion_matrix(y_test,y_pred))"
      ],
      "metadata": {
        "colab": {
          "base_uri": "https://localhost:8080/"
        },
        "id": "J7IHNGLGUONa",
        "outputId": "777887f4-d064-452b-ab3c-9f7e9c446bac"
      },
      "execution_count": null,
      "outputs": [
        {
          "output_type": "stream",
          "name": "stdout",
          "text": [
            "\n",
            "accuracy score:95.833333\n",
            "recall score:92.857143\n",
            "roc score:96.428571\n",
            "[[10  0]\n",
            " [ 1 13]]\n"
          ]
        }
      ]
    },
    {
      "cell_type": "markdown",
      "source": [
        "Decision Tree"
      ],
      "metadata": {
        "id": "-OikT3StUfEM"
      }
    },
    {
      "cell_type": "code",
      "source": [
        "from sklearn.tree import DecisionTreeClassifier\n",
        "dtc_clf=DecisionTreeClassifier()\n",
        "dtc_clf.fit(x_train,y_train)\n",
        "dtc_clf_acc=cross_val_score(dtc_clf,x_train_std,y_train,cv=3,scoring=\"accuracy\",n_jobs=-1)\n",
        "dtc_clf_acc"
      ],
      "metadata": {
        "colab": {
          "base_uri": "https://localhost:8080/"
        },
        "id": "iTV2Z4CjUOKt",
        "outputId": "d6f59c2d-302b-4b0d-a73f-53c521fbd1f8"
      },
      "execution_count": null,
      "outputs": [
        {
          "output_type": "execute_result",
          "data": {
            "text/plain": [
              "array([0.46875   , 0.61290323, 0.74193548])"
            ]
          },
          "metadata": {},
          "execution_count": 48
        }
      ]
    },
    {
      "cell_type": "code",
      "source": [
        "print(\"Predicted Values:\")\n",
        "y_pred=dtc_clf.predict(x_test)\n",
        "y_pred"
      ],
      "metadata": {
        "colab": {
          "base_uri": "https://localhost:8080/"
        },
        "id": "yNFu5nsRUOH2",
        "outputId": "aa0fc6f3-e80d-4648-f03c-3cfb42b664cd"
      },
      "execution_count": null,
      "outputs": [
        {
          "output_type": "stream",
          "name": "stdout",
          "text": [
            "Predicted Values:\n"
          ]
        },
        {
          "output_type": "execute_result",
          "data": {
            "text/plain": [
              "array([0, 1, 0, 0, 0, 0, 0, 1, 0, 1, 1, 1, 0, 0, 0, 0, 0, 0, 1, 1, 1, 0,\n",
              "       0, 0])"
            ]
          },
          "metadata": {},
          "execution_count": 49
        }
      ]
    },
    {
      "cell_type": "code",
      "source": [
        "print(\"Actual Values:\")\n",
        "print(y_test.values)"
      ],
      "metadata": {
        "colab": {
          "base_uri": "https://localhost:8080/"
        },
        "id": "cK7-H2W7UOFF",
        "outputId": "f27b4663-1ddc-4081-8997-227dc6e7ca08"
      },
      "execution_count": null,
      "outputs": [
        {
          "output_type": "stream",
          "name": "stdout",
          "text": [
            "Actual Values:\n",
            "[1 1 1 0 0 1 0 1 0 1 0 0 0 0 1 1 0 0 1 1 1 1 1 1]\n"
          ]
        }
      ]
    },
    {
      "cell_type": "code",
      "source": [
        "from sklearn.metrics import accuracy_score,recall_score,roc_auc_score,confusion_matrix\n",
        "print(\"\\naccuracy score:%f\"%(accuracy_score(y_test,y_pred)*100))\n",
        "print(\"recall score:%f\"%(recall_score(y_test,y_pred)*100))\n",
        "print(\"roc score:%f\"%(roc_auc_score(y_test,y_pred)*100))\n",
        "print(confusion_matrix(y_test,y_pred))"
      ],
      "metadata": {
        "colab": {
          "base_uri": "https://localhost:8080/"
        },
        "id": "SrzETw5VUOAX",
        "outputId": "6bc2293a-e6c6-4eb7-bd71-7f76973c2fbd"
      },
      "execution_count": null,
      "outputs": [
        {
          "output_type": "stream",
          "name": "stdout",
          "text": [
            "\n",
            "accuracy score:58.333333\n",
            "recall score:42.857143\n",
            "roc score:61.428571\n",
            "[[8 2]\n",
            " [8 6]]\n"
          ]
        }
      ]
    },
    {
      "cell_type": "markdown",
      "source": [
        "Random Forest"
      ],
      "metadata": {
        "id": "ayvImllLUtbc"
      }
    },
    {
      "cell_type": "code",
      "source": [
        "from sklearn.ensemble import RandomForestClassifier\n",
        "rmf=RandomForestClassifier(max_depth=3,random_state=0)\n",
        "rmf_clf=rmf.fit(x_train,y_train)\n",
        "rmf_clf"
      ],
      "metadata": {
        "colab": {
          "base_uri": "https://localhost:8080/"
        },
        "id": "iuowuUyzUN9j",
        "outputId": "8374a6f0-6866-401b-e3f0-f53f4bf98ffb"
      },
      "execution_count": null,
      "outputs": [
        {
          "output_type": "execute_result",
          "data": {
            "text/plain": [
              "RandomForestClassifier(max_depth=3, random_state=0)"
            ]
          },
          "metadata": {},
          "execution_count": 52
        }
      ]
    },
    {
      "cell_type": "code",
      "source": [
        "rmf_clf_acc=cross_val_score(rmf_clf,x_train_std,y_train,cv=3,scoring=\"accuracy\",n_jobs=-1)\n",
        "rmf_proba=cross_val_predict(rmf_clf,x_train_std,y_train,cv=3,method='predict_proba')"
      ],
      "metadata": {
        "id": "fifIviHHUN6c"
      },
      "execution_count": null,
      "outputs": []
    },
    {
      "cell_type": "code",
      "source": [
        "rmf_clf_acc"
      ],
      "metadata": {
        "colab": {
          "base_uri": "https://localhost:8080/"
        },
        "id": "VzWdRqatUN2W",
        "outputId": "abfcce3c-9ab1-4e59-91b8-b1260f901900"
      },
      "execution_count": null,
      "outputs": [
        {
          "output_type": "execute_result",
          "data": {
            "text/plain": [
              "array([0.75      , 0.74193548, 0.80645161])"
            ]
          },
          "metadata": {},
          "execution_count": 54
        }
      ]
    },
    {
      "cell_type": "code",
      "source": [
        "rmf_proba"
      ],
      "metadata": {
        "colab": {
          "base_uri": "https://localhost:8080/"
        },
        "id": "kjWOzfEsUNzl",
        "outputId": "ec404686-6ce2-433d-89bb-49e7feaefafa"
      },
      "execution_count": null,
      "outputs": [
        {
          "output_type": "execute_result",
          "data": {
            "text/plain": [
              "array([[0.54607699, 0.45392301],\n",
              "       [0.62818662, 0.37181338],\n",
              "       [0.14782685, 0.85217315],\n",
              "       [0.83724284, 0.16275716],\n",
              "       [0.37023107, 0.62976893],\n",
              "       [0.37142828, 0.62857172],\n",
              "       [0.32640336, 0.67359664],\n",
              "       [0.62500113, 0.37499887],\n",
              "       [0.34471675, 0.65528325],\n",
              "       [0.45073777, 0.54926223],\n",
              "       [0.85083831, 0.14916169],\n",
              "       [0.61050191, 0.38949809],\n",
              "       [0.30851599, 0.69148401],\n",
              "       [0.58588803, 0.41411197],\n",
              "       [0.46367437, 0.53632563],\n",
              "       [0.42721513, 0.57278487],\n",
              "       [0.18451914, 0.81548086],\n",
              "       [0.25073601, 0.74926399],\n",
              "       [0.78419035, 0.21580965],\n",
              "       [0.24830928, 0.75169072],\n",
              "       [0.49372154, 0.50627846],\n",
              "       [0.61162802, 0.38837198],\n",
              "       [0.43113414, 0.56886586],\n",
              "       [0.24391421, 0.75608579],\n",
              "       [0.48536563, 0.51463437],\n",
              "       [0.46044064, 0.53955936],\n",
              "       [0.43363149, 0.56636851],\n",
              "       [0.53975627, 0.46024373],\n",
              "       [0.37930115, 0.62069885],\n",
              "       [0.20754553, 0.79245447],\n",
              "       [0.4308951 , 0.5691049 ],\n",
              "       [0.61498231, 0.38501769],\n",
              "       [0.63737237, 0.36262763],\n",
              "       [0.65077111, 0.34922889],\n",
              "       [0.68018202, 0.31981798],\n",
              "       [0.85409817, 0.14590183],\n",
              "       [0.36930879, 0.63069121],\n",
              "       [0.66192863, 0.33807137],\n",
              "       [0.3163624 , 0.6836376 ],\n",
              "       [0.69439315, 0.30560685],\n",
              "       [0.71159117, 0.28840883],\n",
              "       [0.32900328, 0.67099672],\n",
              "       [0.64282193, 0.35717807],\n",
              "       [0.61094304, 0.38905696],\n",
              "       [0.56088772, 0.43911228],\n",
              "       [0.6079225 , 0.3920775 ],\n",
              "       [0.50454998, 0.49545002],\n",
              "       [0.34791884, 0.65208116],\n",
              "       [0.62001199, 0.37998801],\n",
              "       [0.5009693 , 0.4990307 ],\n",
              "       [0.49455724, 0.50544276],\n",
              "       [0.59879753, 0.40120247],\n",
              "       [0.59805511, 0.40194489],\n",
              "       [0.42503836, 0.57496164],\n",
              "       [0.908276  , 0.091724  ],\n",
              "       [0.42568743, 0.57431257],\n",
              "       [0.32240075, 0.67759925],\n",
              "       [0.66488036, 0.33511964],\n",
              "       [0.30041544, 0.69958456],\n",
              "       [0.40379246, 0.59620754],\n",
              "       [0.35154418, 0.64845582],\n",
              "       [0.71812214, 0.28187786],\n",
              "       [0.68332402, 0.31667598],\n",
              "       [0.47937527, 0.52062473],\n",
              "       [0.63585491, 0.36414509],\n",
              "       [0.15416356, 0.84583644],\n",
              "       [0.78533471, 0.21466529],\n",
              "       [0.33161993, 0.66838007],\n",
              "       [0.39642985, 0.60357015],\n",
              "       [0.48842497, 0.51157503],\n",
              "       [0.41221593, 0.58778407],\n",
              "       [0.34393352, 0.65606648],\n",
              "       [0.49358832, 0.50641168],\n",
              "       [0.64275282, 0.35724718],\n",
              "       [0.42679535, 0.57320465],\n",
              "       [0.58162095, 0.41837905],\n",
              "       [0.46743672, 0.53256328],\n",
              "       [0.6042603 , 0.3957397 ],\n",
              "       [0.62140953, 0.37859047],\n",
              "       [0.41935887, 0.58064113],\n",
              "       [0.32744409, 0.67255591],\n",
              "       [0.42446575, 0.57553425],\n",
              "       [0.16194176, 0.83805824],\n",
              "       [0.29547007, 0.70452993],\n",
              "       [0.31134688, 0.68865312],\n",
              "       [0.70187112, 0.29812888],\n",
              "       [0.1765664 , 0.8234336 ],\n",
              "       [0.70671221, 0.29328779],\n",
              "       [0.25243185, 0.74756815],\n",
              "       [0.38924571, 0.61075429],\n",
              "       [0.28711871, 0.71288129],\n",
              "       [0.75885397, 0.24114603],\n",
              "       [0.66469432, 0.33530568],\n",
              "       [0.76269612, 0.23730388]])"
            ]
          },
          "metadata": {},
          "execution_count": 56
        }
      ]
    },
    {
      "cell_type": "code",
      "source": [
        "from sklearn.metrics import accuracy_score,recall_score,roc_auc_score,confusion_matrix\n",
        "print(\"\\naccuracy score:%f\"%(accuracy_score(y_test,y_pred)*100))\n",
        "print(\"recall score:%f\"%(recall_score(y_test,y_pred)*100))\n",
        "print(\"roc score:%f\"%(roc_auc_score(y_test,y_pred)*100))\n",
        "print(confusion_matrix(y_test,y_pred))"
      ],
      "metadata": {
        "colab": {
          "base_uri": "https://localhost:8080/"
        },
        "id": "SZXNUBdtUNti",
        "outputId": "fcb93901-df1a-4bfe-cada-e80839f5ca50"
      },
      "execution_count": null,
      "outputs": [
        {
          "output_type": "stream",
          "name": "stdout",
          "text": [
            "\n",
            "accuracy score:58.333333\n",
            "recall score:42.857143\n",
            "roc score:61.428571\n",
            "[[8 2]\n",
            " [8 6]]\n"
          ]
        }
      ]
    },
    {
      "cell_type": "markdown",
      "source": [
        "Ensemble"
      ],
      "metadata": {
        "id": "5joqQoVpXhKL"
      }
    },
    {
      "cell_type": "code",
      "source": [
        "from sklearn.ensemble import VotingClassifier\n",
        "from sklearn.ensemble import RandomForestClassifier\n",
        "from sklearn.linear_model import LogisticRegression\n",
        "from sklearn.neighbors import KNeighborsClassifier\n",
        "\n",
        "log_clf = LogisticRegression(solver=\"liblinear\", random_state=42)\n",
        "rnd_clf = RandomForestClassifier(n_estimators=10, random_state=42)\n",
        "knn_clf = KNeighborsClassifier()\n",
        "\n",
        "voting = VotingClassifier(\n",
        "    estimators=[('lr', log_clf), ('rf', rnd_clf), ('knn', knn_clf)],\n",
        "    voting='hard')"
      ],
      "metadata": {
        "id": "69qPJ7spXg3O"
      },
      "execution_count": null,
      "outputs": []
    },
    {
      "cell_type": "code",
      "source": [
        "voting_clf = voting.fit(x_train, y_train)"
      ],
      "metadata": {
        "id": "DGOBPKECXkmF"
      },
      "execution_count": null,
      "outputs": []
    },
    {
      "cell_type": "code",
      "source": [
        "from sklearn.metrics import accuracy_score\n",
        "\n",
        "for clf in (log_clf, rnd_clf, knn_clf, voting_clf):\n",
        "    clf.fit(x_train, y_train)\n",
        "    y_pred = clf.predict(x_test)\n",
        "    print(clf.__class__.__name__, accuracy_score(y_test, y_pred))"
      ],
      "metadata": {
        "colab": {
          "base_uri": "https://localhost:8080/"
        },
        "id": "0R8sMlQLXo6v",
        "outputId": "cfd0168b-5e6e-426c-f021-5f650dee6063"
      },
      "execution_count": null,
      "outputs": [
        {
          "output_type": "stream",
          "name": "stdout",
          "text": [
            "LogisticRegression 0.9166666666666666\n",
            "RandomForestClassifier 0.7083333333333334\n",
            "KNeighborsClassifier 0.9583333333333334\n",
            "VotingClassifier 0.9166666666666666\n"
          ]
        }
      ]
    },
    {
      "cell_type": "markdown",
      "source": [
        "#Comparing all the prediction models"
      ],
      "metadata": {
        "id": "U0aVfKeGVE4m"
      }
    },
    {
      "cell_type": "code",
      "source": [
        "models = []\n",
        "from sklearn.neighbors import KNeighborsClassifier\n",
        "from sklearn.svm import SVC\n",
        "from sklearn.linear_model import LogisticRegression\n",
        "from sklearn.tree import DecisionTreeClassifier\n",
        "from sklearn.naive_bayes import GaussianNB\n",
        "from sklearn.ensemble import RandomForestClassifier\n",
        "from sklearn.ensemble import GradientBoostingClassifier\n",
        "from sklearn.ensemble import VotingClassifier\n",
        "models.append(('KNN', KNeighborsClassifier()))\n",
        "models.append(('LR', LogisticRegression()))\n",
        "models.append(('SVC', SVC()))\n",
        "models.append(('DT', DecisionTreeClassifier()))\n",
        "models.append(('RF', RandomForestClassifier()))\n",
        "models.append(('EL', VotingClassifier(\n",
        "    estimators=[('lr', log_clf), ('rf', rnd_clf), ('knn', knn_clf)],\n",
        "    voting='hard')))\n",
        "\n",
        "names = []\n",
        "scores = []\n",
        "for name, model in models:\n",
        "    model.fit(x_train, y_train)\n",
        "    y_pred = model.predict(x_test)\n",
        "    scores.append(accuracy_score(y_test, y_pred))\n",
        "    names.append(name)\n",
        "tr_split = pd.DataFrame({'Name': names, 'Score': scores})\n",
        "tr_split"
      ],
      "metadata": {
        "colab": {
          "base_uri": "https://localhost:8080/",
          "height": 237
        },
        "id": "7RzlRVOUVG5j",
        "outputId": "5f2bc75a-fa7c-43b8-dc73-32a10425eb3c"
      },
      "execution_count": null,
      "outputs": [
        {
          "output_type": "execute_result",
          "data": {
            "text/plain": [
              "  Name     Score\n",
              "0  KNN  0.958333\n",
              "1   LR  0.916667\n",
              "2  SVC  0.958333\n",
              "3   DT  0.750000\n",
              "4   RF  0.750000\n",
              "5   EL  0.916667"
            ],
            "text/html": [
              "\n",
              "  <div id=\"df-a554413b-a828-499f-a38b-bb1cdb645c9d\">\n",
              "    <div class=\"colab-df-container\">\n",
              "      <div>\n",
              "<style scoped>\n",
              "    .dataframe tbody tr th:only-of-type {\n",
              "        vertical-align: middle;\n",
              "    }\n",
              "\n",
              "    .dataframe tbody tr th {\n",
              "        vertical-align: top;\n",
              "    }\n",
              "\n",
              "    .dataframe thead th {\n",
              "        text-align: right;\n",
              "    }\n",
              "</style>\n",
              "<table border=\"1\" class=\"dataframe\">\n",
              "  <thead>\n",
              "    <tr style=\"text-align: right;\">\n",
              "      <th></th>\n",
              "      <th>Name</th>\n",
              "      <th>Score</th>\n",
              "    </tr>\n",
              "  </thead>\n",
              "  <tbody>\n",
              "    <tr>\n",
              "      <th>0</th>\n",
              "      <td>KNN</td>\n",
              "      <td>0.958333</td>\n",
              "    </tr>\n",
              "    <tr>\n",
              "      <th>1</th>\n",
              "      <td>LR</td>\n",
              "      <td>0.916667</td>\n",
              "    </tr>\n",
              "    <tr>\n",
              "      <th>2</th>\n",
              "      <td>SVC</td>\n",
              "      <td>0.958333</td>\n",
              "    </tr>\n",
              "    <tr>\n",
              "      <th>3</th>\n",
              "      <td>DT</td>\n",
              "      <td>0.750000</td>\n",
              "    </tr>\n",
              "    <tr>\n",
              "      <th>4</th>\n",
              "      <td>RF</td>\n",
              "      <td>0.750000</td>\n",
              "    </tr>\n",
              "    <tr>\n",
              "      <th>5</th>\n",
              "      <td>EL</td>\n",
              "      <td>0.916667</td>\n",
              "    </tr>\n",
              "  </tbody>\n",
              "</table>\n",
              "</div>\n",
              "      <button class=\"colab-df-convert\" onclick=\"convertToInteractive('df-a554413b-a828-499f-a38b-bb1cdb645c9d')\"\n",
              "              title=\"Convert this dataframe to an interactive table.\"\n",
              "              style=\"display:none;\">\n",
              "        \n",
              "  <svg xmlns=\"http://www.w3.org/2000/svg\" height=\"24px\"viewBox=\"0 0 24 24\"\n",
              "       width=\"24px\">\n",
              "    <path d=\"M0 0h24v24H0V0z\" fill=\"none\"/>\n",
              "    <path d=\"M18.56 5.44l.94 2.06.94-2.06 2.06-.94-2.06-.94-.94-2.06-.94 2.06-2.06.94zm-11 1L8.5 8.5l.94-2.06 2.06-.94-2.06-.94L8.5 2.5l-.94 2.06-2.06.94zm10 10l.94 2.06.94-2.06 2.06-.94-2.06-.94-.94-2.06-.94 2.06-2.06.94z\"/><path d=\"M17.41 7.96l-1.37-1.37c-.4-.4-.92-.59-1.43-.59-.52 0-1.04.2-1.43.59L10.3 9.45l-7.72 7.72c-.78.78-.78 2.05 0 2.83L4 21.41c.39.39.9.59 1.41.59.51 0 1.02-.2 1.41-.59l7.78-7.78 2.81-2.81c.8-.78.8-2.07 0-2.86zM5.41 20L4 18.59l7.72-7.72 1.47 1.35L5.41 20z\"/>\n",
              "  </svg>\n",
              "      </button>\n",
              "      \n",
              "  <style>\n",
              "    .colab-df-container {\n",
              "      display:flex;\n",
              "      flex-wrap:wrap;\n",
              "      gap: 12px;\n",
              "    }\n",
              "\n",
              "    .colab-df-convert {\n",
              "      background-color: #E8F0FE;\n",
              "      border: none;\n",
              "      border-radius: 50%;\n",
              "      cursor: pointer;\n",
              "      display: none;\n",
              "      fill: #1967D2;\n",
              "      height: 32px;\n",
              "      padding: 0 0 0 0;\n",
              "      width: 32px;\n",
              "    }\n",
              "\n",
              "    .colab-df-convert:hover {\n",
              "      background-color: #E2EBFA;\n",
              "      box-shadow: 0px 1px 2px rgba(60, 64, 67, 0.3), 0px 1px 3px 1px rgba(60, 64, 67, 0.15);\n",
              "      fill: #174EA6;\n",
              "    }\n",
              "\n",
              "    [theme=dark] .colab-df-convert {\n",
              "      background-color: #3B4455;\n",
              "      fill: #D2E3FC;\n",
              "    }\n",
              "\n",
              "    [theme=dark] .colab-df-convert:hover {\n",
              "      background-color: #434B5C;\n",
              "      box-shadow: 0px 1px 3px 1px rgba(0, 0, 0, 0.15);\n",
              "      filter: drop-shadow(0px 1px 2px rgba(0, 0, 0, 0.3));\n",
              "      fill: #FFFFFF;\n",
              "    }\n",
              "  </style>\n",
              "\n",
              "      <script>\n",
              "        const buttonEl =\n",
              "          document.querySelector('#df-a554413b-a828-499f-a38b-bb1cdb645c9d button.colab-df-convert');\n",
              "        buttonEl.style.display =\n",
              "          google.colab.kernel.accessAllowed ? 'block' : 'none';\n",
              "\n",
              "        async function convertToInteractive(key) {\n",
              "          const element = document.querySelector('#df-a554413b-a828-499f-a38b-bb1cdb645c9d');\n",
              "          const dataTable =\n",
              "            await google.colab.kernel.invokeFunction('convertToInteractive',\n",
              "                                                     [key], {});\n",
              "          if (!dataTable) return;\n",
              "\n",
              "          const docLinkHtml = 'Like what you see? Visit the ' +\n",
              "            '<a target=\"_blank\" href=https://colab.research.google.com/notebooks/data_table.ipynb>data table notebook</a>'\n",
              "            + ' to learn more about interactive tables.';\n",
              "          element.innerHTML = '';\n",
              "          dataTable['output_type'] = 'display_data';\n",
              "          await google.colab.output.renderOutput(dataTable, element);\n",
              "          const docLink = document.createElement('div');\n",
              "          docLink.innerHTML = docLinkHtml;\n",
              "          element.appendChild(docLink);\n",
              "        }\n",
              "      </script>\n",
              "    </div>\n",
              "  </div>\n",
              "  "
            ]
          },
          "metadata": {},
          "execution_count": 65
        }
      ]
    },
    {
      "cell_type": "code",
      "source": [
        "import seaborn as sns\n",
        "axis = sns.barplot(x = 'Name', y = 'Score', data =tr_split )\n",
        "axis.set(xlabel='Classifier Models', ylabel='Accuracy of the Model')\n",
        "for p in axis.patches:\n",
        "    height = p.get_height()\n",
        "    axis.text(p.get_x() + p.get_width()/2, height + 0.01, '{:1.4f}'.format(height), ha=\"center\")\n",
        "\n",
        "plt.show()"
      ],
      "metadata": {
        "colab": {
          "base_uri": "https://localhost:8080/",
          "height": 282
        },
        "id": "W7UTcbyUVL0A",
        "outputId": "aa248e53-55ed-4d61-8047-e2164e06c465"
      },
      "execution_count": null,
      "outputs": [
        {
          "output_type": "display_data",
          "data": {
            "text/plain": [
              "<Figure size 432x288 with 1 Axes>"
            ],
            "image/png": "[encoded data removed]"
          },
          "metadata": {
            "needs_background": "light"
          }
        }
      ]
    },
    {
      "cell_type": "code",
      "source": [
        "tr_split['Score'].max()"
      ],
      "metadata": {
        "colab": {
          "base_uri": "https://localhost:8080/"
        },
        "id": "e86YA_shVU4h",
        "outputId": "a1e40b99-aa9f-49a0-c2a5-0d05daf3a736"
      },
      "execution_count": null,
      "outputs": [
        {
          "output_type": "execute_result",
          "data": {
            "text/plain": [
              "0.9583333333333334"
            ]
          },
          "metadata": {},
          "execution_count": 61
        }
      ]
    }
  ]
}